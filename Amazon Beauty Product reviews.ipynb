{
  "cells": [
    {
      "cell_type": "code",
      "execution_count": null,
      "metadata": {
        "colab": {
          "base_uri": "https://localhost:8080/"
        },
        "id": "p7yQF11XaQEd",
        "outputId": "cb62c253-26e6-49be-916d-01e08271ebf7"
      },
      "outputs": [
        {
          "output_type": "stream",
          "name": "stdout",
          "text": [
            "Mounted at /content/drive/\n"
          ]
        }
      ],
      "source": [
        "from google.colab import drive\n",
        "drive.mount('/content/drive/')"
      ]
    },
    {
      "cell_type": "code",
      "execution_count": null,
      "metadata": {
        "colab": {
          "base_uri": "https://localhost:8080/"
        },
        "id": "tBLmIg7MfSq3",
        "outputId": "1ca1a8ed-3196-484b-bc3a-c27efe9de61c"
      },
      "outputs": [
        {
          "output_type": "stream",
          "name": "stderr",
          "text": [
            "[nltk_data] Downloading package stopwords to /root/nltk_data...\n",
            "[nltk_data]   Unzipping corpora/stopwords.zip.\n"
          ]
        }
      ],
      "source": [
        "import pandas as pd\n",
        "import re\n",
        "import nltk\n",
        "nltk.download('stopwords')\n",
        "pd.set_option('max_colwidth', 800)\n",
        "import seaborn as sns\n",
        "sns.set_theme(style=\"whitegrid\")"
      ]
    },
    {
      "cell_type": "code",
      "execution_count": null,
      "metadata": {
        "colab": {
          "base_uri": "https://localhost:8080/"
        },
        "id": "9hFfOkQujPVH",
        "outputId": "86d2380f-091a-4c63-8406-b3e5161277a6"
      },
      "outputs": [
        {
          "output_type": "execute_result",
          "data": {
            "text/plain": [
              "(198502, 9)"
            ]
          },
          "metadata": {},
          "execution_count": 3
        }
      ],
      "source": [
        "review_beauty_df = pd.read_json('/content/drive/MyDrive/capstone_project/reviews_Beauty_5.json.gz', orient='records', lines=True)\n",
        "review_beauty_df.shape"
      ]
    },
    {
      "cell_type": "code",
      "execution_count": null,
      "metadata": {
        "colab": {
          "base_uri": "https://localhost:8080/"
        },
        "id": "nVN3BVpwa6HQ",
        "outputId": "786e8a5a-4d81-4fe3-cbb4-66ab62c0b4eb"
      },
      "outputs": [
        {
          "output_type": "execute_result",
          "data": {
            "text/plain": [
              "reviewerID        object\n",
              "asin              object\n",
              "reviewerName      object\n",
              "helpful           object\n",
              "reviewText        object\n",
              "overall            int64\n",
              "summary           object\n",
              "unixReviewTime     int64\n",
              "reviewTime        object\n",
              "dtype: object"
            ]
          },
          "metadata": {},
          "execution_count": 4
        }
      ],
      "source": [
        "review_beauty_df.dtypes"
      ]
    },
    {
      "cell_type": "code",
      "execution_count": null,
      "metadata": {
        "colab": {
          "base_uri": "https://localhost:8080/"
        },
        "id": "xObjM2jnagls",
        "outputId": "2a1214a8-bc08-4073-b31c-a5ce0b4859bd"
      },
      "outputs": [
        {
          "output_type": "stream",
          "name": "stdout",
          "text": [
            "Total number of words there in the text beauty categories reviews :  17881008\n"
          ]
        }
      ],
      "source": [
        "print(\"Total number of words there in the text beauty categories reviews : \",review_beauty_df[\"reviewText\"].apply(lambda x:len(x.split(\" \"))).sum())"
      ]
    },
    {
      "cell_type": "code",
      "execution_count": null,
      "metadata": {
        "id": "4Kp3qfvhc1yb"
      },
      "outputs": [],
      "source": [
        "from nltk.corpus import stopwords\n",
        "special_character_remover = re.compile('[/(){}\\[\\]\\|@,;]')\n",
        "extra_symbol_remover = re.compile('[^0-9a-z #+_]')   # \" ^ \" is negation \n",
        "STOPWORDS = set(stopwords.words('english'))"
      ]
    },
    {
      "cell_type": "code",
      "execution_count": null,
      "metadata": {
        "id": "yPA7VgCVeWR_"
      },
      "outputs": [],
      "source": [
        "def clean_text(text):\n",
        "    text = text.lower()\n",
        "    text = special_character_remover.sub(' ', text)\n",
        "    text = extra_symbol_remover.sub('', text)\n",
        "    text = ' '.join(word for word in text.split() if word not in STOPWORDS)\n",
        "    return text"
      ]
    },
    {
      "cell_type": "code",
      "execution_count": null,
      "metadata": {
        "id": "KFqSDVByecjo"
      },
      "outputs": [],
      "source": [
        "review_beauty_df[\"reviewText\"]= review_beauty_df[\"reviewText\"].apply(clean_text)"
      ]
    },
    {
      "cell_type": "code",
      "execution_count": null,
      "metadata": {
        "colab": {
          "base_uri": "https://localhost:8080/"
        },
        "id": "FeKPoT4Yetc0",
        "outputId": "d1642060-79a1-42c6-c5ef-b35e09dee578"
      },
      "outputs": [
        {
          "output_type": "stream",
          "name": "stdout",
          "text": [
            "Total number of words there in the text beauty categories reviews  after Text preprocessing:  8913436\n"
          ]
        }
      ],
      "source": [
        "print(\"Total number of words there in the text beauty categories reviews  after Text preprocessing: \",review_beauty_df[\"reviewText\"].apply(lambda x:len(x.split(\" \"))).sum())"
      ]
    },
    {
      "cell_type": "code",
      "execution_count": null,
      "metadata": {
        "id": "3hB3CMzaK2Lp"
      },
      "outputs": [],
      "source": [
        "beauty=review_beauty_df[[\"reviewText\",\"summary\",\"asin\"]]"
      ]
    },
    {
      "cell_type": "code",
      "execution_count": null,
      "metadata": {
        "id": "IIWiCGOwXcvr"
      },
      "outputs": [],
      "source": []
    },
    {
      "cell_type": "code",
      "execution_count": null,
      "metadata": {
        "colab": {
          "base_uri": "https://localhost:8080/"
        },
        "id": "KeCDV7ccyWrP",
        "outputId": "46c85fe2-0689-4d2f-ab6c-3a03e5bd550b"
      },
      "outputs": [
        {
          "output_type": "stream",
          "name": "stderr",
          "text": [
            "/usr/local/lib/python3.7/dist-packages/ipykernel_launcher.py:1: SettingWithCopyWarning: \n",
            "A value is trying to be set on a copy of a slice from a DataFrame.\n",
            "Try using .loc[row_indexer,col_indexer] = value instead\n",
            "\n",
            "See the caveats in the documentation: https://pandas.pydata.org/pandas-docs/stable/user_guide/indexing.html#returning-a-view-versus-a-copy\n",
            "  \"\"\"Entry point for launching an IPython kernel.\n"
          ]
        }
      ],
      "source": [
        "beauty[\"combined_text\"]=beauty[\"reviewText\"]+\" \"+beauty[\"summary\"]"
      ]
    },
    {
      "cell_type": "code",
      "execution_count": null,
      "metadata": {
        "id": "1v72D8XD6WyN"
      },
      "outputs": [],
      "source": [
        "recom=[]\n",
        "for i in review_beauty_df[\"overall\"]:\n",
        "  if(i<=2):\n",
        "    recom.append(\"NOT RECOMMENDED\")\n",
        "  else:\n",
        "    recom.append(\"RECOMMENDED\")"
      ]
    },
    {
      "cell_type": "code",
      "execution_count": null,
      "metadata": {
        "colab": {
          "base_uri": "https://localhost:8080/"
        },
        "id": "GnD6Fqc_8w-6",
        "outputId": "7f17ba5a-48c2-41d7-e473-3fe2babb96ff"
      },
      "outputs": [
        {
          "output_type": "stream",
          "name": "stderr",
          "text": [
            "/usr/local/lib/python3.7/dist-packages/ipykernel_launcher.py:1: SettingWithCopyWarning: \n",
            "A value is trying to be set on a copy of a slice from a DataFrame.\n",
            "Try using .loc[row_indexer,col_indexer] = value instead\n",
            "\n",
            "See the caveats in the documentation: https://pandas.pydata.org/pandas-docs/stable/user_guide/indexing.html#returning-a-view-versus-a-copy\n",
            "  \"\"\"Entry point for launching an IPython kernel.\n"
          ]
        }
      ],
      "source": [
        "beauty[\"decision\"]=recom"
      ]
    },
    {
      "cell_type": "code",
      "execution_count": null,
      "metadata": {
        "colab": {
          "base_uri": "https://localhost:8080/",
          "height": 1000
        },
        "id": "xq5FbZuBoCDo",
        "outputId": "43b65218-15cd-4c1f-b7ff-91aed5fa6962"
      },
      "outputs": [
        {
          "output_type": "execute_result",
          "data": {
            "text/plain": [
              "                                                                                                                                                                                                                                                                                                                                                                                                                                                                                                                                                                                                                                                                                                                                                                                                                             reviewText  \\\n",
              "0                                                                                                                                                                                                                                                                                                                                                                                                                                                                                                                                                                                                                                                                                                                                              oily creamy expected ordered try highlight contour looked awful plus took forever arrive   \n",
              "1                                                                                                                                                                                                                                                                                                                                                                                                                                                                                                                                                                                                                                                                                                                                  palette decent price looking different shades palette conceals decently however somewhat cake crease   \n",
              "2                                                                                                                                                                                                                                                                                                                                                                                                                                                                                                            texture concealer pallet fantastic great coverage wide variety uses guess meant professional makeup artists lot colours use use least two regular basis two occasionally reason im giving stars feel like range colors kind waste product wonderful cakey gives natural concealed imperfections therefore highly recommend   \n",
              "3                                                                                                                                                                                                                                                                                                                                                                                                                                                                                                                                                                                                                                                                                                                           really cant tell exactly thing powder kind oilish pasty fluid far tried twice doesnt really show color face   \n",
              "4                                                                                                                                                                                                                                                                                                                                                                                                                                                                                                                                                                                                                                         little smaller expected okay lasted long time think great coverage price paid heavy wears within 301hr kinda dries skin id recommend people looking cheap coverage beginners learning conceal   \n",
              "...                                                                                                                                                                                                                                                                                                                                                                                                                                                                                                                                                                                                                                                                                                                                                                                                                                 ...   \n",
              "198497                                                                                                                                                                                                                                                                                                                                                                little dab shea butter need scrape small piece size fingernail im guy nails arent big roll around hands warm soften rub dry areas skin since creates kind waxy barrier good idea right stepping shower hold moisture already wet skinmy wife put much first kids laughed good time trying rub onto arms dry skin guess thereanyway quality fragrance product good entire pound shea butter probably last long time seems like good value mei received item review   \n",
              "198498  shea butter completely raw unrefined retains delightful nutty fragrance subtle yellow color natural texture pure organic shea butter natural luxury quite different homogenized overprocessed commercial products contain small percentage chemicallyrefined shea oilshea nuts unique species tree lives two hundred years vitellaria paradoxa nuts contain rich complex five different fatty acids good skin palmitic stearic oleic linoleic arachidic particular shea butter imported ghana women gather nuts wild trees shell roast extract oils hand smells delicious indeed used food africa well source incomeit solidmdash hardmdash room temperature liquefies body temperature easy apply quickly absorbed skin improves texture dry skin makes look better like apply bathingbeauty shea provided sample evaluatio...   \n",
              "198499  skin bodys largest organ absorbs much applied often products contain toxins chemicals rather continue using big name commercial personal care products started reading labels possible replacing chemicalladen lotions soaps less toxic substitutesshea butter natural product difficult get basic unfiltered organic shea butter karite tree nuts found africa used produce shea butter nuts boiled oil released oil scoopedoff cools separates shea butter shea oilas soon package arrived rubbed dime sized amount hands applied warmed oil hands elbows heels ten minutes absorbed left slight sheen soft skin fragrance earthy slightly smoky light appropriate men women scent dissipates quickly becomes unnoticeableshea butter infused quick evaporate water like many commercial lotions creams takes penetrate sk...   \n",
              "198500  dry elbows knees torn tendon left foot find comfortable kneel squat especially working garden etc knees taking beating getting calloused peeling skin real mess ive tried lot different moisturizers varying success thicker better offered try jumped itthis grade unrefined means processed water chemicals also means vitamins fats still present grade considered best skin careshea butter melts skin temperature slowly generate nice amount heat rubbing hands together gf loves foe shoulders get heat going scoop dime sized portion place palms rub melts almost instantly leaving nice thick ointment apply knees elbows trouble spots obviously hands also get great treatmentthere noticeable immediate improvement within couple days applied twice per day callouses knees invisible skin stopped peeling elb...   \n",
              "198501                                                                                                                                                                                                                                                                                                                                                                                                                                                                                                                                                    100 pure shea butter mistake #34 shea butter#34 products may contain little shea lots ingredients including chemicals stuff might wantthis real stuff#34 good news block last long time bad news even tho called #34 butter cant eat itguys try shaving instead shaving cream   \n",
              "\n",
              "                                                summary        asin  \\\n",
              "0                                Don't waste your money  7806397051   \n",
              "1                                           OK Palette!  7806397051   \n",
              "2                                         great quality  7806397051   \n",
              "3                                Do not work on my face  7806397051   \n",
              "4                                            It's okay.  7806397051   \n",
              "...                                                 ...         ...   \n",
              "198497                                  A little dab...  B00LLPT4HI   \n",
              "198498                     Pure organic raw shea butter  B00LLPT4HI   \n",
              "198499  One Pound Organic Grade A Unrefined Shea Butter  B00LLPT4HI   \n",
              "198500                           This stuff is amazing!  B00LLPT4HI   \n",
              "198501                                The \"Real Stuff\"!  B00LLPT4HI   \n",
              "\n",
              "                                                                                                                                                                                                                                                                                                                                                                                                                                                                                                                                                                                                                                                                                                                                                                                                                          combined_text  \\\n",
              "0                                                                                                                                                                                                                                                                                                                                                                                                                                                                                                                                                                                                                                                                                                                       oily creamy expected ordered try highlight contour looked awful plus took forever arrive Don't waste your money   \n",
              "1                                                                                                                                                                                                                                                                                                                                                                                                                                                                                                                                                                                                                                                                                                                      palette decent price looking different shades palette conceals decently however somewhat cake crease OK Palette!   \n",
              "2                                                                                                                                                                                                                                                                                                                                                                                                                                                                                              texture concealer pallet fantastic great coverage wide variety uses guess meant professional makeup artists lot colours use use least two regular basis two occasionally reason im giving stars feel like range colors kind waste product wonderful cakey gives natural concealed imperfections therefore highly recommend great quality   \n",
              "3                                                                                                                                                                                                                                                                                                                                                                                                                                                                                                                                                                                                                                                                                                    really cant tell exactly thing powder kind oilish pasty fluid far tried twice doesnt really show color face Do not work on my face   \n",
              "4                                                                                                                                                                                                                                                                                                                                                                                                                                                                                                                                                                                                                              little smaller expected okay lasted long time think great coverage price paid heavy wears within 301hr kinda dries skin id recommend people looking cheap coverage beginners learning conceal It's okay.   \n",
              "...                                                                                                                                                                                                                                                                                                                                                                                                                                                                                                                                                                                                                                                                                                                                                                                                                                 ...   \n",
              "198497                                                                                                                                                                                                                                                                                                                                                little dab shea butter need scrape small piece size fingernail im guy nails arent big roll around hands warm soften rub dry areas skin since creates kind waxy barrier good idea right stepping shower hold moisture already wet skinmy wife put much first kids laughed good time trying rub onto arms dry skin guess thereanyway quality fragrance product good entire pound shea butter probably last long time seems like good value mei received item review A little dab...   \n",
              "198498  shea butter completely raw unrefined retains delightful nutty fragrance subtle yellow color natural texture pure organic shea butter natural luxury quite different homogenized overprocessed commercial products contain small percentage chemicallyrefined shea oilshea nuts unique species tree lives two hundred years vitellaria paradoxa nuts contain rich complex five different fatty acids good skin palmitic stearic oleic linoleic arachidic particular shea butter imported ghana women gather nuts wild trees shell roast extract oils hand smells delicious indeed used food africa well source incomeit solidmdash hardmdash room temperature liquefies body temperature easy apply quickly absorbed skin improves texture dry skin makes look better like apply bathingbeauty shea provided sample evaluatio...   \n",
              "198499  skin bodys largest organ absorbs much applied often products contain toxins chemicals rather continue using big name commercial personal care products started reading labels possible replacing chemicalladen lotions soaps less toxic substitutesshea butter natural product difficult get basic unfiltered organic shea butter karite tree nuts found africa used produce shea butter nuts boiled oil released oil scoopedoff cools separates shea butter shea oilas soon package arrived rubbed dime sized amount hands applied warmed oil hands elbows heels ten minutes absorbed left slight sheen soft skin fragrance earthy slightly smoky light appropriate men women scent dissipates quickly becomes unnoticeableshea butter infused quick evaporate water like many commercial lotions creams takes penetrate sk...   \n",
              "198500  dry elbows knees torn tendon left foot find comfortable kneel squat especially working garden etc knees taking beating getting calloused peeling skin real mess ive tried lot different moisturizers varying success thicker better offered try jumped itthis grade unrefined means processed water chemicals also means vitamins fats still present grade considered best skin careshea butter melts skin temperature slowly generate nice amount heat rubbing hands together gf loves foe shoulders get heat going scoop dime sized portion place palms rub melts almost instantly leaving nice thick ointment apply knees elbows trouble spots obviously hands also get great treatmentthere noticeable immediate improvement within couple days applied twice per day callouses knees invisible skin stopped peeling elb...   \n",
              "198501                                                                                                                                                                                                                                                                                                                                                                                                                                                                                                                                  100 pure shea butter mistake #34 shea butter#34 products may contain little shea lots ingredients including chemicals stuff might wantthis real stuff#34 good news block last long time bad news even tho called #34 butter cant eat itguys try shaving instead shaving cream The \"Real Stuff\"!   \n",
              "\n",
              "               decision  \n",
              "0       NOT RECOMMENDED  \n",
              "1           RECOMMENDED  \n",
              "2           RECOMMENDED  \n",
              "3       NOT RECOMMENDED  \n",
              "4           RECOMMENDED  \n",
              "...                 ...  \n",
              "198497      RECOMMENDED  \n",
              "198498      RECOMMENDED  \n",
              "198499      RECOMMENDED  \n",
              "198500      RECOMMENDED  \n",
              "198501      RECOMMENDED  \n",
              "\n",
              "[198502 rows x 5 columns]"
            ],
            "text/html": [
              "\n",
              "  <div id=\"df-2485a17b-56f5-409d-9f27-8d2bb8af107f\">\n",
              "    <div class=\"colab-df-container\">\n",
              "      <div>\n",
              "<style scoped>\n",
              "    .dataframe tbody tr th:only-of-type {\n",
              "        vertical-align: middle;\n",
              "    }\n",
              "\n",
              "    .dataframe tbody tr th {\n",
              "        vertical-align: top;\n",
              "    }\n",
              "\n",
              "    .dataframe thead th {\n",
              "        text-align: right;\n",
              "    }\n",
              "</style>\n",
              "<table border=\"1\" class=\"dataframe\">\n",
              "  <thead>\n",
              "    <tr style=\"text-align: right;\">\n",
              "      <th></th>\n",
              "      <th>reviewText</th>\n",
              "      <th>summary</th>\n",
              "      <th>asin</th>\n",
              "      <th>combined_text</th>\n",
              "      <th>decision</th>\n",
              "    </tr>\n",
              "  </thead>\n",
              "  <tbody>\n",
              "    <tr>\n",
              "      <th>0</th>\n",
              "      <td>oily creamy expected ordered try highlight contour looked awful plus took forever arrive</td>\n",
              "      <td>Don't waste your money</td>\n",
              "      <td>7806397051</td>\n",
              "      <td>oily creamy expected ordered try highlight contour looked awful plus took forever arrive Don't waste your money</td>\n",
              "      <td>NOT RECOMMENDED</td>\n",
              "    </tr>\n",
              "    <tr>\n",
              "      <th>1</th>\n",
              "      <td>palette decent price looking different shades palette conceals decently however somewhat cake crease</td>\n",
              "      <td>OK Palette!</td>\n",
              "      <td>7806397051</td>\n",
              "      <td>palette decent price looking different shades palette conceals decently however somewhat cake crease OK Palette!</td>\n",
              "      <td>RECOMMENDED</td>\n",
              "    </tr>\n",
              "    <tr>\n",
              "      <th>2</th>\n",
              "      <td>texture concealer pallet fantastic great coverage wide variety uses guess meant professional makeup artists lot colours use use least two regular basis two occasionally reason im giving stars feel like range colors kind waste product wonderful cakey gives natural concealed imperfections therefore highly recommend</td>\n",
              "      <td>great quality</td>\n",
              "      <td>7806397051</td>\n",
              "      <td>texture concealer pallet fantastic great coverage wide variety uses guess meant professional makeup artists lot colours use use least two regular basis two occasionally reason im giving stars feel like range colors kind waste product wonderful cakey gives natural concealed imperfections therefore highly recommend great quality</td>\n",
              "      <td>RECOMMENDED</td>\n",
              "    </tr>\n",
              "    <tr>\n",
              "      <th>3</th>\n",
              "      <td>really cant tell exactly thing powder kind oilish pasty fluid far tried twice doesnt really show color face</td>\n",
              "      <td>Do not work on my face</td>\n",
              "      <td>7806397051</td>\n",
              "      <td>really cant tell exactly thing powder kind oilish pasty fluid far tried twice doesnt really show color face Do not work on my face</td>\n",
              "      <td>NOT RECOMMENDED</td>\n",
              "    </tr>\n",
              "    <tr>\n",
              "      <th>4</th>\n",
              "      <td>little smaller expected okay lasted long time think great coverage price paid heavy wears within 301hr kinda dries skin id recommend people looking cheap coverage beginners learning conceal</td>\n",
              "      <td>It's okay.</td>\n",
              "      <td>7806397051</td>\n",
              "      <td>little smaller expected okay lasted long time think great coverage price paid heavy wears within 301hr kinda dries skin id recommend people looking cheap coverage beginners learning conceal It's okay.</td>\n",
              "      <td>RECOMMENDED</td>\n",
              "    </tr>\n",
              "    <tr>\n",
              "      <th>...</th>\n",
              "      <td>...</td>\n",
              "      <td>...</td>\n",
              "      <td>...</td>\n",
              "      <td>...</td>\n",
              "      <td>...</td>\n",
              "    </tr>\n",
              "    <tr>\n",
              "      <th>198497</th>\n",
              "      <td>little dab shea butter need scrape small piece size fingernail im guy nails arent big roll around hands warm soften rub dry areas skin since creates kind waxy barrier good idea right stepping shower hold moisture already wet skinmy wife put much first kids laughed good time trying rub onto arms dry skin guess thereanyway quality fragrance product good entire pound shea butter probably last long time seems like good value mei received item review</td>\n",
              "      <td>A little dab...</td>\n",
              "      <td>B00LLPT4HI</td>\n",
              "      <td>little dab shea butter need scrape small piece size fingernail im guy nails arent big roll around hands warm soften rub dry areas skin since creates kind waxy barrier good idea right stepping shower hold moisture already wet skinmy wife put much first kids laughed good time trying rub onto arms dry skin guess thereanyway quality fragrance product good entire pound shea butter probably last long time seems like good value mei received item review A little dab...</td>\n",
              "      <td>RECOMMENDED</td>\n",
              "    </tr>\n",
              "    <tr>\n",
              "      <th>198498</th>\n",
              "      <td>shea butter completely raw unrefined retains delightful nutty fragrance subtle yellow color natural texture pure organic shea butter natural luxury quite different homogenized overprocessed commercial products contain small percentage chemicallyrefined shea oilshea nuts unique species tree lives two hundred years vitellaria paradoxa nuts contain rich complex five different fatty acids good skin palmitic stearic oleic linoleic arachidic particular shea butter imported ghana women gather nuts wild trees shell roast extract oils hand smells delicious indeed used food africa well source incomeit solidmdash hardmdash room temperature liquefies body temperature easy apply quickly absorbed skin improves texture dry skin makes look better like apply bathingbeauty shea provided sample evaluatio...</td>\n",
              "      <td>Pure organic raw shea butter</td>\n",
              "      <td>B00LLPT4HI</td>\n",
              "      <td>shea butter completely raw unrefined retains delightful nutty fragrance subtle yellow color natural texture pure organic shea butter natural luxury quite different homogenized overprocessed commercial products contain small percentage chemicallyrefined shea oilshea nuts unique species tree lives two hundred years vitellaria paradoxa nuts contain rich complex five different fatty acids good skin palmitic stearic oleic linoleic arachidic particular shea butter imported ghana women gather nuts wild trees shell roast extract oils hand smells delicious indeed used food africa well source incomeit solidmdash hardmdash room temperature liquefies body temperature easy apply quickly absorbed skin improves texture dry skin makes look better like apply bathingbeauty shea provided sample evaluatio...</td>\n",
              "      <td>RECOMMENDED</td>\n",
              "    </tr>\n",
              "    <tr>\n",
              "      <th>198499</th>\n",
              "      <td>skin bodys largest organ absorbs much applied often products contain toxins chemicals rather continue using big name commercial personal care products started reading labels possible replacing chemicalladen lotions soaps less toxic substitutesshea butter natural product difficult get basic unfiltered organic shea butter karite tree nuts found africa used produce shea butter nuts boiled oil released oil scoopedoff cools separates shea butter shea oilas soon package arrived rubbed dime sized amount hands applied warmed oil hands elbows heels ten minutes absorbed left slight sheen soft skin fragrance earthy slightly smoky light appropriate men women scent dissipates quickly becomes unnoticeableshea butter infused quick evaporate water like many commercial lotions creams takes penetrate sk...</td>\n",
              "      <td>One Pound Organic Grade A Unrefined Shea Butter</td>\n",
              "      <td>B00LLPT4HI</td>\n",
              "      <td>skin bodys largest organ absorbs much applied often products contain toxins chemicals rather continue using big name commercial personal care products started reading labels possible replacing chemicalladen lotions soaps less toxic substitutesshea butter natural product difficult get basic unfiltered organic shea butter karite tree nuts found africa used produce shea butter nuts boiled oil released oil scoopedoff cools separates shea butter shea oilas soon package arrived rubbed dime sized amount hands applied warmed oil hands elbows heels ten minutes absorbed left slight sheen soft skin fragrance earthy slightly smoky light appropriate men women scent dissipates quickly becomes unnoticeableshea butter infused quick evaporate water like many commercial lotions creams takes penetrate sk...</td>\n",
              "      <td>RECOMMENDED</td>\n",
              "    </tr>\n",
              "    <tr>\n",
              "      <th>198500</th>\n",
              "      <td>dry elbows knees torn tendon left foot find comfortable kneel squat especially working garden etc knees taking beating getting calloused peeling skin real mess ive tried lot different moisturizers varying success thicker better offered try jumped itthis grade unrefined means processed water chemicals also means vitamins fats still present grade considered best skin careshea butter melts skin temperature slowly generate nice amount heat rubbing hands together gf loves foe shoulders get heat going scoop dime sized portion place palms rub melts almost instantly leaving nice thick ointment apply knees elbows trouble spots obviously hands also get great treatmentthere noticeable immediate improvement within couple days applied twice per day callouses knees invisible skin stopped peeling elb...</td>\n",
              "      <td>This stuff is amazing!</td>\n",
              "      <td>B00LLPT4HI</td>\n",
              "      <td>dry elbows knees torn tendon left foot find comfortable kneel squat especially working garden etc knees taking beating getting calloused peeling skin real mess ive tried lot different moisturizers varying success thicker better offered try jumped itthis grade unrefined means processed water chemicals also means vitamins fats still present grade considered best skin careshea butter melts skin temperature slowly generate nice amount heat rubbing hands together gf loves foe shoulders get heat going scoop dime sized portion place palms rub melts almost instantly leaving nice thick ointment apply knees elbows trouble spots obviously hands also get great treatmentthere noticeable immediate improvement within couple days applied twice per day callouses knees invisible skin stopped peeling elb...</td>\n",
              "      <td>RECOMMENDED</td>\n",
              "    </tr>\n",
              "    <tr>\n",
              "      <th>198501</th>\n",
              "      <td>100 pure shea butter mistake #34 shea butter#34 products may contain little shea lots ingredients including chemicals stuff might wantthis real stuff#34 good news block last long time bad news even tho called #34 butter cant eat itguys try shaving instead shaving cream</td>\n",
              "      <td>The \"Real Stuff\"!</td>\n",
              "      <td>B00LLPT4HI</td>\n",
              "      <td>100 pure shea butter mistake #34 shea butter#34 products may contain little shea lots ingredients including chemicals stuff might wantthis real stuff#34 good news block last long time bad news even tho called #34 butter cant eat itguys try shaving instead shaving cream The \"Real Stuff\"!</td>\n",
              "      <td>RECOMMENDED</td>\n",
              "    </tr>\n",
              "  </tbody>\n",
              "</table>\n",
              "<p>198502 rows × 5 columns</p>\n",
              "</div>\n",
              "      <button class=\"colab-df-convert\" onclick=\"convertToInteractive('df-2485a17b-56f5-409d-9f27-8d2bb8af107f')\"\n",
              "              title=\"Convert this dataframe to an interactive table.\"\n",
              "              style=\"display:none;\">\n",
              "        \n",
              "  <svg xmlns=\"http://www.w3.org/2000/svg\" height=\"24px\"viewBox=\"0 0 24 24\"\n",
              "       width=\"24px\">\n",
              "    <path d=\"M0 0h24v24H0V0z\" fill=\"none\"/>\n",
              "    <path d=\"M18.56 5.44l.94 2.06.94-2.06 2.06-.94-2.06-.94-.94-2.06-.94 2.06-2.06.94zm-11 1L8.5 8.5l.94-2.06 2.06-.94-2.06-.94L8.5 2.5l-.94 2.06-2.06.94zm10 10l.94 2.06.94-2.06 2.06-.94-2.06-.94-.94-2.06-.94 2.06-2.06.94z\"/><path d=\"M17.41 7.96l-1.37-1.37c-.4-.4-.92-.59-1.43-.59-.52 0-1.04.2-1.43.59L10.3 9.45l-7.72 7.72c-.78.78-.78 2.05 0 2.83L4 21.41c.39.39.9.59 1.41.59.51 0 1.02-.2 1.41-.59l7.78-7.78 2.81-2.81c.8-.78.8-2.07 0-2.86zM5.41 20L4 18.59l7.72-7.72 1.47 1.35L5.41 20z\"/>\n",
              "  </svg>\n",
              "      </button>\n",
              "      \n",
              "  <style>\n",
              "    .colab-df-container {\n",
              "      display:flex;\n",
              "      flex-wrap:wrap;\n",
              "      gap: 12px;\n",
              "    }\n",
              "\n",
              "    .colab-df-convert {\n",
              "      background-color: #E8F0FE;\n",
              "      border: none;\n",
              "      border-radius: 50%;\n",
              "      cursor: pointer;\n",
              "      display: none;\n",
              "      fill: #1967D2;\n",
              "      height: 32px;\n",
              "      padding: 0 0 0 0;\n",
              "      width: 32px;\n",
              "    }\n",
              "\n",
              "    .colab-df-convert:hover {\n",
              "      background-color: #E2EBFA;\n",
              "      box-shadow: 0px 1px 2px rgba(60, 64, 67, 0.3), 0px 1px 3px 1px rgba(60, 64, 67, 0.15);\n",
              "      fill: #174EA6;\n",
              "    }\n",
              "\n",
              "    [theme=dark] .colab-df-convert {\n",
              "      background-color: #3B4455;\n",
              "      fill: #D2E3FC;\n",
              "    }\n",
              "\n",
              "    [theme=dark] .colab-df-convert:hover {\n",
              "      background-color: #434B5C;\n",
              "      box-shadow: 0px 1px 3px 1px rgba(0, 0, 0, 0.15);\n",
              "      filter: drop-shadow(0px 1px 2px rgba(0, 0, 0, 0.3));\n",
              "      fill: #FFFFFF;\n",
              "    }\n",
              "  </style>\n",
              "\n",
              "      <script>\n",
              "        const buttonEl =\n",
              "          document.querySelector('#df-2485a17b-56f5-409d-9f27-8d2bb8af107f button.colab-df-convert');\n",
              "        buttonEl.style.display =\n",
              "          google.colab.kernel.accessAllowed ? 'block' : 'none';\n",
              "\n",
              "        async function convertToInteractive(key) {\n",
              "          const element = document.querySelector('#df-2485a17b-56f5-409d-9f27-8d2bb8af107f');\n",
              "          const dataTable =\n",
              "            await google.colab.kernel.invokeFunction('convertToInteractive',\n",
              "                                                     [key], {});\n",
              "          if (!dataTable) return;\n",
              "\n",
              "          const docLinkHtml = 'Like what you see? Visit the ' +\n",
              "            '<a target=\"_blank\" href=https://colab.research.google.com/notebooks/data_table.ipynb>data table notebook</a>'\n",
              "            + ' to learn more about interactive tables.';\n",
              "          element.innerHTML = '';\n",
              "          dataTable['output_type'] = 'display_data';\n",
              "          await google.colab.output.renderOutput(dataTable, element);\n",
              "          const docLink = document.createElement('div');\n",
              "          docLink.innerHTML = docLinkHtml;\n",
              "          element.appendChild(docLink);\n",
              "        }\n",
              "      </script>\n",
              "    </div>\n",
              "  </div>\n",
              "  "
            ]
          },
          "metadata": {},
          "execution_count": 14
        }
      ],
      "source": [
        "beauty"
      ]
    },
    {
      "cell_type": "code",
      "execution_count": null,
      "metadata": {
        "id": "0BoXckS1VMLF"
      },
      "outputs": [],
      "source": [
        "#pip install textblob"
      ]
    },
    {
      "cell_type": "code",
      "execution_count": null,
      "metadata": {
        "id": "gxdGaHnqVSa1"
      },
      "outputs": [],
      "source": [
        "from textblob import TextBlob"
      ]
    },
    {
      "cell_type": "code",
      "execution_count": null,
      "metadata": {
        "id": "46Wrn0mbMRtT"
      },
      "outputs": [],
      "source": [
        "def gettextpolarity(text):\n",
        "  return TextBlob(text).sentiment.polarity"
      ]
    },
    {
      "cell_type": "code",
      "execution_count": null,
      "metadata": {
        "id": "EVlueM5aMkPB"
      },
      "outputs": [],
      "source": [
        "from pandas.compat import pa_version_under2p0\n",
        "polarity=[]\n",
        "sentiment=[]\n",
        "target=[]\n",
        "for i in beauty[\"combined_text\"]:\n",
        "  p=gettextpolarity(i)\n",
        "  polarity.append(p)\n",
        "  if p<-0.5:\n",
        "    sentiment.append(\"Strongly_Negative\")\n",
        "    target.append(1)\n",
        "  elif p>=-0.5 and p<0.0:\n",
        "    sentiment.append(\"Negative\")\n",
        "    target.append(2)\n",
        "  elif p==0:\n",
        "    sentiment.append(\"Neutal\")\n",
        "    target.append(3)\n",
        "  elif p>0.0 and p<=0.5:\n",
        "    sentiment.append(\"Positive\")\n",
        "    target.append(4)\n",
        "  else:\n",
        "    sentiment.append(\"Stongly_Positive\")\n",
        "    target.append(5)\n"
      ]
    },
    {
      "cell_type": "code",
      "execution_count": null,
      "metadata": {
        "colab": {
          "base_uri": "https://localhost:8080/"
        },
        "id": "53vrmGlqOzz7",
        "outputId": "6d0ec9c0-f331-4830-9063-316010a66a95"
      },
      "outputs": [
        {
          "output_type": "stream",
          "name": "stderr",
          "text": [
            "/usr/local/lib/python3.7/dist-packages/ipykernel_launcher.py:1: SettingWithCopyWarning: \n",
            "A value is trying to be set on a copy of a slice from a DataFrame.\n",
            "Try using .loc[row_indexer,col_indexer] = value instead\n",
            "\n",
            "See the caveats in the documentation: https://pandas.pydata.org/pandas-docs/stable/user_guide/indexing.html#returning-a-view-versus-a-copy\n",
            "  \"\"\"Entry point for launching an IPython kernel.\n",
            "/usr/local/lib/python3.7/dist-packages/ipykernel_launcher.py:2: SettingWithCopyWarning: \n",
            "A value is trying to be set on a copy of a slice from a DataFrame.\n",
            "Try using .loc[row_indexer,col_indexer] = value instead\n",
            "\n",
            "See the caveats in the documentation: https://pandas.pydata.org/pandas-docs/stable/user_guide/indexing.html#returning-a-view-versus-a-copy\n",
            "  \n",
            "/usr/local/lib/python3.7/dist-packages/ipykernel_launcher.py:3: SettingWithCopyWarning: \n",
            "A value is trying to be set on a copy of a slice from a DataFrame.\n",
            "Try using .loc[row_indexer,col_indexer] = value instead\n",
            "\n",
            "See the caveats in the documentation: https://pandas.pydata.org/pandas-docs/stable/user_guide/indexing.html#returning-a-view-versus-a-copy\n",
            "  This is separate from the ipykernel package so we can avoid doing imports until\n"
          ]
        }
      ],
      "source": [
        "beauty[\"polarity\"]=polarity\n",
        "beauty[\"sentiment\"]=sentiment\n",
        "beauty[\"overall\"]=review_beauty_df[\"overall\"]\n",
        "beauty[\"target\"]=target"
      ]
    },
    {
      "cell_type": "code",
      "execution_count": null,
      "metadata": {
        "colab": {
          "base_uri": "https://localhost:8080/",
          "height": 649
        },
        "id": "9OaW_0RAO0U9",
        "outputId": "c112c217-2511-4da1-ad74-021e8544b80f"
      },
      "outputs": [
        {
          "output_type": "execute_result",
          "data": {
            "text/plain": [
              "                                                                                                                                                                                                                                                                                                                   reviewText  \\\n",
              "0                                                                                                                                                                                                                                    oily creamy expected ordered try highlight contour looked awful plus took forever arrive   \n",
              "1                                                                                                                                                                                                                        palette decent price looking different shades palette conceals decently however somewhat cake crease   \n",
              "2  texture concealer pallet fantastic great coverage wide variety uses guess meant professional makeup artists lot colours use use least two regular basis two occasionally reason im giving stars feel like range colors kind waste product wonderful cakey gives natural concealed imperfections therefore highly recommend   \n",
              "3                                                                                                                                                                                                                 really cant tell exactly thing powder kind oilish pasty fluid far tried twice doesnt really show color face   \n",
              "4                                                                                                                               little smaller expected okay lasted long time think great coverage price paid heavy wears within 301hr kinda dries skin id recommend people looking cheap coverage beginners learning conceal   \n",
              "\n",
              "                  summary        asin  \\\n",
              "0  Don't waste your money  7806397051   \n",
              "1             OK Palette!  7806397051   \n",
              "2           great quality  7806397051   \n",
              "3  Do not work on my face  7806397051   \n",
              "4              It's okay.  7806397051   \n",
              "\n",
              "                                                                                                                                                                                                                                                                                                                              combined_text  \\\n",
              "0                                                                                                                                                                                                                           oily creamy expected ordered try highlight contour looked awful plus took forever arrive Don't waste your money   \n",
              "1                                                                                                                                                                                                                          palette decent price looking different shades palette conceals decently however somewhat cake crease OK Palette!   \n",
              "2  texture concealer pallet fantastic great coverage wide variety uses guess meant professional makeup artists lot colours use use least two regular basis two occasionally reason im giving stars feel like range colors kind waste product wonderful cakey gives natural concealed imperfections therefore highly recommend great quality   \n",
              "3                                                                                                                                                                                                        really cant tell exactly thing powder kind oilish pasty fluid far tried twice doesnt really show color face Do not work on my face   \n",
              "4                                                                                                                                  little smaller expected okay lasted long time think great coverage price paid heavy wears within 301hr kinda dries skin id recommend people looking cheap coverage beginners learning conceal It's okay.   \n",
              "\n",
              "          decision  polarity sentiment  overall  target  \n",
              "0  NOT RECOMMENDED -0.433333  Negative        1       2  \n",
              "1      RECOMMENDED  0.239583  Positive        3       4  \n",
              "2      RECOMMENDED  0.258462  Positive        4       4  \n",
              "3  NOT RECOMMENDED  0.225000  Positive        2       4  \n",
              "4      RECOMMENDED  0.184722  Positive        3       4  "
            ],
            "text/html": [
              "\n",
              "  <div id=\"df-71326bde-592f-4dfd-a0eb-53e4bfb4428e\">\n",
              "    <div class=\"colab-df-container\">\n",
              "      <div>\n",
              "<style scoped>\n",
              "    .dataframe tbody tr th:only-of-type {\n",
              "        vertical-align: middle;\n",
              "    }\n",
              "\n",
              "    .dataframe tbody tr th {\n",
              "        vertical-align: top;\n",
              "    }\n",
              "\n",
              "    .dataframe thead th {\n",
              "        text-align: right;\n",
              "    }\n",
              "</style>\n",
              "<table border=\"1\" class=\"dataframe\">\n",
              "  <thead>\n",
              "    <tr style=\"text-align: right;\">\n",
              "      <th></th>\n",
              "      <th>reviewText</th>\n",
              "      <th>summary</th>\n",
              "      <th>asin</th>\n",
              "      <th>combined_text</th>\n",
              "      <th>decision</th>\n",
              "      <th>polarity</th>\n",
              "      <th>sentiment</th>\n",
              "      <th>overall</th>\n",
              "      <th>target</th>\n",
              "    </tr>\n",
              "  </thead>\n",
              "  <tbody>\n",
              "    <tr>\n",
              "      <th>0</th>\n",
              "      <td>oily creamy expected ordered try highlight contour looked awful plus took forever arrive</td>\n",
              "      <td>Don't waste your money</td>\n",
              "      <td>7806397051</td>\n",
              "      <td>oily creamy expected ordered try highlight contour looked awful plus took forever arrive Don't waste your money</td>\n",
              "      <td>NOT RECOMMENDED</td>\n",
              "      <td>-0.433333</td>\n",
              "      <td>Negative</td>\n",
              "      <td>1</td>\n",
              "      <td>2</td>\n",
              "    </tr>\n",
              "    <tr>\n",
              "      <th>1</th>\n",
              "      <td>palette decent price looking different shades palette conceals decently however somewhat cake crease</td>\n",
              "      <td>OK Palette!</td>\n",
              "      <td>7806397051</td>\n",
              "      <td>palette decent price looking different shades palette conceals decently however somewhat cake crease OK Palette!</td>\n",
              "      <td>RECOMMENDED</td>\n",
              "      <td>0.239583</td>\n",
              "      <td>Positive</td>\n",
              "      <td>3</td>\n",
              "      <td>4</td>\n",
              "    </tr>\n",
              "    <tr>\n",
              "      <th>2</th>\n",
              "      <td>texture concealer pallet fantastic great coverage wide variety uses guess meant professional makeup artists lot colours use use least two regular basis two occasionally reason im giving stars feel like range colors kind waste product wonderful cakey gives natural concealed imperfections therefore highly recommend</td>\n",
              "      <td>great quality</td>\n",
              "      <td>7806397051</td>\n",
              "      <td>texture concealer pallet fantastic great coverage wide variety uses guess meant professional makeup artists lot colours use use least two regular basis two occasionally reason im giving stars feel like range colors kind waste product wonderful cakey gives natural concealed imperfections therefore highly recommend great quality</td>\n",
              "      <td>RECOMMENDED</td>\n",
              "      <td>0.258462</td>\n",
              "      <td>Positive</td>\n",
              "      <td>4</td>\n",
              "      <td>4</td>\n",
              "    </tr>\n",
              "    <tr>\n",
              "      <th>3</th>\n",
              "      <td>really cant tell exactly thing powder kind oilish pasty fluid far tried twice doesnt really show color face</td>\n",
              "      <td>Do not work on my face</td>\n",
              "      <td>7806397051</td>\n",
              "      <td>really cant tell exactly thing powder kind oilish pasty fluid far tried twice doesnt really show color face Do not work on my face</td>\n",
              "      <td>NOT RECOMMENDED</td>\n",
              "      <td>0.225000</td>\n",
              "      <td>Positive</td>\n",
              "      <td>2</td>\n",
              "      <td>4</td>\n",
              "    </tr>\n",
              "    <tr>\n",
              "      <th>4</th>\n",
              "      <td>little smaller expected okay lasted long time think great coverage price paid heavy wears within 301hr kinda dries skin id recommend people looking cheap coverage beginners learning conceal</td>\n",
              "      <td>It's okay.</td>\n",
              "      <td>7806397051</td>\n",
              "      <td>little smaller expected okay lasted long time think great coverage price paid heavy wears within 301hr kinda dries skin id recommend people looking cheap coverage beginners learning conceal It's okay.</td>\n",
              "      <td>RECOMMENDED</td>\n",
              "      <td>0.184722</td>\n",
              "      <td>Positive</td>\n",
              "      <td>3</td>\n",
              "      <td>4</td>\n",
              "    </tr>\n",
              "  </tbody>\n",
              "</table>\n",
              "</div>\n",
              "      <button class=\"colab-df-convert\" onclick=\"convertToInteractive('df-71326bde-592f-4dfd-a0eb-53e4bfb4428e')\"\n",
              "              title=\"Convert this dataframe to an interactive table.\"\n",
              "              style=\"display:none;\">\n",
              "        \n",
              "  <svg xmlns=\"http://www.w3.org/2000/svg\" height=\"24px\"viewBox=\"0 0 24 24\"\n",
              "       width=\"24px\">\n",
              "    <path d=\"M0 0h24v24H0V0z\" fill=\"none\"/>\n",
              "    <path d=\"M18.56 5.44l.94 2.06.94-2.06 2.06-.94-2.06-.94-.94-2.06-.94 2.06-2.06.94zm-11 1L8.5 8.5l.94-2.06 2.06-.94-2.06-.94L8.5 2.5l-.94 2.06-2.06.94zm10 10l.94 2.06.94-2.06 2.06-.94-2.06-.94-.94-2.06-.94 2.06-2.06.94z\"/><path d=\"M17.41 7.96l-1.37-1.37c-.4-.4-.92-.59-1.43-.59-.52 0-1.04.2-1.43.59L10.3 9.45l-7.72 7.72c-.78.78-.78 2.05 0 2.83L4 21.41c.39.39.9.59 1.41.59.51 0 1.02-.2 1.41-.59l7.78-7.78 2.81-2.81c.8-.78.8-2.07 0-2.86zM5.41 20L4 18.59l7.72-7.72 1.47 1.35L5.41 20z\"/>\n",
              "  </svg>\n",
              "      </button>\n",
              "      \n",
              "  <style>\n",
              "    .colab-df-container {\n",
              "      display:flex;\n",
              "      flex-wrap:wrap;\n",
              "      gap: 12px;\n",
              "    }\n",
              "\n",
              "    .colab-df-convert {\n",
              "      background-color: #E8F0FE;\n",
              "      border: none;\n",
              "      border-radius: 50%;\n",
              "      cursor: pointer;\n",
              "      display: none;\n",
              "      fill: #1967D2;\n",
              "      height: 32px;\n",
              "      padding: 0 0 0 0;\n",
              "      width: 32px;\n",
              "    }\n",
              "\n",
              "    .colab-df-convert:hover {\n",
              "      background-color: #E2EBFA;\n",
              "      box-shadow: 0px 1px 2px rgba(60, 64, 67, 0.3), 0px 1px 3px 1px rgba(60, 64, 67, 0.15);\n",
              "      fill: #174EA6;\n",
              "    }\n",
              "\n",
              "    [theme=dark] .colab-df-convert {\n",
              "      background-color: #3B4455;\n",
              "      fill: #D2E3FC;\n",
              "    }\n",
              "\n",
              "    [theme=dark] .colab-df-convert:hover {\n",
              "      background-color: #434B5C;\n",
              "      box-shadow: 0px 1px 3px 1px rgba(0, 0, 0, 0.15);\n",
              "      filter: drop-shadow(0px 1px 2px rgba(0, 0, 0, 0.3));\n",
              "      fill: #FFFFFF;\n",
              "    }\n",
              "  </style>\n",
              "\n",
              "      <script>\n",
              "        const buttonEl =\n",
              "          document.querySelector('#df-71326bde-592f-4dfd-a0eb-53e4bfb4428e button.colab-df-convert');\n",
              "        buttonEl.style.display =\n",
              "          google.colab.kernel.accessAllowed ? 'block' : 'none';\n",
              "\n",
              "        async function convertToInteractive(key) {\n",
              "          const element = document.querySelector('#df-71326bde-592f-4dfd-a0eb-53e4bfb4428e');\n",
              "          const dataTable =\n",
              "            await google.colab.kernel.invokeFunction('convertToInteractive',\n",
              "                                                     [key], {});\n",
              "          if (!dataTable) return;\n",
              "\n",
              "          const docLinkHtml = 'Like what you see? Visit the ' +\n",
              "            '<a target=\"_blank\" href=https://colab.research.google.com/notebooks/data_table.ipynb>data table notebook</a>'\n",
              "            + ' to learn more about interactive tables.';\n",
              "          element.innerHTML = '';\n",
              "          dataTable['output_type'] = 'display_data';\n",
              "          await google.colab.output.renderOutput(dataTable, element);\n",
              "          const docLink = document.createElement('div');\n",
              "          docLink.innerHTML = docLinkHtml;\n",
              "          element.appendChild(docLink);\n",
              "        }\n",
              "      </script>\n",
              "    </div>\n",
              "  </div>\n",
              "  "
            ]
          },
          "metadata": {},
          "execution_count": 20
        }
      ],
      "source": [
        "beauty.head()"
      ]
    },
    {
      "cell_type": "code",
      "source": [],
      "metadata": {
        "id": "cOHtHOCI9Sxr"
      },
      "execution_count": null,
      "outputs": []
    },
    {
      "cell_type": "code",
      "execution_count": null,
      "metadata": {
        "colab": {
          "base_uri": "https://localhost:8080/"
        },
        "id": "43xza8IOTt2G",
        "outputId": "81b25a37-1425-4c66-fb4f-40a06ca10e3f"
      },
      "outputs": [
        {
          "output_type": "execute_result",
          "data": {
            "text/plain": [
              "Positive             158710\n",
              "Stongly_Positive      22255\n",
              "Negative              15105\n",
              "Neutal                 1972\n",
              "Strongly_Negative       460\n",
              "Name: sentiment, dtype: int64"
            ]
          },
          "metadata": {},
          "execution_count": 21
        }
      ],
      "source": [
        "beauty[\"sentiment\"].value_counts()"
      ]
    },
    {
      "cell_type": "code",
      "execution_count": null,
      "metadata": {
        "colab": {
          "base_uri": "https://localhost:8080/"
        },
        "id": "Br-ZOgH3T_3m",
        "outputId": "b6cdcb65-6603-4449-e758-fc65605a2a6a"
      },
      "outputs": [
        {
          "output_type": "execute_result",
          "data": {
            "text/plain": [
              "5    114531\n",
              "4     39741\n",
              "3     22248\n",
              "2     11456\n",
              "1     10526\n",
              "Name: overall, dtype: int64"
            ]
          },
          "metadata": {},
          "execution_count": 22
        }
      ],
      "source": [
        "beauty[\"overall\"].value_counts()"
      ]
    },
    {
      "cell_type": "code",
      "execution_count": null,
      "metadata": {
        "colab": {
          "base_uri": "https://localhost:8080/",
          "height": 649
        },
        "id": "UZi8J_PoPXYd",
        "outputId": "738e9b95-0f61-4bbf-a666-badd06860dad"
      },
      "outputs": [
        {
          "output_type": "execute_result",
          "data": {
            "text/plain": [
              "                                                                                                                                                                                                                                                                                                                   reviewText  \\\n",
              "0                                                                                                                                                                                                                                    oily creamy expected ordered try highlight contour looked awful plus took forever arrive   \n",
              "1                                                                                                                                                                                                                        palette decent price looking different shades palette conceals decently however somewhat cake crease   \n",
              "2  texture concealer pallet fantastic great coverage wide variety uses guess meant professional makeup artists lot colours use use least two regular basis two occasionally reason im giving stars feel like range colors kind waste product wonderful cakey gives natural concealed imperfections therefore highly recommend   \n",
              "3                                                                                                                                                                                                                 really cant tell exactly thing powder kind oilish pasty fluid far tried twice doesnt really show color face   \n",
              "4                                                                                                                               little smaller expected okay lasted long time think great coverage price paid heavy wears within 301hr kinda dries skin id recommend people looking cheap coverage beginners learning conceal   \n",
              "\n",
              "                  summary        asin  \\\n",
              "0  Don't waste your money  7806397051   \n",
              "1             OK Palette!  7806397051   \n",
              "2           great quality  7806397051   \n",
              "3  Do not work on my face  7806397051   \n",
              "4              It's okay.  7806397051   \n",
              "\n",
              "                                                                                                                                                                                                                                                                                                                              combined_text  \\\n",
              "0                                                                                                                                                                                                                           oily creamy expected ordered try highlight contour looked awful plus took forever arrive Don't waste your money   \n",
              "1                                                                                                                                                                                                                          palette decent price looking different shades palette conceals decently however somewhat cake crease OK Palette!   \n",
              "2  texture concealer pallet fantastic great coverage wide variety uses guess meant professional makeup artists lot colours use use least two regular basis two occasionally reason im giving stars feel like range colors kind waste product wonderful cakey gives natural concealed imperfections therefore highly recommend great quality   \n",
              "3                                                                                                                                                                                                        really cant tell exactly thing powder kind oilish pasty fluid far tried twice doesnt really show color face Do not work on my face   \n",
              "4                                                                                                                                  little smaller expected okay lasted long time think great coverage price paid heavy wears within 301hr kinda dries skin id recommend people looking cheap coverage beginners learning conceal It's okay.   \n",
              "\n",
              "          decision  polarity sentiment  overall  target  \n",
              "0  NOT RECOMMENDED -0.433333  Negative        1       2  \n",
              "1      RECOMMENDED  0.239583  Positive        3       4  \n",
              "2      RECOMMENDED  0.258462  Positive        4       4  \n",
              "3  NOT RECOMMENDED  0.225000  Positive        2       4  \n",
              "4      RECOMMENDED  0.184722  Positive        3       4  "
            ],
            "text/html": [
              "\n",
              "  <div id=\"df-a658c248-b996-496e-8e89-f93ddc75de7b\">\n",
              "    <div class=\"colab-df-container\">\n",
              "      <div>\n",
              "<style scoped>\n",
              "    .dataframe tbody tr th:only-of-type {\n",
              "        vertical-align: middle;\n",
              "    }\n",
              "\n",
              "    .dataframe tbody tr th {\n",
              "        vertical-align: top;\n",
              "    }\n",
              "\n",
              "    .dataframe thead th {\n",
              "        text-align: right;\n",
              "    }\n",
              "</style>\n",
              "<table border=\"1\" class=\"dataframe\">\n",
              "  <thead>\n",
              "    <tr style=\"text-align: right;\">\n",
              "      <th></th>\n",
              "      <th>reviewText</th>\n",
              "      <th>summary</th>\n",
              "      <th>asin</th>\n",
              "      <th>combined_text</th>\n",
              "      <th>decision</th>\n",
              "      <th>polarity</th>\n",
              "      <th>sentiment</th>\n",
              "      <th>overall</th>\n",
              "      <th>target</th>\n",
              "    </tr>\n",
              "  </thead>\n",
              "  <tbody>\n",
              "    <tr>\n",
              "      <th>0</th>\n",
              "      <td>oily creamy expected ordered try highlight contour looked awful plus took forever arrive</td>\n",
              "      <td>Don't waste your money</td>\n",
              "      <td>7806397051</td>\n",
              "      <td>oily creamy expected ordered try highlight contour looked awful plus took forever arrive Don't waste your money</td>\n",
              "      <td>NOT RECOMMENDED</td>\n",
              "      <td>-0.433333</td>\n",
              "      <td>Negative</td>\n",
              "      <td>1</td>\n",
              "      <td>2</td>\n",
              "    </tr>\n",
              "    <tr>\n",
              "      <th>1</th>\n",
              "      <td>palette decent price looking different shades palette conceals decently however somewhat cake crease</td>\n",
              "      <td>OK Palette!</td>\n",
              "      <td>7806397051</td>\n",
              "      <td>palette decent price looking different shades palette conceals decently however somewhat cake crease OK Palette!</td>\n",
              "      <td>RECOMMENDED</td>\n",
              "      <td>0.239583</td>\n",
              "      <td>Positive</td>\n",
              "      <td>3</td>\n",
              "      <td>4</td>\n",
              "    </tr>\n",
              "    <tr>\n",
              "      <th>2</th>\n",
              "      <td>texture concealer pallet fantastic great coverage wide variety uses guess meant professional makeup artists lot colours use use least two regular basis two occasionally reason im giving stars feel like range colors kind waste product wonderful cakey gives natural concealed imperfections therefore highly recommend</td>\n",
              "      <td>great quality</td>\n",
              "      <td>7806397051</td>\n",
              "      <td>texture concealer pallet fantastic great coverage wide variety uses guess meant professional makeup artists lot colours use use least two regular basis two occasionally reason im giving stars feel like range colors kind waste product wonderful cakey gives natural concealed imperfections therefore highly recommend great quality</td>\n",
              "      <td>RECOMMENDED</td>\n",
              "      <td>0.258462</td>\n",
              "      <td>Positive</td>\n",
              "      <td>4</td>\n",
              "      <td>4</td>\n",
              "    </tr>\n",
              "    <tr>\n",
              "      <th>3</th>\n",
              "      <td>really cant tell exactly thing powder kind oilish pasty fluid far tried twice doesnt really show color face</td>\n",
              "      <td>Do not work on my face</td>\n",
              "      <td>7806397051</td>\n",
              "      <td>really cant tell exactly thing powder kind oilish pasty fluid far tried twice doesnt really show color face Do not work on my face</td>\n",
              "      <td>NOT RECOMMENDED</td>\n",
              "      <td>0.225000</td>\n",
              "      <td>Positive</td>\n",
              "      <td>2</td>\n",
              "      <td>4</td>\n",
              "    </tr>\n",
              "    <tr>\n",
              "      <th>4</th>\n",
              "      <td>little smaller expected okay lasted long time think great coverage price paid heavy wears within 301hr kinda dries skin id recommend people looking cheap coverage beginners learning conceal</td>\n",
              "      <td>It's okay.</td>\n",
              "      <td>7806397051</td>\n",
              "      <td>little smaller expected okay lasted long time think great coverage price paid heavy wears within 301hr kinda dries skin id recommend people looking cheap coverage beginners learning conceal It's okay.</td>\n",
              "      <td>RECOMMENDED</td>\n",
              "      <td>0.184722</td>\n",
              "      <td>Positive</td>\n",
              "      <td>3</td>\n",
              "      <td>4</td>\n",
              "    </tr>\n",
              "  </tbody>\n",
              "</table>\n",
              "</div>\n",
              "      <button class=\"colab-df-convert\" onclick=\"convertToInteractive('df-a658c248-b996-496e-8e89-f93ddc75de7b')\"\n",
              "              title=\"Convert this dataframe to an interactive table.\"\n",
              "              style=\"display:none;\">\n",
              "        \n",
              "  <svg xmlns=\"http://www.w3.org/2000/svg\" height=\"24px\"viewBox=\"0 0 24 24\"\n",
              "       width=\"24px\">\n",
              "    <path d=\"M0 0h24v24H0V0z\" fill=\"none\"/>\n",
              "    <path d=\"M18.56 5.44l.94 2.06.94-2.06 2.06-.94-2.06-.94-.94-2.06-.94 2.06-2.06.94zm-11 1L8.5 8.5l.94-2.06 2.06-.94-2.06-.94L8.5 2.5l-.94 2.06-2.06.94zm10 10l.94 2.06.94-2.06 2.06-.94-2.06-.94-.94-2.06-.94 2.06-2.06.94z\"/><path d=\"M17.41 7.96l-1.37-1.37c-.4-.4-.92-.59-1.43-.59-.52 0-1.04.2-1.43.59L10.3 9.45l-7.72 7.72c-.78.78-.78 2.05 0 2.83L4 21.41c.39.39.9.59 1.41.59.51 0 1.02-.2 1.41-.59l7.78-7.78 2.81-2.81c.8-.78.8-2.07 0-2.86zM5.41 20L4 18.59l7.72-7.72 1.47 1.35L5.41 20z\"/>\n",
              "  </svg>\n",
              "      </button>\n",
              "      \n",
              "  <style>\n",
              "    .colab-df-container {\n",
              "      display:flex;\n",
              "      flex-wrap:wrap;\n",
              "      gap: 12px;\n",
              "    }\n",
              "\n",
              "    .colab-df-convert {\n",
              "      background-color: #E8F0FE;\n",
              "      border: none;\n",
              "      border-radius: 50%;\n",
              "      cursor: pointer;\n",
              "      display: none;\n",
              "      fill: #1967D2;\n",
              "      height: 32px;\n",
              "      padding: 0 0 0 0;\n",
              "      width: 32px;\n",
              "    }\n",
              "\n",
              "    .colab-df-convert:hover {\n",
              "      background-color: #E2EBFA;\n",
              "      box-shadow: 0px 1px 2px rgba(60, 64, 67, 0.3), 0px 1px 3px 1px rgba(60, 64, 67, 0.15);\n",
              "      fill: #174EA6;\n",
              "    }\n",
              "\n",
              "    [theme=dark] .colab-df-convert {\n",
              "      background-color: #3B4455;\n",
              "      fill: #D2E3FC;\n",
              "    }\n",
              "\n",
              "    [theme=dark] .colab-df-convert:hover {\n",
              "      background-color: #434B5C;\n",
              "      box-shadow: 0px 1px 3px 1px rgba(0, 0, 0, 0.15);\n",
              "      filter: drop-shadow(0px 1px 2px rgba(0, 0, 0, 0.3));\n",
              "      fill: #FFFFFF;\n",
              "    }\n",
              "  </style>\n",
              "\n",
              "      <script>\n",
              "        const buttonEl =\n",
              "          document.querySelector('#df-a658c248-b996-496e-8e89-f93ddc75de7b button.colab-df-convert');\n",
              "        buttonEl.style.display =\n",
              "          google.colab.kernel.accessAllowed ? 'block' : 'none';\n",
              "\n",
              "        async function convertToInteractive(key) {\n",
              "          const element = document.querySelector('#df-a658c248-b996-496e-8e89-f93ddc75de7b');\n",
              "          const dataTable =\n",
              "            await google.colab.kernel.invokeFunction('convertToInteractive',\n",
              "                                                     [key], {});\n",
              "          if (!dataTable) return;\n",
              "\n",
              "          const docLinkHtml = 'Like what you see? Visit the ' +\n",
              "            '<a target=\"_blank\" href=https://colab.research.google.com/notebooks/data_table.ipynb>data table notebook</a>'\n",
              "            + ' to learn more about interactive tables.';\n",
              "          element.innerHTML = '';\n",
              "          dataTable['output_type'] = 'display_data';\n",
              "          await google.colab.output.renderOutput(dataTable, element);\n",
              "          const docLink = document.createElement('div');\n",
              "          docLink.innerHTML = docLinkHtml;\n",
              "          element.appendChild(docLink);\n",
              "        }\n",
              "      </script>\n",
              "    </div>\n",
              "  </div>\n",
              "  "
            ]
          },
          "metadata": {},
          "execution_count": 23
        }
      ],
      "source": [
        "beauty.head()"
      ]
    },
    {
      "cell_type": "code",
      "execution_count": null,
      "metadata": {
        "id": "uZ1sdAKlw3Fj"
      },
      "outputs": [],
      "source": [
        "def lemma_c(corpus):\n",
        "  import nltk\n",
        "  nltk.download('wordnet')\n",
        "  from nltk.stem import WordNetLemmatizer\n",
        "  lemmmatizer = WordNetLemmatizer()\n",
        "  return [' '.join([lemmmatizer.lemmatize(word) for word in review.split()]) for review in corpus]"
      ]
    },
    {
      "cell_type": "code",
      "execution_count": null,
      "metadata": {
        "colab": {
          "base_uri": "https://localhost:8080/"
        },
        "id": "hK6rxFgSxTlx",
        "outputId": "c18ecb13-afec-401e-d4ec-e5bdd7c8a2ff"
      },
      "outputs": [
        {
          "output_type": "stream",
          "name": "stderr",
          "text": [
            "[nltk_data] Downloading package omw-1.4 to /root/nltk_data...\n",
            "[nltk_data] Downloading package wordnet to /root/nltk_data...\n"
          ]
        }
      ],
      "source": [
        "import nltk\n",
        "nltk.download('omw-1.4')\n",
        "lemmatized = lemma_c(beauty[\"combined_text\"])"
      ]
    },
    {
      "cell_type": "code",
      "execution_count": null,
      "metadata": {
        "id": "jPER0qk8zqoE"
      },
      "outputs": [],
      "source": [
        "beauty[\"lemmatized\"]=lemmatized"
      ]
    },
    {
      "cell_type": "code",
      "execution_count": null,
      "metadata": {
        "colab": {
          "base_uri": "https://localhost:8080/",
          "height": 927
        },
        "id": "7h4Sn2ma3AiC",
        "outputId": "e2f0da8a-7a00-4031-d615-3c8934a9e1b4"
      },
      "outputs": [
        {
          "output_type": "execute_result",
          "data": {
            "text/plain": [
              "                                                                                                                                                                                                                                                                                                                   reviewText  \\\n",
              "0                                                                                                                                                                                                                                    oily creamy expected ordered try highlight contour looked awful plus took forever arrive   \n",
              "1                                                                                                                                                                                                                        palette decent price looking different shades palette conceals decently however somewhat cake crease   \n",
              "2  texture concealer pallet fantastic great coverage wide variety uses guess meant professional makeup artists lot colours use use least two regular basis two occasionally reason im giving stars feel like range colors kind waste product wonderful cakey gives natural concealed imperfections therefore highly recommend   \n",
              "3                                                                                                                                                                                                                 really cant tell exactly thing powder kind oilish pasty fluid far tried twice doesnt really show color face   \n",
              "4                                                                                                                               little smaller expected okay lasted long time think great coverage price paid heavy wears within 301hr kinda dries skin id recommend people looking cheap coverage beginners learning conceal   \n",
              "\n",
              "                  summary        asin  \\\n",
              "0  Don't waste your money  7806397051   \n",
              "1             OK Palette!  7806397051   \n",
              "2           great quality  7806397051   \n",
              "3  Do not work on my face  7806397051   \n",
              "4              It's okay.  7806397051   \n",
              "\n",
              "                                                                                                                                                                                                                                                                                                                              combined_text  \\\n",
              "0                                                                                                                                                                                                                           oily creamy expected ordered try highlight contour looked awful plus took forever arrive Don't waste your money   \n",
              "1                                                                                                                                                                                                                          palette decent price looking different shades palette conceals decently however somewhat cake crease OK Palette!   \n",
              "2  texture concealer pallet fantastic great coverage wide variety uses guess meant professional makeup artists lot colours use use least two regular basis two occasionally reason im giving stars feel like range colors kind waste product wonderful cakey gives natural concealed imperfections therefore highly recommend great quality   \n",
              "3                                                                                                                                                                                                        really cant tell exactly thing powder kind oilish pasty fluid far tried twice doesnt really show color face Do not work on my face   \n",
              "4                                                                                                                                  little smaller expected okay lasted long time think great coverage price paid heavy wears within 301hr kinda dries skin id recommend people looking cheap coverage beginners learning conceal It's okay.   \n",
              "\n",
              "          decision  polarity sentiment  overall  target  \\\n",
              "0  NOT RECOMMENDED -0.433333  Negative        1       2   \n",
              "1      RECOMMENDED  0.239583  Positive        3       4   \n",
              "2      RECOMMENDED  0.258462  Positive        4       4   \n",
              "3  NOT RECOMMENDED  0.225000  Positive        2       4   \n",
              "4      RECOMMENDED  0.184722  Positive        3       4   \n",
              "\n",
              "                                                                                                                                                                                                                                                                                                                         lemmatized  \n",
              "0                                                                                                                                                                                                                   oily creamy expected ordered try highlight contour looked awful plus took forever arrive Don't waste your money  \n",
              "1                                                                                                                                                                                                                   palette decent price looking different shade palette conceals decently however somewhat cake crease OK Palette!  \n",
              "2  texture concealer pallet fantastic great coverage wide variety us guess meant professional makeup artist lot colour use use least two regular basis two occasionally reason im giving star feel like range color kind waste product wonderful cakey give natural concealed imperfection therefore highly recommend great quality  \n",
              "3                                                                                                                                                                                                really cant tell exactly thing powder kind oilish pasty fluid far tried twice doesnt really show color face Do not work on my face  \n",
              "4                                                                                                                              little smaller expected okay lasted long time think great coverage price paid heavy wear within 301hr kinda dry skin id recommend people looking cheap coverage beginner learning conceal It's okay.  "
            ],
            "text/html": [
              "\n",
              "  <div id=\"df-c320bfbf-ad96-4a15-903e-a8704260f751\">\n",
              "    <div class=\"colab-df-container\">\n",
              "      <div>\n",
              "<style scoped>\n",
              "    .dataframe tbody tr th:only-of-type {\n",
              "        vertical-align: middle;\n",
              "    }\n",
              "\n",
              "    .dataframe tbody tr th {\n",
              "        vertical-align: top;\n",
              "    }\n",
              "\n",
              "    .dataframe thead th {\n",
              "        text-align: right;\n",
              "    }\n",
              "</style>\n",
              "<table border=\"1\" class=\"dataframe\">\n",
              "  <thead>\n",
              "    <tr style=\"text-align: right;\">\n",
              "      <th></th>\n",
              "      <th>reviewText</th>\n",
              "      <th>summary</th>\n",
              "      <th>asin</th>\n",
              "      <th>combined_text</th>\n",
              "      <th>decision</th>\n",
              "      <th>polarity</th>\n",
              "      <th>sentiment</th>\n",
              "      <th>overall</th>\n",
              "      <th>target</th>\n",
              "      <th>lemmatized</th>\n",
              "    </tr>\n",
              "  </thead>\n",
              "  <tbody>\n",
              "    <tr>\n",
              "      <th>0</th>\n",
              "      <td>oily creamy expected ordered try highlight contour looked awful plus took forever arrive</td>\n",
              "      <td>Don't waste your money</td>\n",
              "      <td>7806397051</td>\n",
              "      <td>oily creamy expected ordered try highlight contour looked awful plus took forever arrive Don't waste your money</td>\n",
              "      <td>NOT RECOMMENDED</td>\n",
              "      <td>-0.433333</td>\n",
              "      <td>Negative</td>\n",
              "      <td>1</td>\n",
              "      <td>2</td>\n",
              "      <td>oily creamy expected ordered try highlight contour looked awful plus took forever arrive Don't waste your money</td>\n",
              "    </tr>\n",
              "    <tr>\n",
              "      <th>1</th>\n",
              "      <td>palette decent price looking different shades palette conceals decently however somewhat cake crease</td>\n",
              "      <td>OK Palette!</td>\n",
              "      <td>7806397051</td>\n",
              "      <td>palette decent price looking different shades palette conceals decently however somewhat cake crease OK Palette!</td>\n",
              "      <td>RECOMMENDED</td>\n",
              "      <td>0.239583</td>\n",
              "      <td>Positive</td>\n",
              "      <td>3</td>\n",
              "      <td>4</td>\n",
              "      <td>palette decent price looking different shade palette conceals decently however somewhat cake crease OK Palette!</td>\n",
              "    </tr>\n",
              "    <tr>\n",
              "      <th>2</th>\n",
              "      <td>texture concealer pallet fantastic great coverage wide variety uses guess meant professional makeup artists lot colours use use least two regular basis two occasionally reason im giving stars feel like range colors kind waste product wonderful cakey gives natural concealed imperfections therefore highly recommend</td>\n",
              "      <td>great quality</td>\n",
              "      <td>7806397051</td>\n",
              "      <td>texture concealer pallet fantastic great coverage wide variety uses guess meant professional makeup artists lot colours use use least two regular basis two occasionally reason im giving stars feel like range colors kind waste product wonderful cakey gives natural concealed imperfections therefore highly recommend great quality</td>\n",
              "      <td>RECOMMENDED</td>\n",
              "      <td>0.258462</td>\n",
              "      <td>Positive</td>\n",
              "      <td>4</td>\n",
              "      <td>4</td>\n",
              "      <td>texture concealer pallet fantastic great coverage wide variety us guess meant professional makeup artist lot colour use use least two regular basis two occasionally reason im giving star feel like range color kind waste product wonderful cakey give natural concealed imperfection therefore highly recommend great quality</td>\n",
              "    </tr>\n",
              "    <tr>\n",
              "      <th>3</th>\n",
              "      <td>really cant tell exactly thing powder kind oilish pasty fluid far tried twice doesnt really show color face</td>\n",
              "      <td>Do not work on my face</td>\n",
              "      <td>7806397051</td>\n",
              "      <td>really cant tell exactly thing powder kind oilish pasty fluid far tried twice doesnt really show color face Do not work on my face</td>\n",
              "      <td>NOT RECOMMENDED</td>\n",
              "      <td>0.225000</td>\n",
              "      <td>Positive</td>\n",
              "      <td>2</td>\n",
              "      <td>4</td>\n",
              "      <td>really cant tell exactly thing powder kind oilish pasty fluid far tried twice doesnt really show color face Do not work on my face</td>\n",
              "    </tr>\n",
              "    <tr>\n",
              "      <th>4</th>\n",
              "      <td>little smaller expected okay lasted long time think great coverage price paid heavy wears within 301hr kinda dries skin id recommend people looking cheap coverage beginners learning conceal</td>\n",
              "      <td>It's okay.</td>\n",
              "      <td>7806397051</td>\n",
              "      <td>little smaller expected okay lasted long time think great coverage price paid heavy wears within 301hr kinda dries skin id recommend people looking cheap coverage beginners learning conceal It's okay.</td>\n",
              "      <td>RECOMMENDED</td>\n",
              "      <td>0.184722</td>\n",
              "      <td>Positive</td>\n",
              "      <td>3</td>\n",
              "      <td>4</td>\n",
              "      <td>little smaller expected okay lasted long time think great coverage price paid heavy wear within 301hr kinda dry skin id recommend people looking cheap coverage beginner learning conceal It's okay.</td>\n",
              "    </tr>\n",
              "  </tbody>\n",
              "</table>\n",
              "</div>\n",
              "      <button class=\"colab-df-convert\" onclick=\"convertToInteractive('df-c320bfbf-ad96-4a15-903e-a8704260f751')\"\n",
              "              title=\"Convert this dataframe to an interactive table.\"\n",
              "              style=\"display:none;\">\n",
              "        \n",
              "  <svg xmlns=\"http://www.w3.org/2000/svg\" height=\"24px\"viewBox=\"0 0 24 24\"\n",
              "       width=\"24px\">\n",
              "    <path d=\"M0 0h24v24H0V0z\" fill=\"none\"/>\n",
              "    <path d=\"M18.56 5.44l.94 2.06.94-2.06 2.06-.94-2.06-.94-.94-2.06-.94 2.06-2.06.94zm-11 1L8.5 8.5l.94-2.06 2.06-.94-2.06-.94L8.5 2.5l-.94 2.06-2.06.94zm10 10l.94 2.06.94-2.06 2.06-.94-2.06-.94-.94-2.06-.94 2.06-2.06.94z\"/><path d=\"M17.41 7.96l-1.37-1.37c-.4-.4-.92-.59-1.43-.59-.52 0-1.04.2-1.43.59L10.3 9.45l-7.72 7.72c-.78.78-.78 2.05 0 2.83L4 21.41c.39.39.9.59 1.41.59.51 0 1.02-.2 1.41-.59l7.78-7.78 2.81-2.81c.8-.78.8-2.07 0-2.86zM5.41 20L4 18.59l7.72-7.72 1.47 1.35L5.41 20z\"/>\n",
              "  </svg>\n",
              "      </button>\n",
              "      \n",
              "  <style>\n",
              "    .colab-df-container {\n",
              "      display:flex;\n",
              "      flex-wrap:wrap;\n",
              "      gap: 12px;\n",
              "    }\n",
              "\n",
              "    .colab-df-convert {\n",
              "      background-color: #E8F0FE;\n",
              "      border: none;\n",
              "      border-radius: 50%;\n",
              "      cursor: pointer;\n",
              "      display: none;\n",
              "      fill: #1967D2;\n",
              "      height: 32px;\n",
              "      padding: 0 0 0 0;\n",
              "      width: 32px;\n",
              "    }\n",
              "\n",
              "    .colab-df-convert:hover {\n",
              "      background-color: #E2EBFA;\n",
              "      box-shadow: 0px 1px 2px rgba(60, 64, 67, 0.3), 0px 1px 3px 1px rgba(60, 64, 67, 0.15);\n",
              "      fill: #174EA6;\n",
              "    }\n",
              "\n",
              "    [theme=dark] .colab-df-convert {\n",
              "      background-color: #3B4455;\n",
              "      fill: #D2E3FC;\n",
              "    }\n",
              "\n",
              "    [theme=dark] .colab-df-convert:hover {\n",
              "      background-color: #434B5C;\n",
              "      box-shadow: 0px 1px 3px 1px rgba(0, 0, 0, 0.15);\n",
              "      filter: drop-shadow(0px 1px 2px rgba(0, 0, 0, 0.3));\n",
              "      fill: #FFFFFF;\n",
              "    }\n",
              "  </style>\n",
              "\n",
              "      <script>\n",
              "        const buttonEl =\n",
              "          document.querySelector('#df-c320bfbf-ad96-4a15-903e-a8704260f751 button.colab-df-convert');\n",
              "        buttonEl.style.display =\n",
              "          google.colab.kernel.accessAllowed ? 'block' : 'none';\n",
              "\n",
              "        async function convertToInteractive(key) {\n",
              "          const element = document.querySelector('#df-c320bfbf-ad96-4a15-903e-a8704260f751');\n",
              "          const dataTable =\n",
              "            await google.colab.kernel.invokeFunction('convertToInteractive',\n",
              "                                                     [key], {});\n",
              "          if (!dataTable) return;\n",
              "\n",
              "          const docLinkHtml = 'Like what you see? Visit the ' +\n",
              "            '<a target=\"_blank\" href=https://colab.research.google.com/notebooks/data_table.ipynb>data table notebook</a>'\n",
              "            + ' to learn more about interactive tables.';\n",
              "          element.innerHTML = '';\n",
              "          dataTable['output_type'] = 'display_data';\n",
              "          await google.colab.output.renderOutput(dataTable, element);\n",
              "          const docLink = document.createElement('div');\n",
              "          docLink.innerHTML = docLinkHtml;\n",
              "          element.appendChild(docLink);\n",
              "        }\n",
              "      </script>\n",
              "    </div>\n",
              "  </div>\n",
              "  "
            ]
          },
          "metadata": {},
          "execution_count": 27
        }
      ],
      "source": [
        "beauty.head()"
      ]
    },
    {
      "cell_type": "code",
      "execution_count": null,
      "metadata": {
        "colab": {
          "base_uri": "https://localhost:8080/",
          "height": 54
        },
        "id": "Fh2mHuqUL0MU",
        "outputId": "2a5eeb61-2b82-448d-ff24-09216c3369c0"
      },
      "outputs": [
        {
          "output_type": "execute_result",
          "data": {
            "text/plain": [
              "' Lipstick, kajal, liner, eyeliner, eyeshadow, mascara, concealer, bronzer, primer, face serum, hair serum, lip liner, lip balm, foundation blush, highlighter, compact, makeup blender, puff, brush '"
            ],
            "application/vnd.google.colaboratory.intrinsic+json": {
              "type": "string"
            }
          },
          "metadata": {},
          "execution_count": 28
        }
      ],
      "source": [
        "\"\"\" Lipstick, kajal, liner, eyeliner, eyeshadow, mascara, concealer, bronzer, primer, face serum, hair serum, lip liner, lip balm, foundation blush, highlighter, compact, makeup blender, puff, brush \"\"\""
      ]
    },
    {
      "cell_type": "code",
      "execution_count": null,
      "metadata": {
        "colab": {
          "base_uri": "https://localhost:8080/"
        },
        "id": "JJDbe6_-Xgo2",
        "outputId": "0602551a-36a3-400f-d351-ffc8e79e0993"
      },
      "outputs": [
        {
          "output_type": "execute_result",
          "data": {
            "text/plain": [
              "12101"
            ]
          },
          "metadata": {},
          "execution_count": 29
        }
      ],
      "source": [
        "len(beauty[\"asin\"].unique()) # no. products   "
      ]
    },
    {
      "cell_type": "code",
      "execution_count": null,
      "metadata": {
        "id": "K7mbtZzIy41Y"
      },
      "outputs": [],
      "source": [
        "product=[]\n",
        "review=[]\n",
        "for i in beauty[\"lemmatized\"]:\n",
        "  if \"hair\" in i:\n",
        "    product.append(\"Hair_Care_Product\")\n",
        "    review.append(i)\n",
        "  elif \"perfume\" in i:\n",
        "      product.append(\"Fragrance_Product\")\n",
        "      review.append(i)   \n",
        "  elif \"makeup\" in i:\n",
        "      product.append(\"Make-up\")\n",
        "      review.append(i)\n",
        "  elif \"Manicure\" in i:\n",
        "      product.append(\"Manicure & Pedicure\")\n",
        "      review.append(i)\n",
        "  elif \"Skin\" in i:\n",
        "      product.append(\"Skin_Care_Product\")\n",
        "      review.append(i)\n",
        "  elif \"shades\" in i:\n",
        "      product.append(\"Painting_Product\")\n",
        "      review.append(i)    \n",
        "  elif \"face\" in i:\n",
        "    product.append(\"Face_Product\")\n",
        "    review.append(i)\n",
        "  elif \"lip\" in i:\n",
        "    product.append(\"Lip_Care_Product\")\n",
        "    review.append(i)\n",
        "  elif \"kajal\" in i :\n",
        "    product.append(\"kajal\")\n",
        "    review.append(i)  \n",
        "  elif \"eye\" in i :\n",
        "    product.append(\"eye_care_products\")\n",
        "    review.append(i)\n",
        "  elif \"brush\" in i :\n",
        "    product.append(\"beauty_tools\")\n",
        "    review.append(i) \n",
        "  elif \"skin\" in i :\n",
        "    product.append(\"skin_care_product\")\n",
        "    review.append(i)  "
      ]
    },
    {
      "cell_type": "code",
      "execution_count": null,
      "metadata": {
        "id": "fHCATJLXROyy"
      },
      "outputs": [],
      "source": [
        "final=pd.DataFrame()"
      ]
    },
    {
      "cell_type": "code",
      "execution_count": null,
      "metadata": {
        "colab": {
          "base_uri": "https://localhost:8080/",
          "height": 194
        },
        "id": "Tn7QVtW5ubzt",
        "outputId": "704abc97-cbc4-4688-ba4f-411946be8185"
      },
      "outputs": [
        {
          "output_type": "execute_result",
          "data": {
            "text/plain": [
              "                                                                                 reviewText  \\\n",
              "0  oily creamy expected ordered try highlight contour looked awful plus took forever arrive   \n",
              "\n",
              "                  summary        asin  \\\n",
              "0  Don't waste your money  7806397051   \n",
              "\n",
              "                                                                                                     combined_text  \\\n",
              "0  oily creamy expected ordered try highlight contour looked awful plus took forever arrive Don't waste your money   \n",
              "\n",
              "          decision  polarity sentiment  overall  target  \\\n",
              "0  NOT RECOMMENDED -0.433333  Negative        1       2   \n",
              "\n",
              "                                                                                                        lemmatized  \n",
              "0  oily creamy expected ordered try highlight contour looked awful plus took forever arrive Don't waste your money  "
            ],
            "text/html": [
              "\n",
              "  <div id=\"df-5abee4b8-254a-4713-9fa3-8882d1884e80\">\n",
              "    <div class=\"colab-df-container\">\n",
              "      <div>\n",
              "<style scoped>\n",
              "    .dataframe tbody tr th:only-of-type {\n",
              "        vertical-align: middle;\n",
              "    }\n",
              "\n",
              "    .dataframe tbody tr th {\n",
              "        vertical-align: top;\n",
              "    }\n",
              "\n",
              "    .dataframe thead th {\n",
              "        text-align: right;\n",
              "    }\n",
              "</style>\n",
              "<table border=\"1\" class=\"dataframe\">\n",
              "  <thead>\n",
              "    <tr style=\"text-align: right;\">\n",
              "      <th></th>\n",
              "      <th>reviewText</th>\n",
              "      <th>summary</th>\n",
              "      <th>asin</th>\n",
              "      <th>combined_text</th>\n",
              "      <th>decision</th>\n",
              "      <th>polarity</th>\n",
              "      <th>sentiment</th>\n",
              "      <th>overall</th>\n",
              "      <th>target</th>\n",
              "      <th>lemmatized</th>\n",
              "    </tr>\n",
              "  </thead>\n",
              "  <tbody>\n",
              "    <tr>\n",
              "      <th>0</th>\n",
              "      <td>oily creamy expected ordered try highlight contour looked awful plus took forever arrive</td>\n",
              "      <td>Don't waste your money</td>\n",
              "      <td>7806397051</td>\n",
              "      <td>oily creamy expected ordered try highlight contour looked awful plus took forever arrive Don't waste your money</td>\n",
              "      <td>NOT RECOMMENDED</td>\n",
              "      <td>-0.433333</td>\n",
              "      <td>Negative</td>\n",
              "      <td>1</td>\n",
              "      <td>2</td>\n",
              "      <td>oily creamy expected ordered try highlight contour looked awful plus took forever arrive Don't waste your money</td>\n",
              "    </tr>\n",
              "  </tbody>\n",
              "</table>\n",
              "</div>\n",
              "      <button class=\"colab-df-convert\" onclick=\"convertToInteractive('df-5abee4b8-254a-4713-9fa3-8882d1884e80')\"\n",
              "              title=\"Convert this dataframe to an interactive table.\"\n",
              "              style=\"display:none;\">\n",
              "        \n",
              "  <svg xmlns=\"http://www.w3.org/2000/svg\" height=\"24px\"viewBox=\"0 0 24 24\"\n",
              "       width=\"24px\">\n",
              "    <path d=\"M0 0h24v24H0V0z\" fill=\"none\"/>\n",
              "    <path d=\"M18.56 5.44l.94 2.06.94-2.06 2.06-.94-2.06-.94-.94-2.06-.94 2.06-2.06.94zm-11 1L8.5 8.5l.94-2.06 2.06-.94-2.06-.94L8.5 2.5l-.94 2.06-2.06.94zm10 10l.94 2.06.94-2.06 2.06-.94-2.06-.94-.94-2.06-.94 2.06-2.06.94z\"/><path d=\"M17.41 7.96l-1.37-1.37c-.4-.4-.92-.59-1.43-.59-.52 0-1.04.2-1.43.59L10.3 9.45l-7.72 7.72c-.78.78-.78 2.05 0 2.83L4 21.41c.39.39.9.59 1.41.59.51 0 1.02-.2 1.41-.59l7.78-7.78 2.81-2.81c.8-.78.8-2.07 0-2.86zM5.41 20L4 18.59l7.72-7.72 1.47 1.35L5.41 20z\"/>\n",
              "  </svg>\n",
              "      </button>\n",
              "      \n",
              "  <style>\n",
              "    .colab-df-container {\n",
              "      display:flex;\n",
              "      flex-wrap:wrap;\n",
              "      gap: 12px;\n",
              "    }\n",
              "\n",
              "    .colab-df-convert {\n",
              "      background-color: #E8F0FE;\n",
              "      border: none;\n",
              "      border-radius: 50%;\n",
              "      cursor: pointer;\n",
              "      display: none;\n",
              "      fill: #1967D2;\n",
              "      height: 32px;\n",
              "      padding: 0 0 0 0;\n",
              "      width: 32px;\n",
              "    }\n",
              "\n",
              "    .colab-df-convert:hover {\n",
              "      background-color: #E2EBFA;\n",
              "      box-shadow: 0px 1px 2px rgba(60, 64, 67, 0.3), 0px 1px 3px 1px rgba(60, 64, 67, 0.15);\n",
              "      fill: #174EA6;\n",
              "    }\n",
              "\n",
              "    [theme=dark] .colab-df-convert {\n",
              "      background-color: #3B4455;\n",
              "      fill: #D2E3FC;\n",
              "    }\n",
              "\n",
              "    [theme=dark] .colab-df-convert:hover {\n",
              "      background-color: #434B5C;\n",
              "      box-shadow: 0px 1px 3px 1px rgba(0, 0, 0, 0.15);\n",
              "      filter: drop-shadow(0px 1px 2px rgba(0, 0, 0, 0.3));\n",
              "      fill: #FFFFFF;\n",
              "    }\n",
              "  </style>\n",
              "\n",
              "      <script>\n",
              "        const buttonEl =\n",
              "          document.querySelector('#df-5abee4b8-254a-4713-9fa3-8882d1884e80 button.colab-df-convert');\n",
              "        buttonEl.style.display =\n",
              "          google.colab.kernel.accessAllowed ? 'block' : 'none';\n",
              "\n",
              "        async function convertToInteractive(key) {\n",
              "          const element = document.querySelector('#df-5abee4b8-254a-4713-9fa3-8882d1884e80');\n",
              "          const dataTable =\n",
              "            await google.colab.kernel.invokeFunction('convertToInteractive',\n",
              "                                                     [key], {});\n",
              "          if (!dataTable) return;\n",
              "\n",
              "          const docLinkHtml = 'Like what you see? Visit the ' +\n",
              "            '<a target=\"_blank\" href=https://colab.research.google.com/notebooks/data_table.ipynb>data table notebook</a>'\n",
              "            + ' to learn more about interactive tables.';\n",
              "          element.innerHTML = '';\n",
              "          dataTable['output_type'] = 'display_data';\n",
              "          await google.colab.output.renderOutput(dataTable, element);\n",
              "          const docLink = document.createElement('div');\n",
              "          docLink.innerHTML = docLinkHtml;\n",
              "          element.appendChild(docLink);\n",
              "        }\n",
              "      </script>\n",
              "    </div>\n",
              "  </div>\n",
              "  "
            ]
          },
          "metadata": {},
          "execution_count": 32
        }
      ],
      "source": [
        "beauty.head(1)"
      ]
    },
    {
      "cell_type": "code",
      "execution_count": null,
      "metadata": {
        "id": "jeB3e3fauSzN"
      },
      "outputs": [],
      "source": [
        "product=[]\n",
        "review=[]\n",
        "product_id=[]\n",
        "for j in beauty[\"asin\"].unique()[:500]:                     #vgames_review_df[vgames_review_df['asin']==j]['reviewText']\n",
        "  for i in beauty[beauty['asin']==j]['lemmatized']:\n",
        "    if \"hair\" in i:\n",
        "      product.append(\"Hair_Care_Product\")\n",
        "      review.append(i)\n",
        "      product_id.append(j)\n",
        "    elif \"perfume\" in i:\n",
        "        product.append(\"Fragrance_Product\")\n",
        "        review.append(i)\n",
        "        product_id.append(j)   \n",
        "    elif \"makeup\" in i:\n",
        "        product.append(\"Make-up\")\n",
        "        review.append(i)\n",
        "        product_id.append(j)\n",
        "    elif \"Manicure\" in i:\n",
        "        product.append(\"Manicure & Pedicure\")\n",
        "        review.append(i)\n",
        "        product_id.append(j)\n",
        "    elif \"Skin\"  in i and \"face\" in i:\n",
        "        product.append(\"Face_Care_Product\")\n",
        "        review.append(i)\n",
        "        product_id.append(j)\n",
        "    elif \"shades\" in i:\n",
        "        product.append(\"Painting_Product\")\n",
        "        review.append(i)\n",
        "        product_id.append(j)    \n",
        "    elif \"face\" in i:\n",
        "      product.append(\"Face_Product\")\n",
        "      review.append(i)\n",
        "      product_id.append(j)\n",
        "    elif \"lip\" in i:\n",
        "      product.append(\"Lip_Care_Product\")\n",
        "      review.append(i)\n",
        "      product_id.append(j)\n",
        "    elif \"kajal\" in i :\n",
        "      product.append(\"kajal\")\n",
        "      review.append(i)\n",
        "      product_id.append(j)  \n",
        "    elif \"eye\" in i :\n",
        "      product.append(\"eye_care_products\")\n",
        "      review.append(i)\n",
        "      product_id.append(j)\n",
        "    elif \"brush\" in i :\n",
        "      product.append(\"beauty_tools\")\n",
        "      review.append(i)\n",
        "      product_id.append(j) \n",
        "    elif \"skin\" in i :\n",
        "      product.append(\"skin_care_product\")\n",
        "      review.append(i)\n",
        "      product_id.append(j)  "
      ]
    },
    {
      "cell_type": "code",
      "execution_count": null,
      "metadata": {
        "id": "oBQFk1jkvTrS"
      },
      "outputs": [],
      "source": [
        "final=pd.DataFrame()"
      ]
    },
    {
      "cell_type": "code",
      "execution_count": null,
      "metadata": {
        "id": "V_CZbIxuRSud"
      },
      "outputs": [],
      "source": [
        "final[\"review\"]=review\n",
        "final[\"product\"]=product\n",
        "final[\"product_id\"]=product_id\n",
        "#final[\"target\"]=target"
      ]
    },
    {
      "cell_type": "code",
      "execution_count": null,
      "metadata": {
        "colab": {
          "base_uri": "https://localhost:8080/"
        },
        "id": "61Gm_TkGRVCF",
        "outputId": "65ba597f-c902-4773-eb67-7e792f1950ab"
      },
      "outputs": [
        {
          "output_type": "execute_result",
          "data": {
            "text/plain": [
              "Hair_Care_Product      1695\n",
              "skin_care_product      1661\n",
              "Face_Product           1306\n",
              "Make-up                 592\n",
              "eye_care_products       399\n",
              "Fragrance_Product       237\n",
              "Lip_Care_Product        200\n",
              "beauty_tools            156\n",
              "Face_Care_Product        28\n",
              "Manicure & Pedicure       2\n",
              "Name: product, dtype: int64"
            ]
          },
          "metadata": {},
          "execution_count": 36
        }
      ],
      "source": [
        "final[\"product\"].value_counts()"
      ]
    },
    {
      "cell_type": "code",
      "execution_count": null,
      "metadata": {
        "colab": {
          "base_uri": "https://localhost:8080/",
          "height": 260
        },
        "id": "wSausgv3UnQb",
        "outputId": "59ad9384-5549-4c63-82ad-da5ab06221d3"
      },
      "outputs": [
        {
          "output_type": "execute_result",
          "data": {
            "text/plain": [
              "                                                                                                                                                                                                                                                                                                                                                                                                                                                                                                                                                                                                                                                                                                review  \\\n",
              "3643  ordered polish salon used call american manicure pink traditional french manicure first coat polish streaked badly polish thick couldnt get second coat nail kept adding polish thinner quite lot ultimately get thinner texture still streaked first coat well second coat put polish away day decided give one try giving time polish didnt streak one thin carefully applied coat exactly color wanted one coat good top coat natural looking manicureafter lot frustration adding thinner get right texture time letting polish meld thinner color texture polish wanted use bottle polish long start streaking im unsure purchase another bottle Princess Pink $518 (Sheer French Manicure)   \n",
              "3684                                                                                                                                                                                                                                                                                                         love create twist otherwise boring french manicure instead using white toe finger tip use dark color like one color work opi lincoln park midnight sephora im brad sephora 212 add translucent sparkle glaze like sally hansen diamond go soccer mom sexy mama color cherry chutney dark reddish purple wear well toe easy touch chip salon add flower gorgeous love Sexy French Manicure   \n",
              "\n",
              "                  product  product_id  \n",
              "3643  Manicure & Pedicure  B000142C1A  \n",
              "3684  Manicure & Pedicure  B000142FVW  "
            ],
            "text/html": [
              "\n",
              "  <div id=\"df-163dfb2c-6b43-4692-a32e-1aa7f915bca1\">\n",
              "    <div class=\"colab-df-container\">\n",
              "      <div>\n",
              "<style scoped>\n",
              "    .dataframe tbody tr th:only-of-type {\n",
              "        vertical-align: middle;\n",
              "    }\n",
              "\n",
              "    .dataframe tbody tr th {\n",
              "        vertical-align: top;\n",
              "    }\n",
              "\n",
              "    .dataframe thead th {\n",
              "        text-align: right;\n",
              "    }\n",
              "</style>\n",
              "<table border=\"1\" class=\"dataframe\">\n",
              "  <thead>\n",
              "    <tr style=\"text-align: right;\">\n",
              "      <th></th>\n",
              "      <th>review</th>\n",
              "      <th>product</th>\n",
              "      <th>product_id</th>\n",
              "    </tr>\n",
              "  </thead>\n",
              "  <tbody>\n",
              "    <tr>\n",
              "      <th>3643</th>\n",
              "      <td>ordered polish salon used call american manicure pink traditional french manicure first coat polish streaked badly polish thick couldnt get second coat nail kept adding polish thinner quite lot ultimately get thinner texture still streaked first coat well second coat put polish away day decided give one try giving time polish didnt streak one thin carefully applied coat exactly color wanted one coat good top coat natural looking manicureafter lot frustration adding thinner get right texture time letting polish meld thinner color texture polish wanted use bottle polish long start streaking im unsure purchase another bottle Princess Pink $518 (Sheer French Manicure)</td>\n",
              "      <td>Manicure &amp; Pedicure</td>\n",
              "      <td>B000142C1A</td>\n",
              "    </tr>\n",
              "    <tr>\n",
              "      <th>3684</th>\n",
              "      <td>love create twist otherwise boring french manicure instead using white toe finger tip use dark color like one color work opi lincoln park midnight sephora im brad sephora 212 add translucent sparkle glaze like sally hansen diamond go soccer mom sexy mama color cherry chutney dark reddish purple wear well toe easy touch chip salon add flower gorgeous love Sexy French Manicure</td>\n",
              "      <td>Manicure &amp; Pedicure</td>\n",
              "      <td>B000142FVW</td>\n",
              "    </tr>\n",
              "  </tbody>\n",
              "</table>\n",
              "</div>\n",
              "      <button class=\"colab-df-convert\" onclick=\"convertToInteractive('df-163dfb2c-6b43-4692-a32e-1aa7f915bca1')\"\n",
              "              title=\"Convert this dataframe to an interactive table.\"\n",
              "              style=\"display:none;\">\n",
              "        \n",
              "  <svg xmlns=\"http://www.w3.org/2000/svg\" height=\"24px\"viewBox=\"0 0 24 24\"\n",
              "       width=\"24px\">\n",
              "    <path d=\"M0 0h24v24H0V0z\" fill=\"none\"/>\n",
              "    <path d=\"M18.56 5.44l.94 2.06.94-2.06 2.06-.94-2.06-.94-.94-2.06-.94 2.06-2.06.94zm-11 1L8.5 8.5l.94-2.06 2.06-.94-2.06-.94L8.5 2.5l-.94 2.06-2.06.94zm10 10l.94 2.06.94-2.06 2.06-.94-2.06-.94-.94-2.06-.94 2.06-2.06.94z\"/><path d=\"M17.41 7.96l-1.37-1.37c-.4-.4-.92-.59-1.43-.59-.52 0-1.04.2-1.43.59L10.3 9.45l-7.72 7.72c-.78.78-.78 2.05 0 2.83L4 21.41c.39.39.9.59 1.41.59.51 0 1.02-.2 1.41-.59l7.78-7.78 2.81-2.81c.8-.78.8-2.07 0-2.86zM5.41 20L4 18.59l7.72-7.72 1.47 1.35L5.41 20z\"/>\n",
              "  </svg>\n",
              "      </button>\n",
              "      \n",
              "  <style>\n",
              "    .colab-df-container {\n",
              "      display:flex;\n",
              "      flex-wrap:wrap;\n",
              "      gap: 12px;\n",
              "    }\n",
              "\n",
              "    .colab-df-convert {\n",
              "      background-color: #E8F0FE;\n",
              "      border: none;\n",
              "      border-radius: 50%;\n",
              "      cursor: pointer;\n",
              "      display: none;\n",
              "      fill: #1967D2;\n",
              "      height: 32px;\n",
              "      padding: 0 0 0 0;\n",
              "      width: 32px;\n",
              "    }\n",
              "\n",
              "    .colab-df-convert:hover {\n",
              "      background-color: #E2EBFA;\n",
              "      box-shadow: 0px 1px 2px rgba(60, 64, 67, 0.3), 0px 1px 3px 1px rgba(60, 64, 67, 0.15);\n",
              "      fill: #174EA6;\n",
              "    }\n",
              "\n",
              "    [theme=dark] .colab-df-convert {\n",
              "      background-color: #3B4455;\n",
              "      fill: #D2E3FC;\n",
              "    }\n",
              "\n",
              "    [theme=dark] .colab-df-convert:hover {\n",
              "      background-color: #434B5C;\n",
              "      box-shadow: 0px 1px 3px 1px rgba(0, 0, 0, 0.15);\n",
              "      filter: drop-shadow(0px 1px 2px rgba(0, 0, 0, 0.3));\n",
              "      fill: #FFFFFF;\n",
              "    }\n",
              "  </style>\n",
              "\n",
              "      <script>\n",
              "        const buttonEl =\n",
              "          document.querySelector('#df-163dfb2c-6b43-4692-a32e-1aa7f915bca1 button.colab-df-convert');\n",
              "        buttonEl.style.display =\n",
              "          google.colab.kernel.accessAllowed ? 'block' : 'none';\n",
              "\n",
              "        async function convertToInteractive(key) {\n",
              "          const element = document.querySelector('#df-163dfb2c-6b43-4692-a32e-1aa7f915bca1');\n",
              "          const dataTable =\n",
              "            await google.colab.kernel.invokeFunction('convertToInteractive',\n",
              "                                                     [key], {});\n",
              "          if (!dataTable) return;\n",
              "\n",
              "          const docLinkHtml = 'Like what you see? Visit the ' +\n",
              "            '<a target=\"_blank\" href=https://colab.research.google.com/notebooks/data_table.ipynb>data table notebook</a>'\n",
              "            + ' to learn more about interactive tables.';\n",
              "          element.innerHTML = '';\n",
              "          dataTable['output_type'] = 'display_data';\n",
              "          await google.colab.output.renderOutput(dataTable, element);\n",
              "          const docLink = document.createElement('div');\n",
              "          docLink.innerHTML = docLinkHtml;\n",
              "          element.appendChild(docLink);\n",
              "        }\n",
              "      </script>\n",
              "    </div>\n",
              "  </div>\n",
              "  "
            ]
          },
          "metadata": {},
          "execution_count": 37
        }
      ],
      "source": [
        "final[final[\"product\"]==\"Manicure & Pedicure\"]"
      ]
    },
    {
      "cell_type": "code",
      "execution_count": null,
      "metadata": {
        "colab": {
          "base_uri": "https://localhost:8080/",
          "height": 762
        },
        "id": "Wun8I1MtB3Sk",
        "outputId": "ecce4c40-1eff-4975-ca1c-8a221acb60b3"
      },
      "outputs": [
        {
          "output_type": "execute_result",
          "data": {
            "text/plain": [
              "                                                                                                                                                                                                                                                                                                                                                                                                                                                                                                                                                                                                                                                                                                                                                                                                                               review  \\\n",
              "608                                                                                                                                                                                                                                                                                                                                                                                                                                                                                                                                                                                                       product def kill two bird one stone 27 wrinkle consciousness still outgrown occasional adolescent breakout used everything dermatologic philosophy etc proactive murad drugstore clarisonic brush work better AWESOME COMBO   \n",
              "806   choosing skin care product usually follow recommendation fromthe skin type solutionor paula begounsdont go cosmetic counter without dont go cosmetic counter without product one paulas pick overall excellent product decided try needed pick new cleanseri sensitive skin burn slightly first time used since fine also work great clarisonic brushsince writing review amazon isnt including ingredient list product wanted include herewater glycerin caprylic capric triglyceride cetyl ricinoleate isohexadecane teacocoyl glutamate methyl glucose sesquistearate stearyl alcohol cetyl alcohol peg40 hydrogenated castor oil peg20 methyl glucose sesquistearate bisabolol anthemis nobilis flower extract tocopheryl acetate dipotassium glycyrrhizate stearyl glycyrrhetinate tetrasodium edta acrylate c1030 alky...   \n",
              "837                                                                                                                                                                                                                                                                                                                                                                                              love love love cleanser im changing product time see find better fit always come back cleanser feel sooo good combination acne prone skin doesnt dry however feel clean well like leave mask time brush teeth 5 min rinse skin feel amazing there light tingling feeling incredible deep clean sensation say contains beta hydroxy im guessing acting little kind like light peeling refreshing complexion every time MY FAVORITE!!!   \n",
              "854                                                                                                                                                                                                                                                                                                                                                                                                                                          wife like mascara thickens lengthens without clumping favorite mascara one good also like washable easily removedshe doesnt care brush much others tried live one issue frustrates though brush short cannot reach bottom tube feel cannot use mascara availableshe rate 5 star would buy posted photo information A good mascara that lengthens and thickens and can be easily removed!   \n",
              "869                                                                                                                                                                                                                                                                                                                                                                                                                                                                                                                                                                                                                                         wife used qtips swab many year never problem way work come apart unravel normal usage includes using item small paint brush cleaning tool small object qtips swab always worked fine swab   \n",
              "...                                                                                                                                                                                                                                                                                                                                                                                                                                                                                                                                                                                                                                                                                                                                                                                                                               ...   \n",
              "5570                                                                                                                                                                                                                                                                                                                                                                                                                                                                                                                                                                                                                                                                                                                                 tried lot glue one work best even brush bond quickly easily easy apply le mess I would recommend   \n",
              "5808  pupps sorry ive bad husband putting steroid cream turned around actually cry midwife one checkup called doctor didnt realize left door open crack heard say ive never seen bad ever yeah bad last week deliver mine didnt know doula told end im glad didnt get induced early certainly considered lot oral steroid held week 38 wasnt sleeping much much choice help ton soap helped although terribly drying use rich bath oil cream afterwards sleep hour actually would take hot bath scrubbing brush soap would make itch worse theory much histamine released body fight hour least able sleep dont recommend unless youre lose tentative grip reality steroid cream really nothing make husband cry lol oral steroid amazing im glad waited long dd ill effect also scarring despite itching sleep wherever could rea...   \n",
              "6032                                                                                                                                                                                                                                                                                                                                                                                                                                                                                                                                                                                                                                                                                                                            hold promise smoothes rigdes provides smooth matte base nail polish applied good brush Good base coat   \n",
              "6035                                                                                                                                                                                                                                                                                                                                                                                                                                                                                                                                                    many mac single wonderful texture one whole middle quite hard brush doesnt pick color around edge great nice smooth blend well good shimmer glittery color little yellow super pale skin though gold hoping youre pale redhead maybe find warmer gold tone Consistency Issues   \n",
              "6041                                                                                                                                                                                                                                                                                                                                                                                                                                                                                                                                                                                                                                                                                             using around 2 yearsit give great coveragesometimes cause breakout regularly clean powder brush need foundation powder great powder!   \n",
              "\n",
              "           product  product_id  \n",
              "608   beauty_tools  B000052YOL  \n",
              "806   beauty_tools  B000052ZB2  \n",
              "837   beauty_tools  B000052ZB4  \n",
              "854   beauty_tools  B000052ZBH  \n",
              "869   beauty_tools  B00005304H  \n",
              "...            ...         ...  \n",
              "5570  beauty_tools  B00027D8IC  \n",
              "5808  beauty_tools  B00028LN1K  \n",
              "6032  beauty_tools  B0002DLEJG  \n",
              "6035  beauty_tools  B0002DNZAC  \n",
              "6041  beauty_tools  B0002DO1RS  \n",
              "\n",
              "[156 rows x 3 columns]"
            ],
            "text/html": [
              "\n",
              "  <div id=\"df-8656e5e6-a1a3-4a3f-bb43-80e249768efe\">\n",
              "    <div class=\"colab-df-container\">\n",
              "      <div>\n",
              "<style scoped>\n",
              "    .dataframe tbody tr th:only-of-type {\n",
              "        vertical-align: middle;\n",
              "    }\n",
              "\n",
              "    .dataframe tbody tr th {\n",
              "        vertical-align: top;\n",
              "    }\n",
              "\n",
              "    .dataframe thead th {\n",
              "        text-align: right;\n",
              "    }\n",
              "</style>\n",
              "<table border=\"1\" class=\"dataframe\">\n",
              "  <thead>\n",
              "    <tr style=\"text-align: right;\">\n",
              "      <th></th>\n",
              "      <th>review</th>\n",
              "      <th>product</th>\n",
              "      <th>product_id</th>\n",
              "    </tr>\n",
              "  </thead>\n",
              "  <tbody>\n",
              "    <tr>\n",
              "      <th>608</th>\n",
              "      <td>product def kill two bird one stone 27 wrinkle consciousness still outgrown occasional adolescent breakout used everything dermatologic philosophy etc proactive murad drugstore clarisonic brush work better AWESOME COMBO</td>\n",
              "      <td>beauty_tools</td>\n",
              "      <td>B000052YOL</td>\n",
              "    </tr>\n",
              "    <tr>\n",
              "      <th>806</th>\n",
              "      <td>choosing skin care product usually follow recommendation fromthe skin type solutionor paula begounsdont go cosmetic counter without dont go cosmetic counter without product one paulas pick overall excellent product decided try needed pick new cleanseri sensitive skin burn slightly first time used since fine also work great clarisonic brushsince writing review amazon isnt including ingredient list product wanted include herewater glycerin caprylic capric triglyceride cetyl ricinoleate isohexadecane teacocoyl glutamate methyl glucose sesquistearate stearyl alcohol cetyl alcohol peg40 hydrogenated castor oil peg20 methyl glucose sesquistearate bisabolol anthemis nobilis flower extract tocopheryl acetate dipotassium glycyrrhizate stearyl glycyrrhetinate tetrasodium edta acrylate c1030 alky...</td>\n",
              "      <td>beauty_tools</td>\n",
              "      <td>B000052ZB2</td>\n",
              "    </tr>\n",
              "    <tr>\n",
              "      <th>837</th>\n",
              "      <td>love love love cleanser im changing product time see find better fit always come back cleanser feel sooo good combination acne prone skin doesnt dry however feel clean well like leave mask time brush teeth 5 min rinse skin feel amazing there light tingling feeling incredible deep clean sensation say contains beta hydroxy im guessing acting little kind like light peeling refreshing complexion every time MY FAVORITE!!!</td>\n",
              "      <td>beauty_tools</td>\n",
              "      <td>B000052ZB4</td>\n",
              "    </tr>\n",
              "    <tr>\n",
              "      <th>854</th>\n",
              "      <td>wife like mascara thickens lengthens without clumping favorite mascara one good also like washable easily removedshe doesnt care brush much others tried live one issue frustrates though brush short cannot reach bottom tube feel cannot use mascara availableshe rate 5 star would buy posted photo information A good mascara that lengthens and thickens and can be easily removed!</td>\n",
              "      <td>beauty_tools</td>\n",
              "      <td>B000052ZBH</td>\n",
              "    </tr>\n",
              "    <tr>\n",
              "      <th>869</th>\n",
              "      <td>wife used qtips swab many year never problem way work come apart unravel normal usage includes using item small paint brush cleaning tool small object qtips swab always worked fine swab</td>\n",
              "      <td>beauty_tools</td>\n",
              "      <td>B00005304H</td>\n",
              "    </tr>\n",
              "    <tr>\n",
              "      <th>...</th>\n",
              "      <td>...</td>\n",
              "      <td>...</td>\n",
              "      <td>...</td>\n",
              "    </tr>\n",
              "    <tr>\n",
              "      <th>5570</th>\n",
              "      <td>tried lot glue one work best even brush bond quickly easily easy apply le mess I would recommend</td>\n",
              "      <td>beauty_tools</td>\n",
              "      <td>B00027D8IC</td>\n",
              "    </tr>\n",
              "    <tr>\n",
              "      <th>5808</th>\n",
              "      <td>pupps sorry ive bad husband putting steroid cream turned around actually cry midwife one checkup called doctor didnt realize left door open crack heard say ive never seen bad ever yeah bad last week deliver mine didnt know doula told end im glad didnt get induced early certainly considered lot oral steroid held week 38 wasnt sleeping much much choice help ton soap helped although terribly drying use rich bath oil cream afterwards sleep hour actually would take hot bath scrubbing brush soap would make itch worse theory much histamine released body fight hour least able sleep dont recommend unless youre lose tentative grip reality steroid cream really nothing make husband cry lol oral steroid amazing im glad waited long dd ill effect also scarring despite itching sleep wherever could rea...</td>\n",
              "      <td>beauty_tools</td>\n",
              "      <td>B00028LN1K</td>\n",
              "    </tr>\n",
              "    <tr>\n",
              "      <th>6032</th>\n",
              "      <td>hold promise smoothes rigdes provides smooth matte base nail polish applied good brush Good base coat</td>\n",
              "      <td>beauty_tools</td>\n",
              "      <td>B0002DLEJG</td>\n",
              "    </tr>\n",
              "    <tr>\n",
              "      <th>6035</th>\n",
              "      <td>many mac single wonderful texture one whole middle quite hard brush doesnt pick color around edge great nice smooth blend well good shimmer glittery color little yellow super pale skin though gold hoping youre pale redhead maybe find warmer gold tone Consistency Issues</td>\n",
              "      <td>beauty_tools</td>\n",
              "      <td>B0002DNZAC</td>\n",
              "    </tr>\n",
              "    <tr>\n",
              "      <th>6041</th>\n",
              "      <td>using around 2 yearsit give great coveragesometimes cause breakout regularly clean powder brush need foundation powder great powder!</td>\n",
              "      <td>beauty_tools</td>\n",
              "      <td>B0002DO1RS</td>\n",
              "    </tr>\n",
              "  </tbody>\n",
              "</table>\n",
              "<p>156 rows × 3 columns</p>\n",
              "</div>\n",
              "      <button class=\"colab-df-convert\" onclick=\"convertToInteractive('df-8656e5e6-a1a3-4a3f-bb43-80e249768efe')\"\n",
              "              title=\"Convert this dataframe to an interactive table.\"\n",
              "              style=\"display:none;\">\n",
              "        \n",
              "  <svg xmlns=\"http://www.w3.org/2000/svg\" height=\"24px\"viewBox=\"0 0 24 24\"\n",
              "       width=\"24px\">\n",
              "    <path d=\"M0 0h24v24H0V0z\" fill=\"none\"/>\n",
              "    <path d=\"M18.56 5.44l.94 2.06.94-2.06 2.06-.94-2.06-.94-.94-2.06-.94 2.06-2.06.94zm-11 1L8.5 8.5l.94-2.06 2.06-.94-2.06-.94L8.5 2.5l-.94 2.06-2.06.94zm10 10l.94 2.06.94-2.06 2.06-.94-2.06-.94-.94-2.06-.94 2.06-2.06.94z\"/><path d=\"M17.41 7.96l-1.37-1.37c-.4-.4-.92-.59-1.43-.59-.52 0-1.04.2-1.43.59L10.3 9.45l-7.72 7.72c-.78.78-.78 2.05 0 2.83L4 21.41c.39.39.9.59 1.41.59.51 0 1.02-.2 1.41-.59l7.78-7.78 2.81-2.81c.8-.78.8-2.07 0-2.86zM5.41 20L4 18.59l7.72-7.72 1.47 1.35L5.41 20z\"/>\n",
              "  </svg>\n",
              "      </button>\n",
              "      \n",
              "  <style>\n",
              "    .colab-df-container {\n",
              "      display:flex;\n",
              "      flex-wrap:wrap;\n",
              "      gap: 12px;\n",
              "    }\n",
              "\n",
              "    .colab-df-convert {\n",
              "      background-color: #E8F0FE;\n",
              "      border: none;\n",
              "      border-radius: 50%;\n",
              "      cursor: pointer;\n",
              "      display: none;\n",
              "      fill: #1967D2;\n",
              "      height: 32px;\n",
              "      padding: 0 0 0 0;\n",
              "      width: 32px;\n",
              "    }\n",
              "\n",
              "    .colab-df-convert:hover {\n",
              "      background-color: #E2EBFA;\n",
              "      box-shadow: 0px 1px 2px rgba(60, 64, 67, 0.3), 0px 1px 3px 1px rgba(60, 64, 67, 0.15);\n",
              "      fill: #174EA6;\n",
              "    }\n",
              "\n",
              "    [theme=dark] .colab-df-convert {\n",
              "      background-color: #3B4455;\n",
              "      fill: #D2E3FC;\n",
              "    }\n",
              "\n",
              "    [theme=dark] .colab-df-convert:hover {\n",
              "      background-color: #434B5C;\n",
              "      box-shadow: 0px 1px 3px 1px rgba(0, 0, 0, 0.15);\n",
              "      filter: drop-shadow(0px 1px 2px rgba(0, 0, 0, 0.3));\n",
              "      fill: #FFFFFF;\n",
              "    }\n",
              "  </style>\n",
              "\n",
              "      <script>\n",
              "        const buttonEl =\n",
              "          document.querySelector('#df-8656e5e6-a1a3-4a3f-bb43-80e249768efe button.colab-df-convert');\n",
              "        buttonEl.style.display =\n",
              "          google.colab.kernel.accessAllowed ? 'block' : 'none';\n",
              "\n",
              "        async function convertToInteractive(key) {\n",
              "          const element = document.querySelector('#df-8656e5e6-a1a3-4a3f-bb43-80e249768efe');\n",
              "          const dataTable =\n",
              "            await google.colab.kernel.invokeFunction('convertToInteractive',\n",
              "                                                     [key], {});\n",
              "          if (!dataTable) return;\n",
              "\n",
              "          const docLinkHtml = 'Like what you see? Visit the ' +\n",
              "            '<a target=\"_blank\" href=https://colab.research.google.com/notebooks/data_table.ipynb>data table notebook</a>'\n",
              "            + ' to learn more about interactive tables.';\n",
              "          element.innerHTML = '';\n",
              "          dataTable['output_type'] = 'display_data';\n",
              "          await google.colab.output.renderOutput(dataTable, element);\n",
              "          const docLink = document.createElement('div');\n",
              "          docLink.innerHTML = docLinkHtml;\n",
              "          element.appendChild(docLink);\n",
              "        }\n",
              "      </script>\n",
              "    </div>\n",
              "  </div>\n",
              "  "
            ]
          },
          "metadata": {},
          "execution_count": 38
        }
      ],
      "source": [
        "face=final[final[\"product\"]==\"beauty_tools\"]\n",
        "face"
      ]
    },
    {
      "cell_type": "code",
      "execution_count": null,
      "metadata": {
        "colab": {
          "base_uri": "https://localhost:8080/"
        },
        "id": "EZocoZJYxqsU",
        "outputId": "b89c42d7-f698-41e9-af2b-1472befc7226"
      },
      "outputs": [
        {
          "output_type": "execute_result",
          "data": {
            "text/plain": [
              "0    B0001EL658\n",
              "dtype: object"
            ]
          },
          "metadata": {},
          "execution_count": 39
        }
      ],
      "source": [
        "face[\"product_id\"].mode()"
      ]
    },
    {
      "cell_type": "code",
      "execution_count": null,
      "metadata": {
        "id": "oW9Bhgm4xqv4"
      },
      "outputs": [],
      "source": []
    },
    {
      "cell_type": "code",
      "execution_count": null,
      "metadata": {
        "colab": {
          "base_uri": "https://localhost:8080/",
          "height": 268
        },
        "id": "Q1c8Doq-VSuY",
        "outputId": "bef899d6-4783-4abd-eb1f-46bb308b3ff6"
      },
      "outputs": [
        {
          "output_type": "display_data",
          "data": {
            "text/plain": [
              "<Figure size 432x288 with 1 Axes>"
            ],
            "image/png": "[encoded data removed]"
          },
          "metadata": {}
        }
      ],
      "source": [
        "import matplotlib.pyplot as plt\n",
        "ax=beauty[\"overall\"].value_counts(sort=True).plot(kind=\"barh\")"
      ]
    },
    {
      "cell_type": "code",
      "execution_count": null,
      "metadata": {
        "colab": {
          "base_uri": "https://localhost:8080/",
          "height": 363
        },
        "id": "EPXgc1hvOha-",
        "outputId": "67f1241d-078a-4dba-8ee9-5590870b80e9"
      },
      "outputs": [
        {
          "output_type": "stream",
          "name": "stderr",
          "text": [
            "/usr/local/lib/python3.7/dist-packages/seaborn/_decorators.py:43: FutureWarning: Pass the following variable as a keyword arg: x. From version 0.12, the only valid positional argument will be `data`, and passing other arguments without an explicit keyword will result in an error or misinterpretation.\n",
            "  FutureWarning\n"
          ]
        },
        {
          "output_type": "execute_result",
          "data": {
            "text/plain": [
              "<matplotlib.axes._subplots.AxesSubplot at 0x7fb32edf6f10>"
            ]
          },
          "metadata": {},
          "execution_count": 41
        },
        {
          "output_type": "display_data",
          "data": {
            "text/plain": [
              "<Figure size 432x288 with 1 Axes>"
            ],
            "image/png": "[encoded data removed]"
          },
          "metadata": {}
        }
      ],
      "source": [
        "sns.countplot(beauty[\"overall\"])"
      ]
    },
    {
      "cell_type": "code",
      "execution_count": null,
      "metadata": {
        "colab": {
          "base_uri": "https://localhost:8080/",
          "height": 360
        },
        "id": "YEYpSMSOe8xA",
        "outputId": "4201b569-711b-48e4-88fb-6d04aa7890b9"
      },
      "outputs": [
        {
          "output_type": "stream",
          "name": "stderr",
          "text": [
            "/usr/local/lib/python3.7/dist-packages/seaborn/_decorators.py:43: FutureWarning: Pass the following variable as a keyword arg: x. From version 0.12, the only valid positional argument will be `data`, and passing other arguments without an explicit keyword will result in an error or misinterpretation.\n",
            "  FutureWarning\n"
          ]
        },
        {
          "output_type": "execute_result",
          "data": {
            "text/plain": [
              "<matplotlib.axes._subplots.AxesSubplot at 0x7fb32edd29d0>"
            ]
          },
          "metadata": {},
          "execution_count": 42
        },
        {
          "output_type": "display_data",
          "data": {
            "text/plain": [
              "<Figure size 432x288 with 1 Axes>"
            ],
            "image/png": "[encoded data removed]"
          },
          "metadata": {}
        }
      ],
      "source": [
        "import seaborn as sns\n",
        "sns.countplot(beauty[\"decision\"],palette= ([\"#D6B2B1\",\"#F3AB60\"]))"
      ]
    },
    {
      "cell_type": "code",
      "execution_count": null,
      "metadata": {
        "colab": {
          "base_uri": "https://localhost:8080/",
          "height": 420
        },
        "id": "q2Gk94GtfBXr",
        "outputId": "4e55debe-c9a6-473d-c12c-38f129c14f96"
      },
      "outputs": [
        {
          "output_type": "display_data",
          "data": {
            "text/plain": [
              "<Figure size 1656x576 with 1 Axes>"
            ],
            "image/png": "[encoded data removed]"
          },
          "metadata": {}
        }
      ],
      "source": [
        "from matplotlib.figure import Figure\n",
        "sns.set_theme(style=\"whitegrid\")\n",
        "sns.set(rc= {\"figure.figsize\": (23, 8)}) \n",
        "ax = sns.countplot(x=\"product\", data=final)"
      ]
    },
    {
      "cell_type": "code",
      "execution_count": null,
      "metadata": {
        "colab": {
          "base_uri": "https://localhost:8080/",
          "height": 415
        },
        "id": "ztmM73JxfJ0U",
        "outputId": "d19aa325-5306-4730-ec3f-1e1b0dfb9f73"
      },
      "outputs": [
        {
          "output_type": "stream",
          "name": "stderr",
          "text": [
            "/usr/local/lib/python3.7/dist-packages/seaborn/_decorators.py:43: FutureWarning: Pass the following variable as a keyword arg: x. From version 0.12, the only valid positional argument will be `data`, and passing other arguments without an explicit keyword will result in an error or misinterpretation.\n",
            "  FutureWarning\n"
          ]
        },
        {
          "output_type": "execute_result",
          "data": {
            "text/plain": [
              "<matplotlib.axes._subplots.AxesSubplot at 0x7fb32ed37310>"
            ]
          },
          "metadata": {},
          "execution_count": 44
        },
        {
          "output_type": "display_data",
          "data": {
            "text/plain": [
              "<Figure size 648x360 with 1 Axes>"
            ],
            "image/png": "[encoded data removed]"
          },
          "metadata": {}
        }
      ],
      "source": [
        "sns.set(rc= {\"figure.figsize\": (9, 5)}) \n",
        "sns.countplot(beauty[\"sentiment\"])\n"
      ]
    },
    {
      "cell_type": "code",
      "execution_count": null,
      "metadata": {
        "colab": {
          "base_uri": "https://localhost:8080/"
        },
        "id": "uEL_emURQAsR",
        "outputId": "7d5d88bb-e3ad-447b-bbb6-606dca07a0a8"
      },
      "outputs": [
        {
          "output_type": "stream",
          "name": "stdout",
          "text": [
            "Looking in indexes: https://pypi.org/simple, https://us-python.pkg.dev/colab-wheels/public/simple/\n",
            "Collecting transformers\n",
            "  Downloading transformers-4.21.3-py3-none-any.whl (4.7 MB)\n",
            "\u001b[K     |████████████████████████████████| 4.7 MB 8.1 MB/s \n",
            "\u001b[?25hRequirement already satisfied: tqdm>=4.27 in /usr/local/lib/python3.7/dist-packages (from transformers) (4.64.0)\n",
            "Requirement already satisfied: requests in /usr/local/lib/python3.7/dist-packages (from transformers) (2.23.0)\n",
            "Collecting tokenizers!=0.11.3,<0.13,>=0.11.1\n",
            "  Downloading tokenizers-0.12.1-cp37-cp37m-manylinux_2_12_x86_64.manylinux2010_x86_64.whl (6.6 MB)\n",
            "\u001b[K     |████████████████████████████████| 6.6 MB 57.3 MB/s \n",
            "\u001b[?25hCollecting huggingface-hub<1.0,>=0.1.0\n",
            "  Downloading huggingface_hub-0.9.1-py3-none-any.whl (120 kB)\n",
            "\u001b[K     |████████████████████████████████| 120 kB 71.3 MB/s \n",
            "\u001b[?25hRequirement already satisfied: pyyaml>=5.1 in /usr/local/lib/python3.7/dist-packages (from transformers) (6.0)\n",
            "Requirement already satisfied: regex!=2019.12.17 in /usr/local/lib/python3.7/dist-packages (from transformers) (2022.6.2)\n",
            "Requirement already satisfied: filelock in /usr/local/lib/python3.7/dist-packages (from transformers) (3.8.0)\n",
            "Requirement already satisfied: numpy>=1.17 in /usr/local/lib/python3.7/dist-packages (from transformers) (1.21.6)\n",
            "Requirement already satisfied: packaging>=20.0 in /usr/local/lib/python3.7/dist-packages (from transformers) (21.3)\n",
            "Requirement already satisfied: importlib-metadata in /usr/local/lib/python3.7/dist-packages (from transformers) (4.12.0)\n",
            "Requirement already satisfied: typing-extensions>=3.7.4.3 in /usr/local/lib/python3.7/dist-packages (from huggingface-hub<1.0,>=0.1.0->transformers) (4.1.1)\n",
            "Requirement already satisfied: pyparsing!=3.0.5,>=2.0.2 in /usr/local/lib/python3.7/dist-packages (from packaging>=20.0->transformers) (3.0.9)\n",
            "Requirement already satisfied: zipp>=0.5 in /usr/local/lib/python3.7/dist-packages (from importlib-metadata->transformers) (3.8.1)\n",
            "Requirement already satisfied: urllib3!=1.25.0,!=1.25.1,<1.26,>=1.21.1 in /usr/local/lib/python3.7/dist-packages (from requests->transformers) (1.24.3)\n",
            "Requirement already satisfied: chardet<4,>=3.0.2 in /usr/local/lib/python3.7/dist-packages (from requests->transformers) (3.0.4)\n",
            "Requirement already satisfied: certifi>=2017.4.17 in /usr/local/lib/python3.7/dist-packages (from requests->transformers) (2022.6.15)\n",
            "Requirement already satisfied: idna<3,>=2.5 in /usr/local/lib/python3.7/dist-packages (from requests->transformers) (2.10)\n",
            "Installing collected packages: tokenizers, huggingface-hub, transformers\n",
            "Successfully installed huggingface-hub-0.9.1 tokenizers-0.12.1 transformers-4.21.3\n"
          ]
        }
      ],
      "source": [
        "!pip install transformers"
      ]
    },
    {
      "cell_type": "code",
      "execution_count": null,
      "metadata": {
        "colab": {
          "base_uri": "https://localhost:8080/",
          "height": 36
        },
        "id": "KsOydss5ijgw",
        "outputId": "e49003b5-edde-49ca-d160-28afb1cd563d"
      },
      "outputs": [
        {
          "output_type": "execute_result",
          "data": {
            "text/plain": [
              "'!pip install torch==1.8.1+cu111 torchvision==0.9.1+cu111 torchaudio===0.8.1 -f https://download.pytorch.org/whl/torch_stable.html'"
            ],
            "application/vnd.google.colaboratory.intrinsic+json": {
              "type": "string"
            }
          },
          "metadata": {},
          "execution_count": 46
        }
      ],
      "source": [
        "'''!pip install torch==1.8.1+cu111 torchvision==0.9.1+cu111 torchaudio===0.8.1 -f https://download.pytorch.org/whl/torch_stable.html'''"
      ]
    },
    {
      "cell_type": "code",
      "execution_count": null,
      "metadata": {
        "id": "2tqjYP4DeGQm"
      },
      "outputs": [],
      "source": []
    },
    {
      "cell_type": "code",
      "execution_count": null,
      "metadata": {
        "id": "08KwBoxB14HR"
      },
      "outputs": [],
      "source": [
        "from transformers import AutoTokenizer, AutoModelForSequenceClassification # autotokenizer willl take text and convert into number \n",
        "import torch"
      ]
    },
    {
      "cell_type": "code",
      "execution_count": null,
      "metadata": {
        "colab": {
          "base_uri": "https://localhost:8080/",
          "height": 177,
          "referenced_widgets": [
            "5c5dd52179d64510bd454705e1400311",
            "44fba74da0b847189bc0bc239c444692",
            "dd20967d59484c63bce3bbbaf478bcd4",
            "ba3419970d62425c8b7674c1c8ee407a",
            "edbdc54d37894af89ae77449282db295",
            "bcf3b1ddeafc46fe8ba4a43323bc1c90",
            "5bccd4f006744553ab8fccd1541dc401",
            "3527b23d21d64a01a0a59422b484308b",
            "380ae9b900f749f5b7f15f8bc2a48415",
            "7f71153f8d8940729ec32bbe422086bf",
            "f885293193194867950f36e320ff3841",
            "9522c99592eb4136a02d00b6f24966ac",
            "df37bb0fc7b84f8ab8f18e16ec0faf7d",
            "cdcf6f7719644682ae2ea0e6d5857859",
            "f9a32e4f276540259a05fe149d98cf3b",
            "050bceea1af04e2fba45a0a38b0fd120",
            "f2d8f07ea0cc4628b8c2c4be4dbda93f",
            "b29b32767f23427183e4db03c618ad34",
            "0ef0848d81fc400080c941efb16b0d86",
            "92f32cc5c794458eb8e75afd9a7560f1",
            "c611ec2b033344df88cab73e912d8bd9",
            "52f36f7ddbbe45e1a370b8923a552cdb",
            "59ad1155d96449a08d54f110ccdc115f",
            "83ca557133854bb399ee9741432e8cbf",
            "14de86252778497daf9e93a7826d5664",
            "f3c2d7bd949949d7a71dc5323de784f3",
            "ca0b981477b44d9e877dae2d89b90cfb",
            "226722f9f12a4bf5a56042c565af1e27",
            "4bb0e58bafa94706a901f0e89984b69a",
            "07b7198af30e432aacafe1cbce6dd275",
            "96eef6b9a58c4e99a14e6317924e0e36",
            "3cb6e6dddcb444988fecc7224e0c6008",
            "64cb996ec42a400c9b1cb75bc7e0e8e1",
            "9a2c272c24b848658224de84b9290758",
            "4a0a46adf9fc4d068c858ba3b66d5816",
            "d44a54dd4d544e2cbf68f576b2ad498e",
            "1b690f31d68b445987b25f5703f73278",
            "00a6095294b5406abf3e13314e6d389d",
            "16e866d205474ae8b2aca8553b558e85",
            "7dbcc590f6e24432a8f0cd51f7c07a70",
            "90efeb4cc0fa4256a7a1475c54fe47e0",
            "c3d2318804f1421b9262b8a7dc149afb",
            "6f06db9866bb4bca9ebe5da287edae5e",
            "ed63655ca7b94e57b319be043d91dfef",
            "04768683b0594260a3705c1fda259f61",
            "101145d0fcbe42208b269ddc00d99452",
            "675032e9138f4ca79cf5d9a2b4dced80",
            "2716660bf8c541ef8f7757d43e2a24aa",
            "7c8268c8266742d28012983acf11d281",
            "69d6fbcfed2d41bdb70a96de63906c41",
            "636d6da678624f13ad7e34115384da4d",
            "0e47945562ba404cb927b9888fcab828",
            "3f6b1cad93ee41ef8919ced781557f26",
            "de9496678d2b4704aa42bb587c8298e2",
            "1ed75956cf364450a92735dc3dabdffe"
          ]
        },
        "id": "colQpinZ2yuT",
        "outputId": "e454b0ce-1857-44a0-f8e8-39ba3450301e"
      },
      "outputs": [
        {
          "output_type": "display_data",
          "data": {
            "text/plain": [
              "Downloading tokenizer_config.json:   0%|          | 0.00/39.0 [00:00<?, ?B/s]"
            ],
            "application/vnd.jupyter.widget-view+json": {
              "version_major": 2,
              "version_minor": 0,
              "model_id": "5c5dd52179d64510bd454705e1400311"
            }
          },
          "metadata": {}
        },
        {
          "output_type": "display_data",
          "data": {
            "text/plain": [
              "Downloading config.json:   0%|          | 0.00/953 [00:00<?, ?B/s]"
            ],
            "application/vnd.jupyter.widget-view+json": {
              "version_major": 2,
              "version_minor": 0,
              "model_id": "9522c99592eb4136a02d00b6f24966ac"
            }
          },
          "metadata": {}
        },
        {
          "output_type": "display_data",
          "data": {
            "text/plain": [
              "Downloading vocab.txt:   0%|          | 0.00/851k [00:00<?, ?B/s]"
            ],
            "application/vnd.jupyter.widget-view+json": {
              "version_major": 2,
              "version_minor": 0,
              "model_id": "59ad1155d96449a08d54f110ccdc115f"
            }
          },
          "metadata": {}
        },
        {
          "output_type": "display_data",
          "data": {
            "text/plain": [
              "Downloading special_tokens_map.json:   0%|          | 0.00/112 [00:00<?, ?B/s]"
            ],
            "application/vnd.jupyter.widget-view+json": {
              "version_major": 2,
              "version_minor": 0,
              "model_id": "9a2c272c24b848658224de84b9290758"
            }
          },
          "metadata": {}
        },
        {
          "output_type": "display_data",
          "data": {
            "text/plain": [
              "Downloading pytorch_model.bin:   0%|          | 0.00/638M [00:00<?, ?B/s]"
            ],
            "application/vnd.jupyter.widget-view+json": {
              "version_major": 2,
              "version_minor": 0,
              "model_id": "04768683b0594260a3705c1fda259f61"
            }
          },
          "metadata": {}
        }
      ],
      "source": [
        "tokenizer = AutoTokenizer.from_pretrained('nlptown/bert-base-multilingual-uncased-sentiment')\n",
        "\n",
        "model = AutoModelForSequenceClassification.from_pretrained('nlptown/bert-base-multilingual-uncased-sentiment')"
      ]
    },
    {
      "cell_type": "code",
      "execution_count": null,
      "metadata": {
        "id": "0eUYJCJ03P5Y",
        "colab": {
          "base_uri": "https://localhost:8080/",
          "height": 54
        },
        "outputId": "aed8a140-5dd8-43af-a21b-63a84a621fb6"
      },
      "outputs": [
        {
          "output_type": "execute_result",
          "data": {
            "text/plain": [
              "\"def sentiment_score(review):\\n    tokens = tokenizer.encode(review, return_tensors='pt')\\n    result = model(tokens)\\n    return int(torch.argmax(result.logits))+1\""
            ],
            "application/vnd.google.colaboratory.intrinsic+json": {
              "type": "string"
            }
          },
          "metadata": {},
          "execution_count": 49
        }
      ],
      "source": [
        "'''def sentiment_score(review):\n",
        "    tokens = tokenizer.encode(review, return_tensors='pt')\n",
        "    result = model(tokens)\n",
        "    return int(torch.argmax(result.logits))+1'''"
      ]
    },
    {
      "cell_type": "code",
      "execution_count": null,
      "metadata": {
        "id": "qr5amiTI3T8T",
        "colab": {
          "base_uri": "https://localhost:8080/",
          "height": 194
        },
        "outputId": "c65a8b69-2e0f-4f8c-fd22-0e1042e1c5e2"
      },
      "outputs": [
        {
          "output_type": "execute_result",
          "data": {
            "text/plain": [
              "                                                                                 reviewText  \\\n",
              "0  oily creamy expected ordered try highlight contour looked awful plus took forever arrive   \n",
              "\n",
              "                  summary        asin  \\\n",
              "0  Don't waste your money  7806397051   \n",
              "\n",
              "                                                                                                     combined_text  \\\n",
              "0  oily creamy expected ordered try highlight contour looked awful plus took forever arrive Don't waste your money   \n",
              "\n",
              "          decision  polarity sentiment  overall  target  \\\n",
              "0  NOT RECOMMENDED -0.433333  Negative        1       2   \n",
              "\n",
              "                                                                                                        lemmatized  \n",
              "0  oily creamy expected ordered try highlight contour looked awful plus took forever arrive Don't waste your money  "
            ],
            "text/html": [
              "\n",
              "  <div id=\"df-1e9d3d1d-b666-44fe-a996-a2a49df8e238\">\n",
              "    <div class=\"colab-df-container\">\n",
              "      <div>\n",
              "<style scoped>\n",
              "    .dataframe tbody tr th:only-of-type {\n",
              "        vertical-align: middle;\n",
              "    }\n",
              "\n",
              "    .dataframe tbody tr th {\n",
              "        vertical-align: top;\n",
              "    }\n",
              "\n",
              "    .dataframe thead th {\n",
              "        text-align: right;\n",
              "    }\n",
              "</style>\n",
              "<table border=\"1\" class=\"dataframe\">\n",
              "  <thead>\n",
              "    <tr style=\"text-align: right;\">\n",
              "      <th></th>\n",
              "      <th>reviewText</th>\n",
              "      <th>summary</th>\n",
              "      <th>asin</th>\n",
              "      <th>combined_text</th>\n",
              "      <th>decision</th>\n",
              "      <th>polarity</th>\n",
              "      <th>sentiment</th>\n",
              "      <th>overall</th>\n",
              "      <th>target</th>\n",
              "      <th>lemmatized</th>\n",
              "    </tr>\n",
              "  </thead>\n",
              "  <tbody>\n",
              "    <tr>\n",
              "      <th>0</th>\n",
              "      <td>oily creamy expected ordered try highlight contour looked awful plus took forever arrive</td>\n",
              "      <td>Don't waste your money</td>\n",
              "      <td>7806397051</td>\n",
              "      <td>oily creamy expected ordered try highlight contour looked awful plus took forever arrive Don't waste your money</td>\n",
              "      <td>NOT RECOMMENDED</td>\n",
              "      <td>-0.433333</td>\n",
              "      <td>Negative</td>\n",
              "      <td>1</td>\n",
              "      <td>2</td>\n",
              "      <td>oily creamy expected ordered try highlight contour looked awful plus took forever arrive Don't waste your money</td>\n",
              "    </tr>\n",
              "  </tbody>\n",
              "</table>\n",
              "</div>\n",
              "      <button class=\"colab-df-convert\" onclick=\"convertToInteractive('df-1e9d3d1d-b666-44fe-a996-a2a49df8e238')\"\n",
              "              title=\"Convert this dataframe to an interactive table.\"\n",
              "              style=\"display:none;\">\n",
              "        \n",
              "  <svg xmlns=\"http://www.w3.org/2000/svg\" height=\"24px\"viewBox=\"0 0 24 24\"\n",
              "       width=\"24px\">\n",
              "    <path d=\"M0 0h24v24H0V0z\" fill=\"none\"/>\n",
              "    <path d=\"M18.56 5.44l.94 2.06.94-2.06 2.06-.94-2.06-.94-.94-2.06-.94 2.06-2.06.94zm-11 1L8.5 8.5l.94-2.06 2.06-.94-2.06-.94L8.5 2.5l-.94 2.06-2.06.94zm10 10l.94 2.06.94-2.06 2.06-.94-2.06-.94-.94-2.06-.94 2.06-2.06.94z\"/><path d=\"M17.41 7.96l-1.37-1.37c-.4-.4-.92-.59-1.43-.59-.52 0-1.04.2-1.43.59L10.3 9.45l-7.72 7.72c-.78.78-.78 2.05 0 2.83L4 21.41c.39.39.9.59 1.41.59.51 0 1.02-.2 1.41-.59l7.78-7.78 2.81-2.81c.8-.78.8-2.07 0-2.86zM5.41 20L4 18.59l7.72-7.72 1.47 1.35L5.41 20z\"/>\n",
              "  </svg>\n",
              "      </button>\n",
              "      \n",
              "  <style>\n",
              "    .colab-df-container {\n",
              "      display:flex;\n",
              "      flex-wrap:wrap;\n",
              "      gap: 12px;\n",
              "    }\n",
              "\n",
              "    .colab-df-convert {\n",
              "      background-color: #E8F0FE;\n",
              "      border: none;\n",
              "      border-radius: 50%;\n",
              "      cursor: pointer;\n",
              "      display: none;\n",
              "      fill: #1967D2;\n",
              "      height: 32px;\n",
              "      padding: 0 0 0 0;\n",
              "      width: 32px;\n",
              "    }\n",
              "\n",
              "    .colab-df-convert:hover {\n",
              "      background-color: #E2EBFA;\n",
              "      box-shadow: 0px 1px 2px rgba(60, 64, 67, 0.3), 0px 1px 3px 1px rgba(60, 64, 67, 0.15);\n",
              "      fill: #174EA6;\n",
              "    }\n",
              "\n",
              "    [theme=dark] .colab-df-convert {\n",
              "      background-color: #3B4455;\n",
              "      fill: #D2E3FC;\n",
              "    }\n",
              "\n",
              "    [theme=dark] .colab-df-convert:hover {\n",
              "      background-color: #434B5C;\n",
              "      box-shadow: 0px 1px 3px 1px rgba(0, 0, 0, 0.15);\n",
              "      filter: drop-shadow(0px 1px 2px rgba(0, 0, 0, 0.3));\n",
              "      fill: #FFFFFF;\n",
              "    }\n",
              "  </style>\n",
              "\n",
              "      <script>\n",
              "        const buttonEl =\n",
              "          document.querySelector('#df-1e9d3d1d-b666-44fe-a996-a2a49df8e238 button.colab-df-convert');\n",
              "        buttonEl.style.display =\n",
              "          google.colab.kernel.accessAllowed ? 'block' : 'none';\n",
              "\n",
              "        async function convertToInteractive(key) {\n",
              "          const element = document.querySelector('#df-1e9d3d1d-b666-44fe-a996-a2a49df8e238');\n",
              "          const dataTable =\n",
              "            await google.colab.kernel.invokeFunction('convertToInteractive',\n",
              "                                                     [key], {});\n",
              "          if (!dataTable) return;\n",
              "\n",
              "          const docLinkHtml = 'Like what you see? Visit the ' +\n",
              "            '<a target=\"_blank\" href=https://colab.research.google.com/notebooks/data_table.ipynb>data table notebook</a>'\n",
              "            + ' to learn more about interactive tables.';\n",
              "          element.innerHTML = '';\n",
              "          dataTable['output_type'] = 'display_data';\n",
              "          await google.colab.output.renderOutput(dataTable, element);\n",
              "          const docLink = document.createElement('div');\n",
              "          docLink.innerHTML = docLinkHtml;\n",
              "          element.appendChild(docLink);\n",
              "        }\n",
              "      </script>\n",
              "    </div>\n",
              "  </div>\n",
              "  "
            ]
          },
          "metadata": {},
          "execution_count": 50
        }
      ],
      "source": [
        "beauty.head(1)"
      ]
    },
    {
      "cell_type": "code",
      "execution_count": null,
      "metadata": {
        "id": "YftO3DZP3jZA"
      },
      "outputs": [],
      "source": [
        "beauty['reviewTime']=review_beauty_df['reviewTime']"
      ]
    },
    {
      "cell_type": "code",
      "execution_count": null,
      "metadata": {
        "id": "FHOdSEky7WWV",
        "colab": {
          "base_uri": "https://localhost:8080/",
          "height": 1000
        },
        "outputId": "4388473a-1dcd-4e53-8486-cf5941ba4054"
      },
      "outputs": [
        {
          "output_type": "execute_result",
          "data": {
            "text/plain": [
              "                                                                                                                                                                                                                                                                                                                                                                                                                                                                                                                                                                                                                                                                                                                                                                                                                             reviewText  \\\n",
              "0                                                                                                                                                                                                                                                                                                                                                                                                                                                                                                                                                                                                                                                                                                                                              oily creamy expected ordered try highlight contour looked awful plus took forever arrive   \n",
              "1                                                                                                                                                                                                                                                                                                                                                                                                                                                                                                                                                                                                                                                                                                                                  palette decent price looking different shades palette conceals decently however somewhat cake crease   \n",
              "2                                                                                                                                                                                                                                                                                                                                                                                                                                                                                                            texture concealer pallet fantastic great coverage wide variety uses guess meant professional makeup artists lot colours use use least two regular basis two occasionally reason im giving stars feel like range colors kind waste product wonderful cakey gives natural concealed imperfections therefore highly recommend   \n",
              "3                                                                                                                                                                                                                                                                                                                                                                                                                                                                                                                                                                                                                                                                                                                           really cant tell exactly thing powder kind oilish pasty fluid far tried twice doesnt really show color face   \n",
              "4                                                                                                                                                                                                                                                                                                                                                                                                                                                                                                                                                                                                                                         little smaller expected okay lasted long time think great coverage price paid heavy wears within 301hr kinda dries skin id recommend people looking cheap coverage beginners learning conceal   \n",
              "...                                                                                                                                                                                                                                                                                                                                                                                                                                                                                                                                                                                                                                                                                                                                                                                                                                 ...   \n",
              "198497                                                                                                                                                                                                                                                                                                                                                                little dab shea butter need scrape small piece size fingernail im guy nails arent big roll around hands warm soften rub dry areas skin since creates kind waxy barrier good idea right stepping shower hold moisture already wet skinmy wife put much first kids laughed good time trying rub onto arms dry skin guess thereanyway quality fragrance product good entire pound shea butter probably last long time seems like good value mei received item review   \n",
              "198498  shea butter completely raw unrefined retains delightful nutty fragrance subtle yellow color natural texture pure organic shea butter natural luxury quite different homogenized overprocessed commercial products contain small percentage chemicallyrefined shea oilshea nuts unique species tree lives two hundred years vitellaria paradoxa nuts contain rich complex five different fatty acids good skin palmitic stearic oleic linoleic arachidic particular shea butter imported ghana women gather nuts wild trees shell roast extract oils hand smells delicious indeed used food africa well source incomeit solidmdash hardmdash room temperature liquefies body temperature easy apply quickly absorbed skin improves texture dry skin makes look better like apply bathingbeauty shea provided sample evaluatio...   \n",
              "198499  skin bodys largest organ absorbs much applied often products contain toxins chemicals rather continue using big name commercial personal care products started reading labels possible replacing chemicalladen lotions soaps less toxic substitutesshea butter natural product difficult get basic unfiltered organic shea butter karite tree nuts found africa used produce shea butter nuts boiled oil released oil scoopedoff cools separates shea butter shea oilas soon package arrived rubbed dime sized amount hands applied warmed oil hands elbows heels ten minutes absorbed left slight sheen soft skin fragrance earthy slightly smoky light appropriate men women scent dissipates quickly becomes unnoticeableshea butter infused quick evaporate water like many commercial lotions creams takes penetrate sk...   \n",
              "198500  dry elbows knees torn tendon left foot find comfortable kneel squat especially working garden etc knees taking beating getting calloused peeling skin real mess ive tried lot different moisturizers varying success thicker better offered try jumped itthis grade unrefined means processed water chemicals also means vitamins fats still present grade considered best skin careshea butter melts skin temperature slowly generate nice amount heat rubbing hands together gf loves foe shoulders get heat going scoop dime sized portion place palms rub melts almost instantly leaving nice thick ointment apply knees elbows trouble spots obviously hands also get great treatmentthere noticeable immediate improvement within couple days applied twice per day callouses knees invisible skin stopped peeling elb...   \n",
              "198501                                                                                                                                                                                                                                                                                                                                                                                                                                                                                                                                                    100 pure shea butter mistake #34 shea butter#34 products may contain little shea lots ingredients including chemicals stuff might wantthis real stuff#34 good news block last long time bad news even tho called #34 butter cant eat itguys try shaving instead shaving cream   \n",
              "\n",
              "                                                summary        asin  \\\n",
              "0                                Don't waste your money  7806397051   \n",
              "1                                           OK Palette!  7806397051   \n",
              "2                                         great quality  7806397051   \n",
              "3                                Do not work on my face  7806397051   \n",
              "4                                            It's okay.  7806397051   \n",
              "...                                                 ...         ...   \n",
              "198497                                  A little dab...  B00LLPT4HI   \n",
              "198498                     Pure organic raw shea butter  B00LLPT4HI   \n",
              "198499  One Pound Organic Grade A Unrefined Shea Butter  B00LLPT4HI   \n",
              "198500                           This stuff is amazing!  B00LLPT4HI   \n",
              "198501                                The \"Real Stuff\"!  B00LLPT4HI   \n",
              "\n",
              "                                                                                                                                                                                                                                                                                                                                                                                                                                                                                                                                                                                                                                                                                                                                                                                                                          combined_text  \\\n",
              "0                                                                                                                                                                                                                                                                                                                                                                                                                                                                                                                                                                                                                                                                                                                       oily creamy expected ordered try highlight contour looked awful plus took forever arrive Don't waste your money   \n",
              "1                                                                                                                                                                                                                                                                                                                                                                                                                                                                                                                                                                                                                                                                                                                      palette decent price looking different shades palette conceals decently however somewhat cake crease OK Palette!   \n",
              "2                                                                                                                                                                                                                                                                                                                                                                                                                                                                                              texture concealer pallet fantastic great coverage wide variety uses guess meant professional makeup artists lot colours use use least two regular basis two occasionally reason im giving stars feel like range colors kind waste product wonderful cakey gives natural concealed imperfections therefore highly recommend great quality   \n",
              "3                                                                                                                                                                                                                                                                                                                                                                                                                                                                                                                                                                                                                                                                                                    really cant tell exactly thing powder kind oilish pasty fluid far tried twice doesnt really show color face Do not work on my face   \n",
              "4                                                                                                                                                                                                                                                                                                                                                                                                                                                                                                                                                                                                                              little smaller expected okay lasted long time think great coverage price paid heavy wears within 301hr kinda dries skin id recommend people looking cheap coverage beginners learning conceal It's okay.   \n",
              "...                                                                                                                                                                                                                                                                                                                                                                                                                                                                                                                                                                                                                                                                                                                                                                                                                                 ...   \n",
              "198497                                                                                                                                                                                                                                                                                                                                                little dab shea butter need scrape small piece size fingernail im guy nails arent big roll around hands warm soften rub dry areas skin since creates kind waxy barrier good idea right stepping shower hold moisture already wet skinmy wife put much first kids laughed good time trying rub onto arms dry skin guess thereanyway quality fragrance product good entire pound shea butter probably last long time seems like good value mei received item review A little dab...   \n",
              "198498  shea butter completely raw unrefined retains delightful nutty fragrance subtle yellow color natural texture pure organic shea butter natural luxury quite different homogenized overprocessed commercial products contain small percentage chemicallyrefined shea oilshea nuts unique species tree lives two hundred years vitellaria paradoxa nuts contain rich complex five different fatty acids good skin palmitic stearic oleic linoleic arachidic particular shea butter imported ghana women gather nuts wild trees shell roast extract oils hand smells delicious indeed used food africa well source incomeit solidmdash hardmdash room temperature liquefies body temperature easy apply quickly absorbed skin improves texture dry skin makes look better like apply bathingbeauty shea provided sample evaluatio...   \n",
              "198499  skin bodys largest organ absorbs much applied often products contain toxins chemicals rather continue using big name commercial personal care products started reading labels possible replacing chemicalladen lotions soaps less toxic substitutesshea butter natural product difficult get basic unfiltered organic shea butter karite tree nuts found africa used produce shea butter nuts boiled oil released oil scoopedoff cools separates shea butter shea oilas soon package arrived rubbed dime sized amount hands applied warmed oil hands elbows heels ten minutes absorbed left slight sheen soft skin fragrance earthy slightly smoky light appropriate men women scent dissipates quickly becomes unnoticeableshea butter infused quick evaporate water like many commercial lotions creams takes penetrate sk...   \n",
              "198500  dry elbows knees torn tendon left foot find comfortable kneel squat especially working garden etc knees taking beating getting calloused peeling skin real mess ive tried lot different moisturizers varying success thicker better offered try jumped itthis grade unrefined means processed water chemicals also means vitamins fats still present grade considered best skin careshea butter melts skin temperature slowly generate nice amount heat rubbing hands together gf loves foe shoulders get heat going scoop dime sized portion place palms rub melts almost instantly leaving nice thick ointment apply knees elbows trouble spots obviously hands also get great treatmentthere noticeable immediate improvement within couple days applied twice per day callouses knees invisible skin stopped peeling elb...   \n",
              "198501                                                                                                                                                                                                                                                                                                                                                                                                                                                                                                                                  100 pure shea butter mistake #34 shea butter#34 products may contain little shea lots ingredients including chemicals stuff might wantthis real stuff#34 good news block last long time bad news even tho called #34 butter cant eat itguys try shaving instead shaving cream The \"Real Stuff\"!   \n",
              "\n",
              "               decision  polarity sentiment  overall  target  \\\n",
              "0       NOT RECOMMENDED -0.433333  Negative        1       2   \n",
              "1           RECOMMENDED  0.239583  Positive        3       4   \n",
              "2           RECOMMENDED  0.258462  Positive        4       4   \n",
              "3       NOT RECOMMENDED  0.225000  Positive        2       4   \n",
              "4           RECOMMENDED  0.184722  Positive        3       4   \n",
              "...                 ...       ...       ...      ...     ...   \n",
              "198497      RECOMMENDED  0.227757  Positive        5       4   \n",
              "198498      RECOMMENDED  0.158681  Positive        5       4   \n",
              "198499      RECOMMENDED  0.090945  Positive        5       4   \n",
              "198500      RECOMMENDED  0.170032  Positive        5       4   \n",
              "198501      RECOMMENDED  0.053348  Positive        5       4   \n",
              "\n",
              "                                                                                                                                                                                                                                                                                                                                                                                                                                                                                                                                                                                                                                                                                                                                                                                                                             lemmatized  \\\n",
              "0                                                                                                                                                                                                                                                                                                                                                                                                                                                                                                                                                                                                                                                                                                                       oily creamy expected ordered try highlight contour looked awful plus took forever arrive Don't waste your money   \n",
              "1                                                                                                                                                                                                                                                                                                                                                                                                                                                                                                                                                                                                                                                                                                                       palette decent price looking different shade palette conceals decently however somewhat cake crease OK Palette!   \n",
              "2                                                                                                                                                                                                                                                                                                                                                                                                                                                                                                      texture concealer pallet fantastic great coverage wide variety us guess meant professional makeup artist lot colour use use least two regular basis two occasionally reason im giving star feel like range color kind waste product wonderful cakey give natural concealed imperfection therefore highly recommend great quality   \n",
              "3                                                                                                                                                                                                                                                                                                                                                                                                                                                                                                                                                                                                                                                                                                    really cant tell exactly thing powder kind oilish pasty fluid far tried twice doesnt really show color face Do not work on my face   \n",
              "4                                                                                                                                                                                                                                                                                                                                                                                                                                                                                                                                                                                                                                  little smaller expected okay lasted long time think great coverage price paid heavy wear within 301hr kinda dry skin id recommend people looking cheap coverage beginner learning conceal It's okay.   \n",
              "...                                                                                                                                                                                                                                                                                                                                                                                                                                                                                                                                                                                                                                                                                                                                                                                                                                 ...   \n",
              "198497                                                                                                                                                                                                                                                                                                                                                     little dab shea butter need scrape small piece size fingernail im guy nail arent big roll around hand warm soften rub dry area skin since creates kind waxy barrier good idea right stepping shower hold moisture already wet skinmy wife put much first kid laughed good time trying rub onto arm dry skin guess thereanyway quality fragrance product good entire pound shea butter probably last long time seems like good value mei received item review A little dab...   \n",
              "198498  shea butter completely raw unrefined retains delightful nutty fragrance subtle yellow color natural texture pure organic shea butter natural luxury quite different homogenized overprocessed commercial product contain small percentage chemicallyrefined shea oilshea nut unique specie tree life two hundred year vitellaria paradoxa nut contain rich complex five different fatty acid good skin palmitic stearic oleic linoleic arachidic particular shea butter imported ghana woman gather nut wild tree shell roast extract oil hand smell delicious indeed used food africa well source incomeit solidmdash hardmdash room temperature liquefies body temperature easy apply quickly absorbed skin improves texture dry skin make look better like apply bathingbeauty shea provided sample evaluation review Pur...   \n",
              "198499  skin body largest organ absorbs much applied often product contain toxin chemical rather continue using big name commercial personal care product started reading label possible replacing chemicalladen lotion soap le toxic substitutesshea butter natural product difficult get basic unfiltered organic shea butter karite tree nut found africa used produce shea butter nut boiled oil released oil scoopedoff cool separate shea butter shea oilas soon package arrived rubbed dime sized amount hand applied warmed oil hand elbow heel ten minute absorbed left slight sheen soft skin fragrance earthy slightly smoky light appropriate men woman scent dissipates quickly becomes unnoticeableshea butter infused quick evaporate water like many commercial lotion cream take penetrate skin find best use shea ...   \n",
              "198500  dry elbow knee torn tendon left foot find comfortable kneel squat especially working garden etc knee taking beating getting calloused peeling skin real mess ive tried lot different moisturizers varying success thicker better offered try jumped itthis grade unrefined mean processed water chemical also mean vitamin fat still present grade considered best skin careshea butter melt skin temperature slowly generate nice amount heat rubbing hand together gf love foe shoulder get heat going scoop dime sized portion place palm rub melt almost instantly leaving nice thick ointment apply knee elbow trouble spot obviously hand also get great treatmentthere noticeable immediate improvement within couple day applied twice per day callouses knee invisible skin stopped peeling elbow longer feel like ...   \n",
              "198501                                                                                                                                                                                                                                                                                                                                                                                                                                                                                                                                      100 pure shea butter mistake #34 shea butter#34 product may contain little shea lot ingredient including chemical stuff might wantthis real stuff#34 good news block last long time bad news even tho called #34 butter cant eat itguys try shaving instead shaving cream The \"Real Stuff\"!   \n",
              "\n",
              "       reviewTime  \n",
              "0      2014-01-30  \n",
              "1      2014-04-18  \n",
              "2      2013-09-06  \n",
              "3      2013-12-08  \n",
              "4      2013-10-19  \n",
              "...           ...  \n",
              "198497 2014-07-16  \n",
              "198498 2014-07-14  \n",
              "198499 2014-07-16  \n",
              "198500 2014-07-15  \n",
              "198501 2014-07-22  \n",
              "\n",
              "[198502 rows x 11 columns]"
            ],
            "text/html": [
              "\n",
              "  <div id=\"df-2be1b9c4-006c-49a7-baec-3a83f0703f95\">\n",
              "    <div class=\"colab-df-container\">\n",
              "      <div>\n",
              "<style scoped>\n",
              "    .dataframe tbody tr th:only-of-type {\n",
              "        vertical-align: middle;\n",
              "    }\n",
              "\n",
              "    .dataframe tbody tr th {\n",
              "        vertical-align: top;\n",
              "    }\n",
              "\n",
              "    .dataframe thead th {\n",
              "        text-align: right;\n",
              "    }\n",
              "</style>\n",
              "<table border=\"1\" class=\"dataframe\">\n",
              "  <thead>\n",
              "    <tr style=\"text-align: right;\">\n",
              "      <th></th>\n",
              "      <th>reviewText</th>\n",
              "      <th>summary</th>\n",
              "      <th>asin</th>\n",
              "      <th>combined_text</th>\n",
              "      <th>decision</th>\n",
              "      <th>polarity</th>\n",
              "      <th>sentiment</th>\n",
              "      <th>overall</th>\n",
              "      <th>target</th>\n",
              "      <th>lemmatized</th>\n",
              "      <th>reviewTime</th>\n",
              "    </tr>\n",
              "  </thead>\n",
              "  <tbody>\n",
              "    <tr>\n",
              "      <th>0</th>\n",
              "      <td>oily creamy expected ordered try highlight contour looked awful plus took forever arrive</td>\n",
              "      <td>Don't waste your money</td>\n",
              "      <td>7806397051</td>\n",
              "      <td>oily creamy expected ordered try highlight contour looked awful plus took forever arrive Don't waste your money</td>\n",
              "      <td>NOT RECOMMENDED</td>\n",
              "      <td>-0.433333</td>\n",
              "      <td>Negative</td>\n",
              "      <td>1</td>\n",
              "      <td>2</td>\n",
              "      <td>oily creamy expected ordered try highlight contour looked awful plus took forever arrive Don't waste your money</td>\n",
              "      <td>2014-01-30</td>\n",
              "    </tr>\n",
              "    <tr>\n",
              "      <th>1</th>\n",
              "      <td>palette decent price looking different shades palette conceals decently however somewhat cake crease</td>\n",
              "      <td>OK Palette!</td>\n",
              "      <td>7806397051</td>\n",
              "      <td>palette decent price looking different shades palette conceals decently however somewhat cake crease OK Palette!</td>\n",
              "      <td>RECOMMENDED</td>\n",
              "      <td>0.239583</td>\n",
              "      <td>Positive</td>\n",
              "      <td>3</td>\n",
              "      <td>4</td>\n",
              "      <td>palette decent price looking different shade palette conceals decently however somewhat cake crease OK Palette!</td>\n",
              "      <td>2014-04-18</td>\n",
              "    </tr>\n",
              "    <tr>\n",
              "      <th>2</th>\n",
              "      <td>texture concealer pallet fantastic great coverage wide variety uses guess meant professional makeup artists lot colours use use least two regular basis two occasionally reason im giving stars feel like range colors kind waste product wonderful cakey gives natural concealed imperfections therefore highly recommend</td>\n",
              "      <td>great quality</td>\n",
              "      <td>7806397051</td>\n",
              "      <td>texture concealer pallet fantastic great coverage wide variety uses guess meant professional makeup artists lot colours use use least two regular basis two occasionally reason im giving stars feel like range colors kind waste product wonderful cakey gives natural concealed imperfections therefore highly recommend great quality</td>\n",
              "      <td>RECOMMENDED</td>\n",
              "      <td>0.258462</td>\n",
              "      <td>Positive</td>\n",
              "      <td>4</td>\n",
              "      <td>4</td>\n",
              "      <td>texture concealer pallet fantastic great coverage wide variety us guess meant professional makeup artist lot colour use use least two regular basis two occasionally reason im giving star feel like range color kind waste product wonderful cakey give natural concealed imperfection therefore highly recommend great quality</td>\n",
              "      <td>2013-09-06</td>\n",
              "    </tr>\n",
              "    <tr>\n",
              "      <th>3</th>\n",
              "      <td>really cant tell exactly thing powder kind oilish pasty fluid far tried twice doesnt really show color face</td>\n",
              "      <td>Do not work on my face</td>\n",
              "      <td>7806397051</td>\n",
              "      <td>really cant tell exactly thing powder kind oilish pasty fluid far tried twice doesnt really show color face Do not work on my face</td>\n",
              "      <td>NOT RECOMMENDED</td>\n",
              "      <td>0.225000</td>\n",
              "      <td>Positive</td>\n",
              "      <td>2</td>\n",
              "      <td>4</td>\n",
              "      <td>really cant tell exactly thing powder kind oilish pasty fluid far tried twice doesnt really show color face Do not work on my face</td>\n",
              "      <td>2013-12-08</td>\n",
              "    </tr>\n",
              "    <tr>\n",
              "      <th>4</th>\n",
              "      <td>little smaller expected okay lasted long time think great coverage price paid heavy wears within 301hr kinda dries skin id recommend people looking cheap coverage beginners learning conceal</td>\n",
              "      <td>It's okay.</td>\n",
              "      <td>7806397051</td>\n",
              "      <td>little smaller expected okay lasted long time think great coverage price paid heavy wears within 301hr kinda dries skin id recommend people looking cheap coverage beginners learning conceal It's okay.</td>\n",
              "      <td>RECOMMENDED</td>\n",
              "      <td>0.184722</td>\n",
              "      <td>Positive</td>\n",
              "      <td>3</td>\n",
              "      <td>4</td>\n",
              "      <td>little smaller expected okay lasted long time think great coverage price paid heavy wear within 301hr kinda dry skin id recommend people looking cheap coverage beginner learning conceal It's okay.</td>\n",
              "      <td>2013-10-19</td>\n",
              "    </tr>\n",
              "    <tr>\n",
              "      <th>...</th>\n",
              "      <td>...</td>\n",
              "      <td>...</td>\n",
              "      <td>...</td>\n",
              "      <td>...</td>\n",
              "      <td>...</td>\n",
              "      <td>...</td>\n",
              "      <td>...</td>\n",
              "      <td>...</td>\n",
              "      <td>...</td>\n",
              "      <td>...</td>\n",
              "      <td>...</td>\n",
              "    </tr>\n",
              "    <tr>\n",
              "      <th>198497</th>\n",
              "      <td>little dab shea butter need scrape small piece size fingernail im guy nails arent big roll around hands warm soften rub dry areas skin since creates kind waxy barrier good idea right stepping shower hold moisture already wet skinmy wife put much first kids laughed good time trying rub onto arms dry skin guess thereanyway quality fragrance product good entire pound shea butter probably last long time seems like good value mei received item review</td>\n",
              "      <td>A little dab...</td>\n",
              "      <td>B00LLPT4HI</td>\n",
              "      <td>little dab shea butter need scrape small piece size fingernail im guy nails arent big roll around hands warm soften rub dry areas skin since creates kind waxy barrier good idea right stepping shower hold moisture already wet skinmy wife put much first kids laughed good time trying rub onto arms dry skin guess thereanyway quality fragrance product good entire pound shea butter probably last long time seems like good value mei received item review A little dab...</td>\n",
              "      <td>RECOMMENDED</td>\n",
              "      <td>0.227757</td>\n",
              "      <td>Positive</td>\n",
              "      <td>5</td>\n",
              "      <td>4</td>\n",
              "      <td>little dab shea butter need scrape small piece size fingernail im guy nail arent big roll around hand warm soften rub dry area skin since creates kind waxy barrier good idea right stepping shower hold moisture already wet skinmy wife put much first kid laughed good time trying rub onto arm dry skin guess thereanyway quality fragrance product good entire pound shea butter probably last long time seems like good value mei received item review A little dab...</td>\n",
              "      <td>2014-07-16</td>\n",
              "    </tr>\n",
              "    <tr>\n",
              "      <th>198498</th>\n",
              "      <td>shea butter completely raw unrefined retains delightful nutty fragrance subtle yellow color natural texture pure organic shea butter natural luxury quite different homogenized overprocessed commercial products contain small percentage chemicallyrefined shea oilshea nuts unique species tree lives two hundred years vitellaria paradoxa nuts contain rich complex five different fatty acids good skin palmitic stearic oleic linoleic arachidic particular shea butter imported ghana women gather nuts wild trees shell roast extract oils hand smells delicious indeed used food africa well source incomeit solidmdash hardmdash room temperature liquefies body temperature easy apply quickly absorbed skin improves texture dry skin makes look better like apply bathingbeauty shea provided sample evaluatio...</td>\n",
              "      <td>Pure organic raw shea butter</td>\n",
              "      <td>B00LLPT4HI</td>\n",
              "      <td>shea butter completely raw unrefined retains delightful nutty fragrance subtle yellow color natural texture pure organic shea butter natural luxury quite different homogenized overprocessed commercial products contain small percentage chemicallyrefined shea oilshea nuts unique species tree lives two hundred years vitellaria paradoxa nuts contain rich complex five different fatty acids good skin palmitic stearic oleic linoleic arachidic particular shea butter imported ghana women gather nuts wild trees shell roast extract oils hand smells delicious indeed used food africa well source incomeit solidmdash hardmdash room temperature liquefies body temperature easy apply quickly absorbed skin improves texture dry skin makes look better like apply bathingbeauty shea provided sample evaluatio...</td>\n",
              "      <td>RECOMMENDED</td>\n",
              "      <td>0.158681</td>\n",
              "      <td>Positive</td>\n",
              "      <td>5</td>\n",
              "      <td>4</td>\n",
              "      <td>shea butter completely raw unrefined retains delightful nutty fragrance subtle yellow color natural texture pure organic shea butter natural luxury quite different homogenized overprocessed commercial product contain small percentage chemicallyrefined shea oilshea nut unique specie tree life two hundred year vitellaria paradoxa nut contain rich complex five different fatty acid good skin palmitic stearic oleic linoleic arachidic particular shea butter imported ghana woman gather nut wild tree shell roast extract oil hand smell delicious indeed used food africa well source incomeit solidmdash hardmdash room temperature liquefies body temperature easy apply quickly absorbed skin improves texture dry skin make look better like apply bathingbeauty shea provided sample evaluation review Pur...</td>\n",
              "      <td>2014-07-14</td>\n",
              "    </tr>\n",
              "    <tr>\n",
              "      <th>198499</th>\n",
              "      <td>skin bodys largest organ absorbs much applied often products contain toxins chemicals rather continue using big name commercial personal care products started reading labels possible replacing chemicalladen lotions soaps less toxic substitutesshea butter natural product difficult get basic unfiltered organic shea butter karite tree nuts found africa used produce shea butter nuts boiled oil released oil scoopedoff cools separates shea butter shea oilas soon package arrived rubbed dime sized amount hands applied warmed oil hands elbows heels ten minutes absorbed left slight sheen soft skin fragrance earthy slightly smoky light appropriate men women scent dissipates quickly becomes unnoticeableshea butter infused quick evaporate water like many commercial lotions creams takes penetrate sk...</td>\n",
              "      <td>One Pound Organic Grade A Unrefined Shea Butter</td>\n",
              "      <td>B00LLPT4HI</td>\n",
              "      <td>skin bodys largest organ absorbs much applied often products contain toxins chemicals rather continue using big name commercial personal care products started reading labels possible replacing chemicalladen lotions soaps less toxic substitutesshea butter natural product difficult get basic unfiltered organic shea butter karite tree nuts found africa used produce shea butter nuts boiled oil released oil scoopedoff cools separates shea butter shea oilas soon package arrived rubbed dime sized amount hands applied warmed oil hands elbows heels ten minutes absorbed left slight sheen soft skin fragrance earthy slightly smoky light appropriate men women scent dissipates quickly becomes unnoticeableshea butter infused quick evaporate water like many commercial lotions creams takes penetrate sk...</td>\n",
              "      <td>RECOMMENDED</td>\n",
              "      <td>0.090945</td>\n",
              "      <td>Positive</td>\n",
              "      <td>5</td>\n",
              "      <td>4</td>\n",
              "      <td>skin body largest organ absorbs much applied often product contain toxin chemical rather continue using big name commercial personal care product started reading label possible replacing chemicalladen lotion soap le toxic substitutesshea butter natural product difficult get basic unfiltered organic shea butter karite tree nut found africa used produce shea butter nut boiled oil released oil scoopedoff cool separate shea butter shea oilas soon package arrived rubbed dime sized amount hand applied warmed oil hand elbow heel ten minute absorbed left slight sheen soft skin fragrance earthy slightly smoky light appropriate men woman scent dissipates quickly becomes unnoticeableshea butter infused quick evaporate water like many commercial lotion cream take penetrate skin find best use shea ...</td>\n",
              "      <td>2014-07-16</td>\n",
              "    </tr>\n",
              "    <tr>\n",
              "      <th>198500</th>\n",
              "      <td>dry elbows knees torn tendon left foot find comfortable kneel squat especially working garden etc knees taking beating getting calloused peeling skin real mess ive tried lot different moisturizers varying success thicker better offered try jumped itthis grade unrefined means processed water chemicals also means vitamins fats still present grade considered best skin careshea butter melts skin temperature slowly generate nice amount heat rubbing hands together gf loves foe shoulders get heat going scoop dime sized portion place palms rub melts almost instantly leaving nice thick ointment apply knees elbows trouble spots obviously hands also get great treatmentthere noticeable immediate improvement within couple days applied twice per day callouses knees invisible skin stopped peeling elb...</td>\n",
              "      <td>This stuff is amazing!</td>\n",
              "      <td>B00LLPT4HI</td>\n",
              "      <td>dry elbows knees torn tendon left foot find comfortable kneel squat especially working garden etc knees taking beating getting calloused peeling skin real mess ive tried lot different moisturizers varying success thicker better offered try jumped itthis grade unrefined means processed water chemicals also means vitamins fats still present grade considered best skin careshea butter melts skin temperature slowly generate nice amount heat rubbing hands together gf loves foe shoulders get heat going scoop dime sized portion place palms rub melts almost instantly leaving nice thick ointment apply knees elbows trouble spots obviously hands also get great treatmentthere noticeable immediate improvement within couple days applied twice per day callouses knees invisible skin stopped peeling elb...</td>\n",
              "      <td>RECOMMENDED</td>\n",
              "      <td>0.170032</td>\n",
              "      <td>Positive</td>\n",
              "      <td>5</td>\n",
              "      <td>4</td>\n",
              "      <td>dry elbow knee torn tendon left foot find comfortable kneel squat especially working garden etc knee taking beating getting calloused peeling skin real mess ive tried lot different moisturizers varying success thicker better offered try jumped itthis grade unrefined mean processed water chemical also mean vitamin fat still present grade considered best skin careshea butter melt skin temperature slowly generate nice amount heat rubbing hand together gf love foe shoulder get heat going scoop dime sized portion place palm rub melt almost instantly leaving nice thick ointment apply knee elbow trouble spot obviously hand also get great treatmentthere noticeable immediate improvement within couple day applied twice per day callouses knee invisible skin stopped peeling elbow longer feel like ...</td>\n",
              "      <td>2014-07-15</td>\n",
              "    </tr>\n",
              "    <tr>\n",
              "      <th>198501</th>\n",
              "      <td>100 pure shea butter mistake #34 shea butter#34 products may contain little shea lots ingredients including chemicals stuff might wantthis real stuff#34 good news block last long time bad news even tho called #34 butter cant eat itguys try shaving instead shaving cream</td>\n",
              "      <td>The \"Real Stuff\"!</td>\n",
              "      <td>B00LLPT4HI</td>\n",
              "      <td>100 pure shea butter mistake #34 shea butter#34 products may contain little shea lots ingredients including chemicals stuff might wantthis real stuff#34 good news block last long time bad news even tho called #34 butter cant eat itguys try shaving instead shaving cream The \"Real Stuff\"!</td>\n",
              "      <td>RECOMMENDED</td>\n",
              "      <td>0.053348</td>\n",
              "      <td>Positive</td>\n",
              "      <td>5</td>\n",
              "      <td>4</td>\n",
              "      <td>100 pure shea butter mistake #34 shea butter#34 product may contain little shea lot ingredient including chemical stuff might wantthis real stuff#34 good news block last long time bad news even tho called #34 butter cant eat itguys try shaving instead shaving cream The \"Real Stuff\"!</td>\n",
              "      <td>2014-07-22</td>\n",
              "    </tr>\n",
              "  </tbody>\n",
              "</table>\n",
              "<p>198502 rows × 11 columns</p>\n",
              "</div>\n",
              "      <button class=\"colab-df-convert\" onclick=\"convertToInteractive('df-2be1b9c4-006c-49a7-baec-3a83f0703f95')\"\n",
              "              title=\"Convert this dataframe to an interactive table.\"\n",
              "              style=\"display:none;\">\n",
              "        \n",
              "  <svg xmlns=\"http://www.w3.org/2000/svg\" height=\"24px\"viewBox=\"0 0 24 24\"\n",
              "       width=\"24px\">\n",
              "    <path d=\"M0 0h24v24H0V0z\" fill=\"none\"/>\n",
              "    <path d=\"M18.56 5.44l.94 2.06.94-2.06 2.06-.94-2.06-.94-.94-2.06-.94 2.06-2.06.94zm-11 1L8.5 8.5l.94-2.06 2.06-.94-2.06-.94L8.5 2.5l-.94 2.06-2.06.94zm10 10l.94 2.06.94-2.06 2.06-.94-2.06-.94-.94-2.06-.94 2.06-2.06.94z\"/><path d=\"M17.41 7.96l-1.37-1.37c-.4-.4-.92-.59-1.43-.59-.52 0-1.04.2-1.43.59L10.3 9.45l-7.72 7.72c-.78.78-.78 2.05 0 2.83L4 21.41c.39.39.9.59 1.41.59.51 0 1.02-.2 1.41-.59l7.78-7.78 2.81-2.81c.8-.78.8-2.07 0-2.86zM5.41 20L4 18.59l7.72-7.72 1.47 1.35L5.41 20z\"/>\n",
              "  </svg>\n",
              "      </button>\n",
              "      \n",
              "  <style>\n",
              "    .colab-df-container {\n",
              "      display:flex;\n",
              "      flex-wrap:wrap;\n",
              "      gap: 12px;\n",
              "    }\n",
              "\n",
              "    .colab-df-convert {\n",
              "      background-color: #E8F0FE;\n",
              "      border: none;\n",
              "      border-radius: 50%;\n",
              "      cursor: pointer;\n",
              "      display: none;\n",
              "      fill: #1967D2;\n",
              "      height: 32px;\n",
              "      padding: 0 0 0 0;\n",
              "      width: 32px;\n",
              "    }\n",
              "\n",
              "    .colab-df-convert:hover {\n",
              "      background-color: #E2EBFA;\n",
              "      box-shadow: 0px 1px 2px rgba(60, 64, 67, 0.3), 0px 1px 3px 1px rgba(60, 64, 67, 0.15);\n",
              "      fill: #174EA6;\n",
              "    }\n",
              "\n",
              "    [theme=dark] .colab-df-convert {\n",
              "      background-color: #3B4455;\n",
              "      fill: #D2E3FC;\n",
              "    }\n",
              "\n",
              "    [theme=dark] .colab-df-convert:hover {\n",
              "      background-color: #434B5C;\n",
              "      box-shadow: 0px 1px 3px 1px rgba(0, 0, 0, 0.15);\n",
              "      filter: drop-shadow(0px 1px 2px rgba(0, 0, 0, 0.3));\n",
              "      fill: #FFFFFF;\n",
              "    }\n",
              "  </style>\n",
              "\n",
              "      <script>\n",
              "        const buttonEl =\n",
              "          document.querySelector('#df-2be1b9c4-006c-49a7-baec-3a83f0703f95 button.colab-df-convert');\n",
              "        buttonEl.style.display =\n",
              "          google.colab.kernel.accessAllowed ? 'block' : 'none';\n",
              "\n",
              "        async function convertToInteractive(key) {\n",
              "          const element = document.querySelector('#df-2be1b9c4-006c-49a7-baec-3a83f0703f95');\n",
              "          const dataTable =\n",
              "            await google.colab.kernel.invokeFunction('convertToInteractive',\n",
              "                                                     [key], {});\n",
              "          if (!dataTable) return;\n",
              "\n",
              "          const docLinkHtml = 'Like what you see? Visit the ' +\n",
              "            '<a target=\"_blank\" href=https://colab.research.google.com/notebooks/data_table.ipynb>data table notebook</a>'\n",
              "            + ' to learn more about interactive tables.';\n",
              "          element.innerHTML = '';\n",
              "          dataTable['output_type'] = 'display_data';\n",
              "          await google.colab.output.renderOutput(dataTable, element);\n",
              "          const docLink = document.createElement('div');\n",
              "          docLink.innerHTML = docLinkHtml;\n",
              "          element.appendChild(docLink);\n",
              "        }\n",
              "      </script>\n",
              "    </div>\n",
              "  </div>\n",
              "  "
            ]
          },
          "metadata": {},
          "execution_count": 52
        }
      ],
      "source": [
        "beauty['reviewTime'] = pd.to_datetime(beauty['reviewTime'])\n",
        "beauty"
      ]
    },
    {
      "cell_type": "code",
      "source": [
        "#del review_b"
      ],
      "metadata": {
        "id": "n8D2CaLCgOi2"
      },
      "execution_count": null,
      "outputs": []
    },
    {
      "cell_type": "code",
      "execution_count": null,
      "metadata": {
        "colab": {
          "base_uri": "https://localhost:8080/",
          "height": 437
        },
        "id": "kRey0u17eGQt",
        "outputId": "914c033a-e2b7-40d4-f248-00252aedd9e3"
      },
      "outputs": [
        {
          "output_type": "execute_result",
          "data": {
            "text/plain": [
              "                                                                                                                                                                                                                                                                               reviewText  \\\n",
              "1837  ive using jasons products ten years one favorite hand soaps like unlike hand soaps doesnt dry skin also comforting ingredients like aloe lavender chamomile care things product doesnt contain petrolatum sodium lauryl laureth sulfates give try im sure love itthe rebecca review   \n",
              "\n",
              "               summary        asin  \\\n",
              "1837  Gentle Hand Soap  B0000535UX   \n",
              "\n",
              "                                                                                                                                                                                                                                                                                             combined_text  \\\n",
              "1837  ive using jasons products ten years one favorite hand soaps like unlike hand soaps doesnt dry skin also comforting ingredients like aloe lavender chamomile care things product doesnt contain petrolatum sodium lauryl laureth sulfates give try im sure love itthe rebecca review Gentle Hand Soap   \n",
              "\n",
              "         decision  polarity sentiment  overall  target  \\\n",
              "1837  RECOMMENDED  0.272222  Positive        5       4   \n",
              "\n",
              "                                                                                                                                                                                                                                                                                        lemmatized  \\\n",
              "1837  ive using jason product ten year one favorite hand soap like unlike hand soap doesnt dry skin also comforting ingredient like aloe lavender chamomile care thing product doesnt contain petrolatum sodium lauryl laureth sulfate give try im sure love itthe rebecca review Gentle Hand Soap   \n",
              "\n",
              "     reviewTime  \n",
              "1837 2002-06-12  "
            ],
            "text/html": [
              "\n",
              "  <div id=\"df-1c58a606-8c5d-4867-9e81-968cf8ce503a\">\n",
              "    <div class=\"colab-df-container\">\n",
              "      <div>\n",
              "<style scoped>\n",
              "    .dataframe tbody tr th:only-of-type {\n",
              "        vertical-align: middle;\n",
              "    }\n",
              "\n",
              "    .dataframe tbody tr th {\n",
              "        vertical-align: top;\n",
              "    }\n",
              "\n",
              "    .dataframe thead th {\n",
              "        text-align: right;\n",
              "    }\n",
              "</style>\n",
              "<table border=\"1\" class=\"dataframe\">\n",
              "  <thead>\n",
              "    <tr style=\"text-align: right;\">\n",
              "      <th></th>\n",
              "      <th>reviewText</th>\n",
              "      <th>summary</th>\n",
              "      <th>asin</th>\n",
              "      <th>combined_text</th>\n",
              "      <th>decision</th>\n",
              "      <th>polarity</th>\n",
              "      <th>sentiment</th>\n",
              "      <th>overall</th>\n",
              "      <th>target</th>\n",
              "      <th>lemmatized</th>\n",
              "      <th>reviewTime</th>\n",
              "    </tr>\n",
              "  </thead>\n",
              "  <tbody>\n",
              "    <tr>\n",
              "      <th>1837</th>\n",
              "      <td>ive using jasons products ten years one favorite hand soaps like unlike hand soaps doesnt dry skin also comforting ingredients like aloe lavender chamomile care things product doesnt contain petrolatum sodium lauryl laureth sulfates give try im sure love itthe rebecca review</td>\n",
              "      <td>Gentle Hand Soap</td>\n",
              "      <td>B0000535UX</td>\n",
              "      <td>ive using jasons products ten years one favorite hand soaps like unlike hand soaps doesnt dry skin also comforting ingredients like aloe lavender chamomile care things product doesnt contain petrolatum sodium lauryl laureth sulfates give try im sure love itthe rebecca review Gentle Hand Soap</td>\n",
              "      <td>RECOMMENDED</td>\n",
              "      <td>0.272222</td>\n",
              "      <td>Positive</td>\n",
              "      <td>5</td>\n",
              "      <td>4</td>\n",
              "      <td>ive using jason product ten year one favorite hand soap like unlike hand soap doesnt dry skin also comforting ingredient like aloe lavender chamomile care thing product doesnt contain petrolatum sodium lauryl laureth sulfate give try im sure love itthe rebecca review Gentle Hand Soap</td>\n",
              "      <td>2002-06-12</td>\n",
              "    </tr>\n",
              "  </tbody>\n",
              "</table>\n",
              "</div>\n",
              "      <button class=\"colab-df-convert\" onclick=\"convertToInteractive('df-1c58a606-8c5d-4867-9e81-968cf8ce503a')\"\n",
              "              title=\"Convert this dataframe to an interactive table.\"\n",
              "              style=\"display:none;\">\n",
              "        \n",
              "  <svg xmlns=\"http://www.w3.org/2000/svg\" height=\"24px\"viewBox=\"0 0 24 24\"\n",
              "       width=\"24px\">\n",
              "    <path d=\"M0 0h24v24H0V0z\" fill=\"none\"/>\n",
              "    <path d=\"M18.56 5.44l.94 2.06.94-2.06 2.06-.94-2.06-.94-.94-2.06-.94 2.06-2.06.94zm-11 1L8.5 8.5l.94-2.06 2.06-.94-2.06-.94L8.5 2.5l-.94 2.06-2.06.94zm10 10l.94 2.06.94-2.06 2.06-.94-2.06-.94-.94-2.06-.94 2.06-2.06.94z\"/><path d=\"M17.41 7.96l-1.37-1.37c-.4-.4-.92-.59-1.43-.59-.52 0-1.04.2-1.43.59L10.3 9.45l-7.72 7.72c-.78.78-.78 2.05 0 2.83L4 21.41c.39.39.9.59 1.41.59.51 0 1.02-.2 1.41-.59l7.78-7.78 2.81-2.81c.8-.78.8-2.07 0-2.86zM5.41 20L4 18.59l7.72-7.72 1.47 1.35L5.41 20z\"/>\n",
              "  </svg>\n",
              "      </button>\n",
              "      \n",
              "  <style>\n",
              "    .colab-df-container {\n",
              "      display:flex;\n",
              "      flex-wrap:wrap;\n",
              "      gap: 12px;\n",
              "    }\n",
              "\n",
              "    .colab-df-convert {\n",
              "      background-color: #E8F0FE;\n",
              "      border: none;\n",
              "      border-radius: 50%;\n",
              "      cursor: pointer;\n",
              "      display: none;\n",
              "      fill: #1967D2;\n",
              "      height: 32px;\n",
              "      padding: 0 0 0 0;\n",
              "      width: 32px;\n",
              "    }\n",
              "\n",
              "    .colab-df-convert:hover {\n",
              "      background-color: #E2EBFA;\n",
              "      box-shadow: 0px 1px 2px rgba(60, 64, 67, 0.3), 0px 1px 3px 1px rgba(60, 64, 67, 0.15);\n",
              "      fill: #174EA6;\n",
              "    }\n",
              "\n",
              "    [theme=dark] .colab-df-convert {\n",
              "      background-color: #3B4455;\n",
              "      fill: #D2E3FC;\n",
              "    }\n",
              "\n",
              "    [theme=dark] .colab-df-convert:hover {\n",
              "      background-color: #434B5C;\n",
              "      box-shadow: 0px 1px 3px 1px rgba(0, 0, 0, 0.15);\n",
              "      filter: drop-shadow(0px 1px 2px rgba(0, 0, 0, 0.3));\n",
              "      fill: #FFFFFF;\n",
              "    }\n",
              "  </style>\n",
              "\n",
              "      <script>\n",
              "        const buttonEl =\n",
              "          document.querySelector('#df-1c58a606-8c5d-4867-9e81-968cf8ce503a button.colab-df-convert');\n",
              "        buttonEl.style.display =\n",
              "          google.colab.kernel.accessAllowed ? 'block' : 'none';\n",
              "\n",
              "        async function convertToInteractive(key) {\n",
              "          const element = document.querySelector('#df-1c58a606-8c5d-4867-9e81-968cf8ce503a');\n",
              "          const dataTable =\n",
              "            await google.colab.kernel.invokeFunction('convertToInteractive',\n",
              "                                                     [key], {});\n",
              "          if (!dataTable) return;\n",
              "\n",
              "          const docLinkHtml = 'Like what you see? Visit the ' +\n",
              "            '<a target=\"_blank\" href=https://colab.research.google.com/notebooks/data_table.ipynb>data table notebook</a>'\n",
              "            + ' to learn more about interactive tables.';\n",
              "          element.innerHTML = '';\n",
              "          dataTable['output_type'] = 'display_data';\n",
              "          await google.colab.output.renderOutput(dataTable, element);\n",
              "          const docLink = document.createElement('div');\n",
              "          docLink.innerHTML = docLinkHtml;\n",
              "          element.appendChild(docLink);\n",
              "        }\n",
              "      </script>\n",
              "    </div>\n",
              "  </div>\n",
              "  "
            ]
          },
          "metadata": {},
          "execution_count": 55
        }
      ],
      "source": [
        "# Sorting the column based on time\n",
        "review_b = beauty.sort_values(by='reviewTime')\n",
        "review_b.head(1)"
      ]
    },
    {
      "cell_type": "code",
      "source": [
        "'''review_b.to_csv(r'/content/drive/MyDrive/capstone_project/Beauty_data.csv', sep='\\t', index=False,header=True)'''"
      ],
      "metadata": {
        "id": "IoHdDTn-G0JM"
      },
      "execution_count": null,
      "outputs": []
    },
    {
      "cell_type": "code",
      "execution_count": null,
      "metadata": {
        "id": "HM0ChkkTeGQu"
      },
      "outputs": [],
      "source": [
        "# Adding product id(asin) column\n",
        "review_b['asin'] = review_beauty_df['asin']"
      ]
    },
    {
      "cell_type": "code",
      "source": [
        "# Top 10 sold beauty products\n",
        "\n",
        "review_b[\"asin\"].value_counts()"
      ],
      "metadata": {
        "colab": {
          "base_uri": "https://localhost:8080/"
        },
        "id": "yIHDJxOPukKI",
        "outputId": "cbb8a62c-98dc-4138-f25b-6317a48f5394"
      },
      "execution_count": null,
      "outputs": [
        {
          "output_type": "execute_result",
          "data": {
            "text/plain": [
              "B004OHQR1Q    431\n",
              "B0043OYFKU    403\n",
              "B0069FDR96    391\n",
              "B000ZMBSPE    389\n",
              "B00150LT40    329\n",
              "             ... \n",
              "B005IMHDW8      5\n",
              "B0065LOP1S      5\n",
              "B002GZRZW8      5\n",
              "B00C577B94      5\n",
              "B0015YYYF2      5\n",
              "Name: asin, Length: 12101, dtype: int64"
            ]
          },
          "metadata": {},
          "execution_count": 57
        }
      ]
    },
    {
      "cell_type": "code",
      "source": [
        "# set the tdate as the index\n",
        "review_b = review_b.set_index(\"reviewTime\")\n",
        "review_b.head(3)"
      ],
      "metadata": {
        "colab": {
          "base_uri": "https://localhost:8080/",
          "height": 1000
        },
        "id": "efglI6mwunmA",
        "outputId": "814ab4dc-f297-49e5-e9b4-44334a0bdde7"
      },
      "execution_count": null,
      "outputs": [
        {
          "output_type": "execute_result",
          "data": {
            "text/plain": [
              "                                                                                                                                                                                                                                                                                                                                                                                                     reviewText  \\\n",
              "reviewTime                                                                                                                                                                                                                                                                                                                                                                                                        \n",
              "2002-06-12                                                                                                                  ive using jasons products ten years one favorite hand soaps like unlike hand soaps doesnt dry skin also comforting ingredients like aloe lavender chamomile care things product doesnt contain petrolatum sodium lauryl laureth sulfates give try im sure love itthe rebecca review   \n",
              "2002-06-16                       trying product husband noticed difference hair turned styling told buy product favoritethis product guaranteed add least 10 fullness hair first applicationit mild botanical cleansing agents fruit acids cleanses hair helps purify scalp polysorbates free scalp excess cellular debris block hair follicleshe doesnt use conditioner love usingit productthe rebecca review   \n",
              "2002-06-16  conditioner compliment thintothick shampoo really work also gives hair uv protectionthis conditioner also strengthen fine chemically processed hair infusing 22 amino acids also helps mend split ends prevent damagejasons exclusive hydrating complex planthenol3 tm aloe vera plus hairloving proteins seaweed extracts thicken hair fibers least 10lusture body manageabilitythe rebecca review   \n",
              "\n",
              "                                            summary        asin  \\\n",
              "reviewTime                                                        \n",
              "2002-06-12                         Gentle Hand Soap  B0000535UX   \n",
              "2002-06-16  Only shampoo my husband will use lately  B0000535UM   \n",
              "2002-06-16                           Good detangler  B0000535UN   \n",
              "\n",
              "                                                                                                                                                                                                                                                                                                                                                                                                                     combined_text  \\\n",
              "reviewTime                                                                                                                                                                                                                                                                                                                                                                                                                           \n",
              "2002-06-12                                                                                                                    ive using jasons products ten years one favorite hand soaps like unlike hand soaps doesnt dry skin also comforting ingredients like aloe lavender chamomile care things product doesnt contain petrolatum sodium lauryl laureth sulfates give try im sure love itthe rebecca review Gentle Hand Soap   \n",
              "2002-06-16  trying product husband noticed difference hair turned styling told buy product favoritethis product guaranteed add least 10 fullness hair first applicationit mild botanical cleansing agents fruit acids cleanses hair helps purify scalp polysorbates free scalp excess cellular debris block hair follicleshe doesnt use conditioner love usingit productthe rebecca review Only shampoo my husband will use lately   \n",
              "2002-06-16      conditioner compliment thintothick shampoo really work also gives hair uv protectionthis conditioner also strengthen fine chemically processed hair infusing 22 amino acids also helps mend split ends prevent damagejasons exclusive hydrating complex planthenol3 tm aloe vera plus hairloving proteins seaweed extracts thicken hair fibers least 10lusture body manageabilitythe rebecca review Good detangler   \n",
              "\n",
              "               decision  polarity sentiment  overall  target  \\\n",
              "reviewTime                                                     \n",
              "2002-06-12  RECOMMENDED  0.272222  Positive        5       4   \n",
              "2002-06-16  RECOMMENDED  0.126190  Positive        5       4   \n",
              "2002-06-16  RECOMMENDED  0.143333  Positive        5       4   \n",
              "\n",
              "                                                                                                                                                                                                                                                                                                                                                                                                                  lemmatized  \n",
              "reviewTime                                                                                                                                                                                                                                                                                                                                                                                                                    \n",
              "2002-06-12                                                                                                                      ive using jason product ten year one favorite hand soap like unlike hand soap doesnt dry skin also comforting ingredient like aloe lavender chamomile care thing product doesnt contain petrolatum sodium lauryl laureth sulfate give try im sure love itthe rebecca review Gentle Hand Soap  \n",
              "2002-06-16  trying product husband noticed difference hair turned styling told buy product favoritethis product guaranteed add least 10 fullness hair first applicationit mild botanical cleansing agent fruit acid clean hair help purify scalp polysorbates free scalp excess cellular debris block hair follicleshe doesnt use conditioner love usingit productthe rebecca review Only shampoo my husband will use lately  \n",
              "2002-06-16       conditioner compliment thintothick shampoo really work also give hair uv protectionthis conditioner also strengthen fine chemically processed hair infusing 22 amino acid also help mend split end prevent damagejasons exclusive hydrating complex planthenol3 tm aloe vera plus hairloving protein seaweed extract thicken hair fiber least 10lusture body manageabilitythe rebecca review Good detangler  "
            ],
            "text/html": [
              "\n",
              "  <div id=\"df-7debb977-323a-4b03-9a1a-67e637f025d1\">\n",
              "    <div class=\"colab-df-container\">\n",
              "      <div>\n",
              "<style scoped>\n",
              "    .dataframe tbody tr th:only-of-type {\n",
              "        vertical-align: middle;\n",
              "    }\n",
              "\n",
              "    .dataframe tbody tr th {\n",
              "        vertical-align: top;\n",
              "    }\n",
              "\n",
              "    .dataframe thead th {\n",
              "        text-align: right;\n",
              "    }\n",
              "</style>\n",
              "<table border=\"1\" class=\"dataframe\">\n",
              "  <thead>\n",
              "    <tr style=\"text-align: right;\">\n",
              "      <th></th>\n",
              "      <th>reviewText</th>\n",
              "      <th>summary</th>\n",
              "      <th>asin</th>\n",
              "      <th>combined_text</th>\n",
              "      <th>decision</th>\n",
              "      <th>polarity</th>\n",
              "      <th>sentiment</th>\n",
              "      <th>overall</th>\n",
              "      <th>target</th>\n",
              "      <th>lemmatized</th>\n",
              "    </tr>\n",
              "    <tr>\n",
              "      <th>reviewTime</th>\n",
              "      <th></th>\n",
              "      <th></th>\n",
              "      <th></th>\n",
              "      <th></th>\n",
              "      <th></th>\n",
              "      <th></th>\n",
              "      <th></th>\n",
              "      <th></th>\n",
              "      <th></th>\n",
              "      <th></th>\n",
              "    </tr>\n",
              "  </thead>\n",
              "  <tbody>\n",
              "    <tr>\n",
              "      <th>2002-06-12</th>\n",
              "      <td>ive using jasons products ten years one favorite hand soaps like unlike hand soaps doesnt dry skin also comforting ingredients like aloe lavender chamomile care things product doesnt contain petrolatum sodium lauryl laureth sulfates give try im sure love itthe rebecca review</td>\n",
              "      <td>Gentle Hand Soap</td>\n",
              "      <td>B0000535UX</td>\n",
              "      <td>ive using jasons products ten years one favorite hand soaps like unlike hand soaps doesnt dry skin also comforting ingredients like aloe lavender chamomile care things product doesnt contain petrolatum sodium lauryl laureth sulfates give try im sure love itthe rebecca review Gentle Hand Soap</td>\n",
              "      <td>RECOMMENDED</td>\n",
              "      <td>0.272222</td>\n",
              "      <td>Positive</td>\n",
              "      <td>5</td>\n",
              "      <td>4</td>\n",
              "      <td>ive using jason product ten year one favorite hand soap like unlike hand soap doesnt dry skin also comforting ingredient like aloe lavender chamomile care thing product doesnt contain petrolatum sodium lauryl laureth sulfate give try im sure love itthe rebecca review Gentle Hand Soap</td>\n",
              "    </tr>\n",
              "    <tr>\n",
              "      <th>2002-06-16</th>\n",
              "      <td>trying product husband noticed difference hair turned styling told buy product favoritethis product guaranteed add least 10 fullness hair first applicationit mild botanical cleansing agents fruit acids cleanses hair helps purify scalp polysorbates free scalp excess cellular debris block hair follicleshe doesnt use conditioner love usingit productthe rebecca review</td>\n",
              "      <td>Only shampoo my husband will use lately</td>\n",
              "      <td>B0000535UM</td>\n",
              "      <td>trying product husband noticed difference hair turned styling told buy product favoritethis product guaranteed add least 10 fullness hair first applicationit mild botanical cleansing agents fruit acids cleanses hair helps purify scalp polysorbates free scalp excess cellular debris block hair follicleshe doesnt use conditioner love usingit productthe rebecca review Only shampoo my husband will use lately</td>\n",
              "      <td>RECOMMENDED</td>\n",
              "      <td>0.126190</td>\n",
              "      <td>Positive</td>\n",
              "      <td>5</td>\n",
              "      <td>4</td>\n",
              "      <td>trying product husband noticed difference hair turned styling told buy product favoritethis product guaranteed add least 10 fullness hair first applicationit mild botanical cleansing agent fruit acid clean hair help purify scalp polysorbates free scalp excess cellular debris block hair follicleshe doesnt use conditioner love usingit productthe rebecca review Only shampoo my husband will use lately</td>\n",
              "    </tr>\n",
              "    <tr>\n",
              "      <th>2002-06-16</th>\n",
              "      <td>conditioner compliment thintothick shampoo really work also gives hair uv protectionthis conditioner also strengthen fine chemically processed hair infusing 22 amino acids also helps mend split ends prevent damagejasons exclusive hydrating complex planthenol3 tm aloe vera plus hairloving proteins seaweed extracts thicken hair fibers least 10lusture body manageabilitythe rebecca review</td>\n",
              "      <td>Good detangler</td>\n",
              "      <td>B0000535UN</td>\n",
              "      <td>conditioner compliment thintothick shampoo really work also gives hair uv protectionthis conditioner also strengthen fine chemically processed hair infusing 22 amino acids also helps mend split ends prevent damagejasons exclusive hydrating complex planthenol3 tm aloe vera plus hairloving proteins seaweed extracts thicken hair fibers least 10lusture body manageabilitythe rebecca review Good detangler</td>\n",
              "      <td>RECOMMENDED</td>\n",
              "      <td>0.143333</td>\n",
              "      <td>Positive</td>\n",
              "      <td>5</td>\n",
              "      <td>4</td>\n",
              "      <td>conditioner compliment thintothick shampoo really work also give hair uv protectionthis conditioner also strengthen fine chemically processed hair infusing 22 amino acid also help mend split end prevent damagejasons exclusive hydrating complex planthenol3 tm aloe vera plus hairloving protein seaweed extract thicken hair fiber least 10lusture body manageabilitythe rebecca review Good detangler</td>\n",
              "    </tr>\n",
              "  </tbody>\n",
              "</table>\n",
              "</div>\n",
              "      <button class=\"colab-df-convert\" onclick=\"convertToInteractive('df-7debb977-323a-4b03-9a1a-67e637f025d1')\"\n",
              "              title=\"Convert this dataframe to an interactive table.\"\n",
              "              style=\"display:none;\">\n",
              "        \n",
              "  <svg xmlns=\"http://www.w3.org/2000/svg\" height=\"24px\"viewBox=\"0 0 24 24\"\n",
              "       width=\"24px\">\n",
              "    <path d=\"M0 0h24v24H0V0z\" fill=\"none\"/>\n",
              "    <path d=\"M18.56 5.44l.94 2.06.94-2.06 2.06-.94-2.06-.94-.94-2.06-.94 2.06-2.06.94zm-11 1L8.5 8.5l.94-2.06 2.06-.94-2.06-.94L8.5 2.5l-.94 2.06-2.06.94zm10 10l.94 2.06.94-2.06 2.06-.94-2.06-.94-.94-2.06-.94 2.06-2.06.94z\"/><path d=\"M17.41 7.96l-1.37-1.37c-.4-.4-.92-.59-1.43-.59-.52 0-1.04.2-1.43.59L10.3 9.45l-7.72 7.72c-.78.78-.78 2.05 0 2.83L4 21.41c.39.39.9.59 1.41.59.51 0 1.02-.2 1.41-.59l7.78-7.78 2.81-2.81c.8-.78.8-2.07 0-2.86zM5.41 20L4 18.59l7.72-7.72 1.47 1.35L5.41 20z\"/>\n",
              "  </svg>\n",
              "      </button>\n",
              "      \n",
              "  <style>\n",
              "    .colab-df-container {\n",
              "      display:flex;\n",
              "      flex-wrap:wrap;\n",
              "      gap: 12px;\n",
              "    }\n",
              "\n",
              "    .colab-df-convert {\n",
              "      background-color: #E8F0FE;\n",
              "      border: none;\n",
              "      border-radius: 50%;\n",
              "      cursor: pointer;\n",
              "      display: none;\n",
              "      fill: #1967D2;\n",
              "      height: 32px;\n",
              "      padding: 0 0 0 0;\n",
              "      width: 32px;\n",
              "    }\n",
              "\n",
              "    .colab-df-convert:hover {\n",
              "      background-color: #E2EBFA;\n",
              "      box-shadow: 0px 1px 2px rgba(60, 64, 67, 0.3), 0px 1px 3px 1px rgba(60, 64, 67, 0.15);\n",
              "      fill: #174EA6;\n",
              "    }\n",
              "\n",
              "    [theme=dark] .colab-df-convert {\n",
              "      background-color: #3B4455;\n",
              "      fill: #D2E3FC;\n",
              "    }\n",
              "\n",
              "    [theme=dark] .colab-df-convert:hover {\n",
              "      background-color: #434B5C;\n",
              "      box-shadow: 0px 1px 3px 1px rgba(0, 0, 0, 0.15);\n",
              "      filter: drop-shadow(0px 1px 2px rgba(0, 0, 0, 0.3));\n",
              "      fill: #FFFFFF;\n",
              "    }\n",
              "  </style>\n",
              "\n",
              "      <script>\n",
              "        const buttonEl =\n",
              "          document.querySelector('#df-7debb977-323a-4b03-9a1a-67e637f025d1 button.colab-df-convert');\n",
              "        buttonEl.style.display =\n",
              "          google.colab.kernel.accessAllowed ? 'block' : 'none';\n",
              "\n",
              "        async function convertToInteractive(key) {\n",
              "          const element = document.querySelector('#df-7debb977-323a-4b03-9a1a-67e637f025d1');\n",
              "          const dataTable =\n",
              "            await google.colab.kernel.invokeFunction('convertToInteractive',\n",
              "                                                     [key], {});\n",
              "          if (!dataTable) return;\n",
              "\n",
              "          const docLinkHtml = 'Like what you see? Visit the ' +\n",
              "            '<a target=\"_blank\" href=https://colab.research.google.com/notebooks/data_table.ipynb>data table notebook</a>'\n",
              "            + ' to learn more about interactive tables.';\n",
              "          element.innerHTML = '';\n",
              "          dataTable['output_type'] = 'display_data';\n",
              "          await google.colab.output.renderOutput(dataTable, element);\n",
              "          const docLink = document.createElement('div');\n",
              "          docLink.innerHTML = docLinkHtml;\n",
              "          element.appendChild(docLink);\n",
              "        }\n",
              "      </script>\n",
              "    </div>\n",
              "  </div>\n",
              "  "
            ]
          },
          "metadata": {},
          "execution_count": 58
        }
      ]
    },
    {
      "cell_type": "code",
      "source": [
        "review_b.sentiment.value_counts()"
      ],
      "metadata": {
        "colab": {
          "base_uri": "https://localhost:8080/"
        },
        "id": "icOO7VnfpMp1",
        "outputId": "be6b79ba-631f-491d-8744-af6075661a57"
      },
      "execution_count": null,
      "outputs": [
        {
          "output_type": "execute_result",
          "data": {
            "text/plain": [
              "Positive             158710\n",
              "Stongly_Positive      22255\n",
              "Negative              15105\n",
              "Neutal                 1972\n",
              "Strongly_Negative       460\n",
              "Name: sentiment, dtype: int64"
            ]
          },
          "metadata": {},
          "execution_count": 98
        }
      ]
    },
    {
      "cell_type": "code",
      "source": [
        "# fetching only negative sentiments \n",
        "review_b1 = review_b[(review_b.sentiment == 'Negative') | (review_b.sentiment == 'Neutal') | (review_b.sentiment == 'Strongly_Negative')]\n"
      ],
      "metadata": {
        "id": "ybkFJHaIq31D"
      },
      "execution_count": null,
      "outputs": []
    },
    {
      "cell_type": "code",
      "source": [
        "# fetching only positive sentiments \n",
        "\n",
        "'''review_b1 = review_b[(review_b.sentiment == 'Positive') | (review_b.sentiment == 'Stongly_Positive')]\n",
        "'''"
      ],
      "metadata": {
        "id": "zUuX_8VQpSM7"
      },
      "execution_count": null,
      "outputs": []
    },
    {
      "cell_type": "code",
      "source": [],
      "metadata": {
        "id": "DD1eqaZgurZ-"
      },
      "execution_count": null,
      "outputs": []
    },
    {
      "cell_type": "code",
      "source": [
        "review_b1 = review_b1[['target','overall','polarity']]"
      ],
      "metadata": {
        "id": "PIBvdDiCuwB1"
      },
      "execution_count": null,
      "outputs": []
    },
    {
      "cell_type": "code",
      "source": [
        "# Converting the data to monthwise data\n",
        "\n",
        "review_b1 = review_b1.resample('M').mean()\n",
        "review_b1"
      ],
      "metadata": {
        "id": "c94nP0ApwEq1",
        "colab": {
          "base_uri": "https://localhost:8080/",
          "height": 455
        },
        "outputId": "e4e012a0-9117-4e25-c2cd-cc825f9f1829"
      },
      "execution_count": null,
      "outputs": [
        {
          "output_type": "execute_result",
          "data": {
            "text/plain": [
              "              target   overall  polarity\n",
              "reviewTime                              \n",
              "2004-04-30  2.000000  4.000000 -0.061465\n",
              "2004-05-31  2.000000  4.500000 -0.010288\n",
              "2004-06-30       NaN       NaN       NaN\n",
              "2004-07-31       NaN       NaN       NaN\n",
              "2004-08-31       NaN       NaN       NaN\n",
              "...              ...       ...       ...\n",
              "2014-03-31  2.074408  2.766629 -0.123330\n",
              "2014-04-30  2.091824  2.784906 -0.114544\n",
              "2014-05-31  2.099596  2.808883 -0.121304\n",
              "2014-06-30  2.105491  2.893064 -0.126075\n",
              "2014-07-31  2.313218  3.081897 -0.117714\n",
              "\n",
              "[124 rows x 3 columns]"
            ],
            "text/html": [
              "\n",
              "  <div id=\"df-75cde8c6-3b69-45c9-947c-f3f044d84ce6\">\n",
              "    <div class=\"colab-df-container\">\n",
              "      <div>\n",
              "<style scoped>\n",
              "    .dataframe tbody tr th:only-of-type {\n",
              "        vertical-align: middle;\n",
              "    }\n",
              "\n",
              "    .dataframe tbody tr th {\n",
              "        vertical-align: top;\n",
              "    }\n",
              "\n",
              "    .dataframe thead th {\n",
              "        text-align: right;\n",
              "    }\n",
              "</style>\n",
              "<table border=\"1\" class=\"dataframe\">\n",
              "  <thead>\n",
              "    <tr style=\"text-align: right;\">\n",
              "      <th></th>\n",
              "      <th>target</th>\n",
              "      <th>overall</th>\n",
              "      <th>polarity</th>\n",
              "    </tr>\n",
              "    <tr>\n",
              "      <th>reviewTime</th>\n",
              "      <th></th>\n",
              "      <th></th>\n",
              "      <th></th>\n",
              "    </tr>\n",
              "  </thead>\n",
              "  <tbody>\n",
              "    <tr>\n",
              "      <th>2004-04-30</th>\n",
              "      <td>2.000000</td>\n",
              "      <td>4.000000</td>\n",
              "      <td>-0.061465</td>\n",
              "    </tr>\n",
              "    <tr>\n",
              "      <th>2004-05-31</th>\n",
              "      <td>2.000000</td>\n",
              "      <td>4.500000</td>\n",
              "      <td>-0.010288</td>\n",
              "    </tr>\n",
              "    <tr>\n",
              "      <th>2004-06-30</th>\n",
              "      <td>NaN</td>\n",
              "      <td>NaN</td>\n",
              "      <td>NaN</td>\n",
              "    </tr>\n",
              "    <tr>\n",
              "      <th>2004-07-31</th>\n",
              "      <td>NaN</td>\n",
              "      <td>NaN</td>\n",
              "      <td>NaN</td>\n",
              "    </tr>\n",
              "    <tr>\n",
              "      <th>2004-08-31</th>\n",
              "      <td>NaN</td>\n",
              "      <td>NaN</td>\n",
              "      <td>NaN</td>\n",
              "    </tr>\n",
              "    <tr>\n",
              "      <th>...</th>\n",
              "      <td>...</td>\n",
              "      <td>...</td>\n",
              "      <td>...</td>\n",
              "    </tr>\n",
              "    <tr>\n",
              "      <th>2014-03-31</th>\n",
              "      <td>2.074408</td>\n",
              "      <td>2.766629</td>\n",
              "      <td>-0.123330</td>\n",
              "    </tr>\n",
              "    <tr>\n",
              "      <th>2014-04-30</th>\n",
              "      <td>2.091824</td>\n",
              "      <td>2.784906</td>\n",
              "      <td>-0.114544</td>\n",
              "    </tr>\n",
              "    <tr>\n",
              "      <th>2014-05-31</th>\n",
              "      <td>2.099596</td>\n",
              "      <td>2.808883</td>\n",
              "      <td>-0.121304</td>\n",
              "    </tr>\n",
              "    <tr>\n",
              "      <th>2014-06-30</th>\n",
              "      <td>2.105491</td>\n",
              "      <td>2.893064</td>\n",
              "      <td>-0.126075</td>\n",
              "    </tr>\n",
              "    <tr>\n",
              "      <th>2014-07-31</th>\n",
              "      <td>2.313218</td>\n",
              "      <td>3.081897</td>\n",
              "      <td>-0.117714</td>\n",
              "    </tr>\n",
              "  </tbody>\n",
              "</table>\n",
              "<p>124 rows × 3 columns</p>\n",
              "</div>\n",
              "      <button class=\"colab-df-convert\" onclick=\"convertToInteractive('df-75cde8c6-3b69-45c9-947c-f3f044d84ce6')\"\n",
              "              title=\"Convert this dataframe to an interactive table.\"\n",
              "              style=\"display:none;\">\n",
              "        \n",
              "  <svg xmlns=\"http://www.w3.org/2000/svg\" height=\"24px\"viewBox=\"0 0 24 24\"\n",
              "       width=\"24px\">\n",
              "    <path d=\"M0 0h24v24H0V0z\" fill=\"none\"/>\n",
              "    <path d=\"M18.56 5.44l.94 2.06.94-2.06 2.06-.94-2.06-.94-.94-2.06-.94 2.06-2.06.94zm-11 1L8.5 8.5l.94-2.06 2.06-.94-2.06-.94L8.5 2.5l-.94 2.06-2.06.94zm10 10l.94 2.06.94-2.06 2.06-.94-2.06-.94-.94-2.06-.94 2.06-2.06.94z\"/><path d=\"M17.41 7.96l-1.37-1.37c-.4-.4-.92-.59-1.43-.59-.52 0-1.04.2-1.43.59L10.3 9.45l-7.72 7.72c-.78.78-.78 2.05 0 2.83L4 21.41c.39.39.9.59 1.41.59.51 0 1.02-.2 1.41-.59l7.78-7.78 2.81-2.81c.8-.78.8-2.07 0-2.86zM5.41 20L4 18.59l7.72-7.72 1.47 1.35L5.41 20z\"/>\n",
              "  </svg>\n",
              "      </button>\n",
              "      \n",
              "  <style>\n",
              "    .colab-df-container {\n",
              "      display:flex;\n",
              "      flex-wrap:wrap;\n",
              "      gap: 12px;\n",
              "    }\n",
              "\n",
              "    .colab-df-convert {\n",
              "      background-color: #E8F0FE;\n",
              "      border: none;\n",
              "      border-radius: 50%;\n",
              "      cursor: pointer;\n",
              "      display: none;\n",
              "      fill: #1967D2;\n",
              "      height: 32px;\n",
              "      padding: 0 0 0 0;\n",
              "      width: 32px;\n",
              "    }\n",
              "\n",
              "    .colab-df-convert:hover {\n",
              "      background-color: #E2EBFA;\n",
              "      box-shadow: 0px 1px 2px rgba(60, 64, 67, 0.3), 0px 1px 3px 1px rgba(60, 64, 67, 0.15);\n",
              "      fill: #174EA6;\n",
              "    }\n",
              "\n",
              "    [theme=dark] .colab-df-convert {\n",
              "      background-color: #3B4455;\n",
              "      fill: #D2E3FC;\n",
              "    }\n",
              "\n",
              "    [theme=dark] .colab-df-convert:hover {\n",
              "      background-color: #434B5C;\n",
              "      box-shadow: 0px 1px 3px 1px rgba(0, 0, 0, 0.15);\n",
              "      filter: drop-shadow(0px 1px 2px rgba(0, 0, 0, 0.3));\n",
              "      fill: #FFFFFF;\n",
              "    }\n",
              "  </style>\n",
              "\n",
              "      <script>\n",
              "        const buttonEl =\n",
              "          document.querySelector('#df-75cde8c6-3b69-45c9-947c-f3f044d84ce6 button.colab-df-convert');\n",
              "        buttonEl.style.display =\n",
              "          google.colab.kernel.accessAllowed ? 'block' : 'none';\n",
              "\n",
              "        async function convertToInteractive(key) {\n",
              "          const element = document.querySelector('#df-75cde8c6-3b69-45c9-947c-f3f044d84ce6');\n",
              "          const dataTable =\n",
              "            await google.colab.kernel.invokeFunction('convertToInteractive',\n",
              "                                                     [key], {});\n",
              "          if (!dataTable) return;\n",
              "\n",
              "          const docLinkHtml = 'Like what you see? Visit the ' +\n",
              "            '<a target=\"_blank\" href=https://colab.research.google.com/notebooks/data_table.ipynb>data table notebook</a>'\n",
              "            + ' to learn more about interactive tables.';\n",
              "          element.innerHTML = '';\n",
              "          dataTable['output_type'] = 'display_data';\n",
              "          await google.colab.output.renderOutput(dataTable, element);\n",
              "          const docLink = document.createElement('div');\n",
              "          docLink.innerHTML = docLinkHtml;\n",
              "          element.appendChild(docLink);\n",
              "        }\n",
              "      </script>\n",
              "    </div>\n",
              "  </div>\n",
              "  "
            ]
          },
          "metadata": {},
          "execution_count": 132
        }
      ]
    },
    {
      "cell_type": "code",
      "source": [
        "\n",
        "# filling null values\n",
        "review_b1[\"target\"].fillna(review_b1[\"target\"].mean(), inplace = True)\n",
        "\n",
        "review_b1[\"overall\"].fillna(review_b1[\"overall\"].mean(), inplace = True)\n",
        "\n",
        "review_b1[\"polarity\"].fillna(review_b1[\"polarity\"].mean(), inplace = True)\n"
      ],
      "metadata": {
        "id": "ncA_rCSYw8hJ"
      },
      "execution_count": null,
      "outputs": []
    },
    {
      "cell_type": "code",
      "source": [
        "review_b1.plot()"
      ],
      "metadata": {
        "id": "q2YlHo3vxCqV",
        "colab": {
          "base_uri": "https://localhost:8080/",
          "height": 357
        },
        "outputId": "ae2c0669-b64e-46ce-939c-84208e240446"
      },
      "execution_count": null,
      "outputs": [
        {
          "output_type": "execute_result",
          "data": {
            "text/plain": [
              "<matplotlib.axes._subplots.AxesSubplot at 0x7fb32e2cb0d0>"
            ]
          },
          "metadata": {},
          "execution_count": 134
        },
        {
          "output_type": "display_data",
          "data": {
            "text/plain": [
              "<Figure size 648x360 with 1 Axes>"
            ],
            "image/png": "[encoded data removed]"
          },
          "metadata": {}
        }
      ]
    },
    {
      "cell_type": "code",
      "source": [
        "review_b1 = review_b1['polarity']"
      ],
      "metadata": {
        "id": "EAllSq0AxDpv"
      },
      "execution_count": null,
      "outputs": []
    },
    {
      "cell_type": "code",
      "source": [
        "# import libraries\n",
        "import numpy as np\n",
        "import pandas as pd\n",
        "\n",
        "import seaborn as sns\n",
        "from statsmodels.tsa.stattools import adfuller\n",
        "from statsmodels.tsa.seasonal import seasonal_decompose\n",
        "\n",
        "# ACF and PACF charts\n",
        "from statsmodels.graphics.tsaplots import plot_acf, plot_pacf\n",
        "\n",
        "# SARIMA/SARIMAX model\n",
        "from statsmodels.tsa.statespace.sarimax import SARIMAX\n",
        "from statsmodels.tsa.arima_model import ARIMA\n",
        "from statsmodels.tsa.arima_model import ARMA\n",
        "\n",
        "# MSE/RMSE\n",
        "\n",
        "from sklearn.metrics import mean_squared_error\n",
        "from sklearn.metrics import mean_absolute_error,mean_squared_error\n",
        "\n",
        "# Ljung-Box test for model goodness\n",
        "import statsmodels.api as sm\n",
        "\n",
        "import warnings\n",
        "warnings.filterwarnings(\"ignore\")\n",
        "\n",
        "# import libraries\n",
        "import matplotlib.pyplot as plt\n",
        "\n",
        "from statsmodels.tsa.seasonal import seasonal_decompose\n",
        "\n",
        "## For plotting\n",
        "## For outliers detection\n",
        "from sklearn import preprocessing, svm\n",
        "## For stationarity test and decomposition\n",
        "import statsmodels.tsa.api as smt\n",
        "import statsmodels.api as sm\n",
        "\n",
        "# dickey fuller test for stationarity\n",
        "from statsmodels.tsa.stattools import acf,pacf,adfuller\n",
        "\n",
        "from statsmodels.tsa.api import SimpleExpSmoothing\n",
        "from statsmodels.tsa.api import ExponentialSmoothing"
      ],
      "metadata": {
        "id": "0SMh4p8sxRuX"
      },
      "execution_count": null,
      "outputs": []
    },
    {
      "cell_type": "code",
      "source": [
        "# Decomposing the data\n",
        "decomp = seasonal_decompose(review_b1,period=12)\n",
        "\n",
        "d_sea = decomp.seasonal\n",
        "d_tren = decomp.trend\n",
        "\n",
        "fig,ax = plt.subplots(figsize = (15,8))\n",
        "\n",
        "plt.subplot(311)\n",
        "plt.plot(review_b1,label = 'Actual',color = 'black')\n",
        "plt.legend()\n",
        "\n",
        "plt.subplot(312)\n",
        "plt.plot(d_tren,label = 'Trend',color = 'r')\n",
        "plt.legend()\n",
        "\n",
        "plt.subplot(313)\n",
        "plt.plot(d_sea,label = 'Seasonal',color = 'g')\n",
        "plt.legend()\n",
        "\n",
        "plt.tight_layout()\n",
        "plt.show()"
      ],
      "metadata": {
        "id": "YFchpFf_xDuK",
        "colab": {
          "base_uri": "https://localhost:8080/",
          "height": 581
        },
        "outputId": "cf22eb20-6f2c-4e78-92a4-29c989e097f2"
      },
      "execution_count": null,
      "outputs": [
        {
          "output_type": "display_data",
          "data": {
            "text/plain": [
              "<Figure size 1080x576 with 3 Axes>"
            ],
            "image/png": "[encoded data removed]"
          },
          "metadata": {}
        }
      ]
    },
    {
      "cell_type": "code",
      "source": [
        "# check for Stationarity\n",
        "\n",
        "def checkStationarity(data):\n",
        "    pvalue = adfuller(data)[1]\n",
        "    if pvalue < 0.05:\n",
        "        ret = \"Data is Stationary. Proceed to model building\"\n",
        "    else:\n",
        "        ret = \"Data is not Stationary. Make is stationary\"\n",
        "        \n",
        "    return(ret)"
      ],
      "metadata": {
        "id": "TrUhvmxjxDy4"
      },
      "execution_count": null,
      "outputs": []
    },
    {
      "cell_type": "code",
      "source": [
        "# check the data stationarity of the  data\n",
        "checkStationarity(review_b1)"
      ],
      "metadata": {
        "id": "yRq4dkHMxD6z",
        "colab": {
          "base_uri": "https://localhost:8080/",
          "height": 36
        },
        "outputId": "844481a0-ec69-4c40-b2f0-42b6cb106f4a"
      },
      "execution_count": null,
      "outputs": [
        {
          "output_type": "execute_result",
          "data": {
            "text/plain": [
              "'Data is Stationary. Proceed to model building'"
            ],
            "application/vnd.google.colaboratory.intrinsic+json": {
              "type": "string"
            }
          },
          "metadata": {},
          "execution_count": 139
        }
      ]
    },
    {
      "cell_type": "code",
      "source": [
        "# Making data stationary\n",
        "review_b1 = review_b1 - review_b1.shift()"
      ],
      "metadata": {
        "id": "KLY4fcWWxEDf"
      },
      "execution_count": null,
      "outputs": []
    },
    {
      "cell_type": "code",
      "source": [
        "# dropping null values\n",
        "\n",
        "review_b1.dropna(inplace = True)"
      ],
      "metadata": {
        "id": "wqgZYdlXxebu"
      },
      "execution_count": null,
      "outputs": []
    },
    {
      "cell_type": "code",
      "source": [
        "# check the data stationarity of the \"Inventories\" data\n",
        "checkStationarity(review_b1)"
      ],
      "metadata": {
        "colab": {
          "base_uri": "https://localhost:8080/",
          "height": 36
        },
        "id": "20mzWpSZxp_D",
        "outputId": "4ea86727-313a-4eb9-9d5d-ce58bcb6026d"
      },
      "execution_count": null,
      "outputs": [
        {
          "output_type": "execute_result",
          "data": {
            "text/plain": [
              "'Data is Stationary. Proceed to model building'"
            ],
            "application/vnd.google.colaboratory.intrinsic+json": {
              "type": "string"
            }
          },
          "metadata": {},
          "execution_count": 142
        }
      ]
    },
    {
      "cell_type": "code",
      "source": [
        "# plotting using plot_acf function\n",
        "fig,ax = plt.subplots(1,2,figsize = (15,8))\n",
        "\n",
        "# PACF\n",
        "plot_pacf(review_b1,lags=52,ax = ax[0])\n",
        "\n",
        "#ACF\n",
        "plot_acf(review_b1,lags=52,ax = ax[1])\n",
        "\n",
        "\n",
        "plt.show()"
      ],
      "metadata": {
        "colab": {
          "base_uri": "https://localhost:8080/",
          "height": 501
        },
        "id": "Rvg_4ZBjxsZx",
        "outputId": "f4a10466-202b-4780-850b-74653f319d2d"
      },
      "execution_count": null,
      "outputs": [
        {
          "output_type": "display_data",
          "data": {
            "text/plain": [
              "<Figure size 1080x576 with 2 Axes>"
            ],
            "image/png": "[encoded data removed]"
          },
          "metadata": {}
        }
      ]
    },
    {
      "cell_type": "code",
      "source": [
        "# Splitting the data\n",
        "ratio = int(0.8*len(review_b1))\n",
        "train = review_b1.iloc[:ratio]\n",
        "test = review_b1.iloc[ratio:]\n",
        "\n",
        "print(f'Train = {train.shape} | Test = {test.shape}')"
      ],
      "metadata": {
        "colab": {
          "base_uri": "https://localhost:8080/"
        },
        "id": "LwXItUNHxumK",
        "outputId": "efbd7b84-2f90-45b5-939a-9b807a574d6d"
      },
      "execution_count": null,
      "outputs": [
        {
          "output_type": "stream",
          "name": "stdout",
          "text": [
            "Train = (98,) | Test = (25,)\n"
          ]
        }
      ]
    },
    {
      "cell_type": "code",
      "source": [
        "# build the SARIMA model with some initial values for p and q\n",
        "p = np.arange(4)\n",
        "q = np.arange(4)\n",
        "    \n",
        "models = []\n",
        "p_l = []\n",
        "q_l = []\n",
        "mse = []\n",
        "rmse =[]\n",
        "mae = []\n",
        "aic = []\n",
        "bic = []\n",
        "mad = []\n",
        "mape = []\n",
        "d = 0"
      ],
      "metadata": {
        "id": "rERyUZUcxx4F"
      },
      "execution_count": null,
      "outputs": []
    },
    {
      "cell_type": "code",
      "source": [
        "for i in p:\n",
        "    for j in q:\n",
        "         m = SARIMAX(train,order=(i,d,j),seasonal_order=(i,d,j,4)).fit()\n",
        "         f = m.predict(start=len(train),end = len(train)+len(test)-1)\n",
        "         aic.append(m.aic)\n",
        "         bic.append(m.bic)\n",
        "         mse.append(mean_squared_error(test,f))\n",
        "         rmse.append(np.sqrt(mean_squared_error(test,f)))\n",
        "         mae.append(mean_absolute_error(test,f))\n",
        "         models.append(m)\n",
        "         p_l.append(i)\n",
        "         q_l.append(j)"
      ],
      "metadata": {
        "id": "sx3tFaR5x0IH"
      },
      "execution_count": null,
      "outputs": []
    },
    {
      "cell_type": "code",
      "source": [
        "# creating list of p and q value combinations \n",
        "lis=[]\n",
        "for p in range(3):\n",
        "    for q in range(3):\n",
        "        lis.append((p,2,q))\n",
        "\n",
        "lis1=[]\n",
        "for p in range(3):\n",
        "    for q in range(3):\n",
        "        lis1.append((p,2,q,12))\n",
        "\n",
        "# building model\n",
        "model=[]\n",
        "for i,j in zip(lis,lis1):\n",
        "    m = SARIMAX(train, order=i,seasonal_order=j).fit() \n",
        "    model.append(m)\n",
        "\n",
        "# checking model is good or not\n",
        "c=1\n",
        "good_model =[]\n",
        "for i in model:\n",
        "    pvalue = sm.stats.acorr_ljungbox(i.resid, lags=[1], return_df=True)['lb_pvalue'].values\n",
        "    if pvalue < 0.05:\n",
        "        print(f'Model {c} Not a good model')\n",
        "    else:\n",
        "        good_model.append(i)\n",
        "        print(f'Model {c} Good model')\n",
        "    c+=1"
      ],
      "metadata": {
        "id": "GmBHmTY6i6mV",
        "outputId": "d8eeebfa-ac9d-4f38-d108-9b2897ab7646",
        "colab": {
          "base_uri": "https://localhost:8080/"
        }
      },
      "execution_count": null,
      "outputs": [
        {
          "output_type": "stream",
          "name": "stdout",
          "text": [
            "Model 1 Not a good model\n",
            "Model 2 Not a good model\n",
            "Model 3 Not a good model\n",
            "Model 4 Not a good model\n",
            "Model 5 Not a good model\n",
            "Model 6 Not a good model\n",
            "Model 7 Not a good model\n",
            "Model 8 Not a good model\n",
            "Model 9 Not a good model\n"
          ]
        }
      ]
    },
    {
      "cell_type": "code",
      "source": [
        "# calculating AIC and BIC score\n",
        "aic=[]\n",
        "bic=[]\n",
        "for i in good_model:\n",
        "    aic.append(i.aic)\n",
        "    bic.append(i.bic)\n",
        "\n",
        "# predicting values\n",
        "forecast=[]\n",
        "for i in good_model:\n",
        "    fcast = i.predict(start=len(train_mi_neg), end=len(train_mi_neg)+len(test_mi_neg)-1)\n",
        "    forecast.append(fcast)\n",
        "\n",
        "# calculating MSE and RMSE score\n",
        "MSE = []\n",
        "RMSE = []\n",
        "for i in forecast:\n",
        "    mse = mean_squared_error(test_mi_neg, i)\n",
        "    rmse = np.sqrt(mse)\n",
        "    MSE.append(mse)\n",
        "    RMSE.append(rmse)\n",
        "\n",
        "# appending model numbers \n",
        "model_no = ['Model '+str(i) for i in range(3,10)]\n",
        "\n",
        "# dataframe of all results\n",
        "df_results = pd.DataFrame({'Model No.': model_no, \n",
        "                           '(p, d, q)':lis[2:], \n",
        "                           'AIC': aic, 'BIC': bic, 'MSE': MSE, 'RMSE': RMSE})\n",
        "df_results"
      ],
      "metadata": {
        "id": "tVAzkUYqi0cx"
      },
      "execution_count": null,
      "outputs": []
    },
    {
      "cell_type": "code",
      "source": [
        "### Building the model with least error rate\n",
        "p = 1; d= 2; q=1\n",
        "\n",
        "sarima = SARIMAX(review_b1,order=(p,d,q),seasonal_order=(p,d,q,4)).fit()\n",
        "sarima_pred = sarima.predict(start=len(train),end = len(train)+len(test)-1)\n",
        "sarima_pred"
      ],
      "metadata": {
        "colab": {
          "base_uri": "https://localhost:8080/"
        },
        "id": "BEgIzs91x3K2",
        "outputId": "c59130b5-537a-4be3-96ee-be0926012bf5"
      },
      "execution_count": null,
      "outputs": [
        {
          "output_type": "execute_result",
          "data": {
            "text/plain": [
              "reviewTime\n",
              "2012-07-31   -0.038970\n",
              "2012-08-31    0.012679\n",
              "2012-09-30    0.005985\n",
              "2012-10-31    0.011136\n",
              "2012-11-30   -0.012552\n",
              "2012-12-31    0.028257\n",
              "2013-01-31   -0.004222\n",
              "2013-02-28   -0.014047\n",
              "2013-03-31   -0.017587\n",
              "2013-04-30    0.024810\n",
              "2013-05-31   -0.006947\n",
              "2013-06-30   -0.004093\n",
              "2013-07-31   -0.011605\n",
              "2013-08-31    0.008052\n",
              "2013-09-30   -0.024515\n",
              "2013-10-31   -0.002301\n",
              "2013-11-30    0.019722\n",
              "2013-12-31   -0.013283\n",
              "2014-01-31   -0.006002\n",
              "2014-02-28    0.016876\n",
              "2014-03-31   -0.012394\n",
              "2014-04-30   -0.008074\n",
              "2014-05-31    0.032540\n",
              "2014-06-30   -0.004638\n",
              "2014-07-31    0.006478\n",
              "Freq: M, Name: predicted_mean, dtype: float64"
            ]
          },
          "metadata": {},
          "execution_count": 146
        }
      ]
    },
    {
      "cell_type": "code",
      "source": [
        "#fig,ax = plt.subplots(figsize = (15,8))\n",
        "\n",
        "plt.subplot(111)\n",
        "plt.plot(test,marker = '.',c = 'blue', label = 'Actual')\n",
        "plt.plot(sarima_pred,marker = '.',c = 'red', label = 'Forecast')\n",
        "plt.title('Test vs Predicted Data')\n",
        "\n",
        "\n",
        "plt.tight_layout()\n",
        "plt.legend()\n",
        "plt.show()"
      ],
      "metadata": {
        "colab": {
          "base_uri": "https://localhost:8080/",
          "height": 365
        },
        "id": "trE45oVEyYhU",
        "outputId": "b5924977-04f4-49d6-ae61-fe3b975754ad"
      },
      "execution_count": null,
      "outputs": [
        {
          "output_type": "display_data",
          "data": {
            "text/plain": [
              "<Figure size 648x360 with 1 Axes>"
            ],
            "image/png": "[encoded data removed]"
          },
          "metadata": {}
        }
      ]
    },
    {
      "cell_type": "code",
      "source": [
        "sarima_fore = sarima.predict(start = len(train),end = len(train)+len(test)+20)\n",
        "sarima_fore = sarima_fore.tail(21)"
      ],
      "metadata": {
        "id": "YeQzQ5HRye0M"
      },
      "execution_count": null,
      "outputs": []
    },
    {
      "cell_type": "code",
      "source": [
        "#index_of_fc = pd.date_range(review_b1.index[-1] + pd.DateOffset(months=1), periods = n_periods, freq='MS')\n",
        "index_of_fc= pd.date_range(start=test.index[-1], periods =21, freq='M')\n",
        "index_of_fc"
      ],
      "metadata": {
        "colab": {
          "base_uri": "https://localhost:8080/"
        },
        "id": "xTPPdX2OyjMP",
        "outputId": "7e53f03a-06e7-4397-d313-f7e10131e47d"
      },
      "execution_count": null,
      "outputs": [
        {
          "output_type": "execute_result",
          "data": {
            "text/plain": [
              "DatetimeIndex(['2014-07-31', '2014-08-31', '2014-09-30', '2014-10-31',\n",
              "               '2014-11-30', '2014-12-31', '2015-01-31', '2015-02-28',\n",
              "               '2015-03-31', '2015-04-30', '2015-05-31', '2015-06-30',\n",
              "               '2015-07-31', '2015-08-31', '2015-09-30', '2015-10-31',\n",
              "               '2015-11-30', '2015-12-31', '2016-01-31', '2016-02-29',\n",
              "               '2016-03-31'],\n",
              "              dtype='datetime64[ns]', freq='M')"
            ]
          },
          "metadata": {},
          "execution_count": 149
        }
      ]
    },
    {
      "cell_type": "code",
      "source": [
        "### Comparing all the models based on visuals\n",
        "\n",
        "#fig,ax = plt.subplots(figsize = (12,5))\n",
        "\n",
        "plt.subplot(111)\n",
        "plt.plot(test,marker = '.',c = 'blue',label = 'Actual')\n",
        "plt.plot(index_of_fc,sarima_fore,marker = '.',c = 'red',label='Prediction')\n",
        "#plt.plot(sarima_pred,marker = '.',c = 'red',  label='Prediction')\n",
        "\n",
        "#plt.plot(sarimax_pred,marker = '.',c = 'blue',label = 'SARIMAX')\n",
        "plt.title('Time Series Analysis of Beauty Product data for Negative Reviews')\n",
        "plt.legend()\n",
        "plt.xlabel('Time')\n",
        "plt.ylabel('Polarity Score')\n",
        "\n",
        "plt.tight_layout()\n",
        "plt.show()"
      ],
      "metadata": {
        "id": "Atq8t9TYyllA"
      },
      "execution_count": null,
      "outputs": []
    },
    {
      "cell_type": "code",
      "source": [],
      "metadata": {
        "id": "iIA0_mCIzJfe"
      },
      "execution_count": null,
      "outputs": []
    }
  ],
  "metadata": {
    "colab": {
      "provenance": []
    },
    "kernelspec": {
      "display_name": "Python 3 (ipykernel)",
      "language": "python",
      "name": "python3"
    },
    "language_info": {
      "codemirror_mode": {
        "name": "ipython",
        "version": 3
      },
      "file_extension": ".py",
      "mimetype": "text/x-python",
      "name": "python",
      "nbconvert_exporter": "python",
      "pygments_lexer": "ipython3",
      "version": "3.9.7"
    },
    "widgets": {
      "application/vnd.jupyter.widget-state+json": {
        "5c5dd52179d64510bd454705e1400311": {
          "model_module": "@jupyter-widgets/controls",
          "model_name": "HBoxModel",
          "model_module_version": "1.5.0",
          "state": {
            "_dom_classes": [],
            "_model_module": "@jupyter-widgets/controls",
            "_model_module_version": "1.5.0",
            "_model_name": "HBoxModel",
            "_view_count": null,
            "_view_module": "@jupyter-widgets/controls",
            "_view_module_version": "1.5.0",
            "_view_name": "HBoxView",
            "box_style": "",
            "children": [
              "IPY_MODEL_44fba74da0b847189bc0bc239c444692",
              "IPY_MODEL_dd20967d59484c63bce3bbbaf478bcd4",
              "IPY_MODEL_ba3419970d62425c8b7674c1c8ee407a"
            ],
            "layout": "IPY_MODEL_edbdc54d37894af89ae77449282db295"
          }
        },
        "44fba74da0b847189bc0bc239c444692": {
          "model_module": "@jupyter-widgets/controls",
          "model_name": "HTMLModel",
          "model_module_version": "1.5.0",
          "state": {
            "_dom_classes": [],
            "_model_module": "@jupyter-widgets/controls",
            "_model_module_version": "1.5.0",
            "_model_name": "HTMLModel",
            "_view_count": null,
            "_view_module": "@jupyter-widgets/controls",
            "_view_module_version": "1.5.0",
            "_view_name": "HTMLView",
            "description": "",
            "description_tooltip": null,
            "layout": "IPY_MODEL_bcf3b1ddeafc46fe8ba4a43323bc1c90",
            "placeholder": "​",
            "style": "IPY_MODEL_5bccd4f006744553ab8fccd1541dc401",
            "value": "Downloading tokenizer_config.json: 100%"
          }
        },
        "dd20967d59484c63bce3bbbaf478bcd4": {
          "model_module": "@jupyter-widgets/controls",
          "model_name": "FloatProgressModel",
          "model_module_version": "1.5.0",
          "state": {
            "_dom_classes": [],
            "_model_module": "@jupyter-widgets/controls",
            "_model_module_version": "1.5.0",
            "_model_name": "FloatProgressModel",
            "_view_count": null,
            "_view_module": "@jupyter-widgets/controls",
            "_view_module_version": "1.5.0",
            "_view_name": "ProgressView",
            "bar_style": "success",
            "description": "",
            "description_tooltip": null,
            "layout": "IPY_MODEL_3527b23d21d64a01a0a59422b484308b",
            "max": 39,
            "min": 0,
            "orientation": "horizontal",
            "style": "IPY_MODEL_380ae9b900f749f5b7f15f8bc2a48415",
            "value": 39
          }
        },
        "ba3419970d62425c8b7674c1c8ee407a": {
          "model_module": "@jupyter-widgets/controls",
          "model_name": "HTMLModel",
          "model_module_version": "1.5.0",
          "state": {
            "_dom_classes": [],
            "_model_module": "@jupyter-widgets/controls",
            "_model_module_version": "1.5.0",
            "_model_name": "HTMLModel",
            "_view_count": null,
            "_view_module": "@jupyter-widgets/controls",
            "_view_module_version": "1.5.0",
            "_view_name": "HTMLView",
            "description": "",
            "description_tooltip": null,
            "layout": "IPY_MODEL_7f71153f8d8940729ec32bbe422086bf",
            "placeholder": "​",
            "style": "IPY_MODEL_f885293193194867950f36e320ff3841",
            "value": " 39.0/39.0 [00:00&lt;00:00, 1.15kB/s]"
          }
        },
        "edbdc54d37894af89ae77449282db295": {
          "model_module": "@jupyter-widgets/base",
          "model_name": "LayoutModel",
          "model_module_version": "1.2.0",
          "state": {
            "_model_module": "@jupyter-widgets/base",
            "_model_module_version": "1.2.0",
            "_model_name": "LayoutModel",
            "_view_count": null,
            "_view_module": "@jupyter-widgets/base",
            "_view_module_version": "1.2.0",
            "_view_name": "LayoutView",
            "align_content": null,
            "align_items": null,
            "align_self": null,
            "border": null,
            "bottom": null,
            "display": null,
            "flex": null,
            "flex_flow": null,
            "grid_area": null,
            "grid_auto_columns": null,
            "grid_auto_flow": null,
            "grid_auto_rows": null,
            "grid_column": null,
            "grid_gap": null,
            "grid_row": null,
            "grid_template_areas": null,
            "grid_template_columns": null,
            "grid_template_rows": null,
            "height": null,
            "justify_content": null,
            "justify_items": null,
            "left": null,
            "margin": null,
            "max_height": null,
            "max_width": null,
            "min_height": null,
            "min_width": null,
            "object_fit": null,
            "object_position": null,
            "order": null,
            "overflow": null,
            "overflow_x": null,
            "overflow_y": null,
            "padding": null,
            "right": null,
            "top": null,
            "visibility": null,
            "width": null
          }
        },
        "bcf3b1ddeafc46fe8ba4a43323bc1c90": {
          "model_module": "@jupyter-widgets/base",
          "model_name": "LayoutModel",
          "model_module_version": "1.2.0",
          "state": {
            "_model_module": "@jupyter-widgets/base",
            "_model_module_version": "1.2.0",
            "_model_name": "LayoutModel",
            "_view_count": null,
            "_view_module": "@jupyter-widgets/base",
            "_view_module_version": "1.2.0",
            "_view_name": "LayoutView",
            "align_content": null,
            "align_items": null,
            "align_self": null,
            "border": null,
            "bottom": null,
            "display": null,
            "flex": null,
            "flex_flow": null,
            "grid_area": null,
            "grid_auto_columns": null,
            "grid_auto_flow": null,
            "grid_auto_rows": null,
            "grid_column": null,
            "grid_gap": null,
            "grid_row": null,
            "grid_template_areas": null,
            "grid_template_columns": null,
            "grid_template_rows": null,
            "height": null,
            "justify_content": null,
            "justify_items": null,
            "left": null,
            "margin": null,
            "max_height": null,
            "max_width": null,
            "min_height": null,
            "min_width": null,
            "object_fit": null,
            "object_position": null,
            "order": null,
            "overflow": null,
            "overflow_x": null,
            "overflow_y": null,
            "padding": null,
            "right": null,
            "top": null,
            "visibility": null,
            "width": null
          }
        },
        "5bccd4f006744553ab8fccd1541dc401": {
          "model_module": "@jupyter-widgets/controls",
          "model_name": "DescriptionStyleModel",
          "model_module_version": "1.5.0",
          "state": {
            "_model_module": "@jupyter-widgets/controls",
            "_model_module_version": "1.5.0",
            "_model_name": "DescriptionStyleModel",
            "_view_count": null,
            "_view_module": "@jupyter-widgets/base",
            "_view_module_version": "1.2.0",
            "_view_name": "StyleView",
            "description_width": ""
          }
        },
        "3527b23d21d64a01a0a59422b484308b": {
          "model_module": "@jupyter-widgets/base",
          "model_name": "LayoutModel",
          "model_module_version": "1.2.0",
          "state": {
            "_model_module": "@jupyter-widgets/base",
            "_model_module_version": "1.2.0",
            "_model_name": "LayoutModel",
            "_view_count": null,
            "_view_module": "@jupyter-widgets/base",
            "_view_module_version": "1.2.0",
            "_view_name": "LayoutView",
            "align_content": null,
            "align_items": null,
            "align_self": null,
            "border": null,
            "bottom": null,
            "display": null,
            "flex": null,
            "flex_flow": null,
            "grid_area": null,
            "grid_auto_columns": null,
            "grid_auto_flow": null,
            "grid_auto_rows": null,
            "grid_column": null,
            "grid_gap": null,
            "grid_row": null,
            "grid_template_areas": null,
            "grid_template_columns": null,
            "grid_template_rows": null,
            "height": null,
            "justify_content": null,
            "justify_items": null,
            "left": null,
            "margin": null,
            "max_height": null,
            "max_width": null,
            "min_height": null,
            "min_width": null,
            "object_fit": null,
            "object_position": null,
            "order": null,
            "overflow": null,
            "overflow_x": null,
            "overflow_y": null,
            "padding": null,
            "right": null,
            "top": null,
            "visibility": null,
            "width": null
          }
        },
        "380ae9b900f749f5b7f15f8bc2a48415": {
          "model_module": "@jupyter-widgets/controls",
          "model_name": "ProgressStyleModel",
          "model_module_version": "1.5.0",
          "state": {
            "_model_module": "@jupyter-widgets/controls",
            "_model_module_version": "1.5.0",
            "_model_name": "ProgressStyleModel",
            "_view_count": null,
            "_view_module": "@jupyter-widgets/base",
            "_view_module_version": "1.2.0",
            "_view_name": "StyleView",
            "bar_color": null,
            "description_width": ""
          }
        },
        "7f71153f8d8940729ec32bbe422086bf": {
          "model_module": "@jupyter-widgets/base",
          "model_name": "LayoutModel",
          "model_module_version": "1.2.0",
          "state": {
            "_model_module": "@jupyter-widgets/base",
            "_model_module_version": "1.2.0",
            "_model_name": "LayoutModel",
            "_view_count": null,
            "_view_module": "@jupyter-widgets/base",
            "_view_module_version": "1.2.0",
            "_view_name": "LayoutView",
            "align_content": null,
            "align_items": null,
            "align_self": null,
            "border": null,
            "bottom": null,
            "display": null,
            "flex": null,
            "flex_flow": null,
            "grid_area": null,
            "grid_auto_columns": null,
            "grid_auto_flow": null,
            "grid_auto_rows": null,
            "grid_column": null,
            "grid_gap": null,
            "grid_row": null,
            "grid_template_areas": null,
            "grid_template_columns": null,
            "grid_template_rows": null,
            "height": null,
            "justify_content": null,
            "justify_items": null,
            "left": null,
            "margin": null,
            "max_height": null,
            "max_width": null,
            "min_height": null,
            "min_width": null,
            "object_fit": null,
            "object_position": null,
            "order": null,
            "overflow": null,
            "overflow_x": null,
            "overflow_y": null,
            "padding": null,
            "right": null,
            "top": null,
            "visibility": null,
            "width": null
          }
        },
        "f885293193194867950f36e320ff3841": {
          "model_module": "@jupyter-widgets/controls",
          "model_name": "DescriptionStyleModel",
          "model_module_version": "1.5.0",
          "state": {
            "_model_module": "@jupyter-widgets/controls",
            "_model_module_version": "1.5.0",
            "_model_name": "DescriptionStyleModel",
            "_view_count": null,
            "_view_module": "@jupyter-widgets/base",
            "_view_module_version": "1.2.0",
            "_view_name": "StyleView",
            "description_width": ""
          }
        },
        "9522c99592eb4136a02d00b6f24966ac": {
          "model_module": "@jupyter-widgets/controls",
          "model_name": "HBoxModel",
          "model_module_version": "1.5.0",
          "state": {
            "_dom_classes": [],
            "_model_module": "@jupyter-widgets/controls",
            "_model_module_version": "1.5.0",
            "_model_name": "HBoxModel",
            "_view_count": null,
            "_view_module": "@jupyter-widgets/controls",
            "_view_module_version": "1.5.0",
            "_view_name": "HBoxView",
            "box_style": "",
            "children": [
              "IPY_MODEL_df37bb0fc7b84f8ab8f18e16ec0faf7d",
              "IPY_MODEL_cdcf6f7719644682ae2ea0e6d5857859",
              "IPY_MODEL_f9a32e4f276540259a05fe149d98cf3b"
            ],
            "layout": "IPY_MODEL_050bceea1af04e2fba45a0a38b0fd120"
          }
        },
        "df37bb0fc7b84f8ab8f18e16ec0faf7d": {
          "model_module": "@jupyter-widgets/controls",
          "model_name": "HTMLModel",
          "model_module_version": "1.5.0",
          "state": {
            "_dom_classes": [],
            "_model_module": "@jupyter-widgets/controls",
            "_model_module_version": "1.5.0",
            "_model_name": "HTMLModel",
            "_view_count": null,
            "_view_module": "@jupyter-widgets/controls",
            "_view_module_version": "1.5.0",
            "_view_name": "HTMLView",
            "description": "",
            "description_tooltip": null,
            "layout": "IPY_MODEL_f2d8f07ea0cc4628b8c2c4be4dbda93f",
            "placeholder": "​",
            "style": "IPY_MODEL_b29b32767f23427183e4db03c618ad34",
            "value": "Downloading config.json: 100%"
          }
        },
        "cdcf6f7719644682ae2ea0e6d5857859": {
          "model_module": "@jupyter-widgets/controls",
          "model_name": "FloatProgressModel",
          "model_module_version": "1.5.0",
          "state": {
            "_dom_classes": [],
            "_model_module": "@jupyter-widgets/controls",
            "_model_module_version": "1.5.0",
            "_model_name": "FloatProgressModel",
            "_view_count": null,
            "_view_module": "@jupyter-widgets/controls",
            "_view_module_version": "1.5.0",
            "_view_name": "ProgressView",
            "bar_style": "success",
            "description": "",
            "description_tooltip": null,
            "layout": "IPY_MODEL_0ef0848d81fc400080c941efb16b0d86",
            "max": 953,
            "min": 0,
            "orientation": "horizontal",
            "style": "IPY_MODEL_92f32cc5c794458eb8e75afd9a7560f1",
            "value": 953
          }
        },
        "f9a32e4f276540259a05fe149d98cf3b": {
          "model_module": "@jupyter-widgets/controls",
          "model_name": "HTMLModel",
          "model_module_version": "1.5.0",
          "state": {
            "_dom_classes": [],
            "_model_module": "@jupyter-widgets/controls",
            "_model_module_version": "1.5.0",
            "_model_name": "HTMLModel",
            "_view_count": null,
            "_view_module": "@jupyter-widgets/controls",
            "_view_module_version": "1.5.0",
            "_view_name": "HTMLView",
            "description": "",
            "description_tooltip": null,
            "layout": "IPY_MODEL_c611ec2b033344df88cab73e912d8bd9",
            "placeholder": "​",
            "style": "IPY_MODEL_52f36f7ddbbe45e1a370b8923a552cdb",
            "value": " 953/953 [00:00&lt;00:00, 20.3kB/s]"
          }
        },
        "050bceea1af04e2fba45a0a38b0fd120": {
          "model_module": "@jupyter-widgets/base",
          "model_name": "LayoutModel",
          "model_module_version": "1.2.0",
          "state": {
            "_model_module": "@jupyter-widgets/base",
            "_model_module_version": "1.2.0",
            "_model_name": "LayoutModel",
            "_view_count": null,
            "_view_module": "@jupyter-widgets/base",
            "_view_module_version": "1.2.0",
            "_view_name": "LayoutView",
            "align_content": null,
            "align_items": null,
            "align_self": null,
            "border": null,
            "bottom": null,
            "display": null,
            "flex": null,
            "flex_flow": null,
            "grid_area": null,
            "grid_auto_columns": null,
            "grid_auto_flow": null,
            "grid_auto_rows": null,
            "grid_column": null,
            "grid_gap": null,
            "grid_row": null,
            "grid_template_areas": null,
            "grid_template_columns": null,
            "grid_template_rows": null,
            "height": null,
            "justify_content": null,
            "justify_items": null,
            "left": null,
            "margin": null,
            "max_height": null,
            "max_width": null,
            "min_height": null,
            "min_width": null,
            "object_fit": null,
            "object_position": null,
            "order": null,
            "overflow": null,
            "overflow_x": null,
            "overflow_y": null,
            "padding": null,
            "right": null,
            "top": null,
            "visibility": null,
            "width": null
          }
        },
        "f2d8f07ea0cc4628b8c2c4be4dbda93f": {
          "model_module": "@jupyter-widgets/base",
          "model_name": "LayoutModel",
          "model_module_version": "1.2.0",
          "state": {
            "_model_module": "@jupyter-widgets/base",
            "_model_module_version": "1.2.0",
            "_model_name": "LayoutModel",
            "_view_count": null,
            "_view_module": "@jupyter-widgets/base",
            "_view_module_version": "1.2.0",
            "_view_name": "LayoutView",
            "align_content": null,
            "align_items": null,
            "align_self": null,
            "border": null,
            "bottom": null,
            "display": null,
            "flex": null,
            "flex_flow": null,
            "grid_area": null,
            "grid_auto_columns": null,
            "grid_auto_flow": null,
            "grid_auto_rows": null,
            "grid_column": null,
            "grid_gap": null,
            "grid_row": null,
            "grid_template_areas": null,
            "grid_template_columns": null,
            "grid_template_rows": null,
            "height": null,
            "justify_content": null,
            "justify_items": null,
            "left": null,
            "margin": null,
            "max_height": null,
            "max_width": null,
            "min_height": null,
            "min_width": null,
            "object_fit": null,
            "object_position": null,
            "order": null,
            "overflow": null,
            "overflow_x": null,
            "overflow_y": null,
            "padding": null,
            "right": null,
            "top": null,
            "visibility": null,
            "width": null
          }
        },
        "b29b32767f23427183e4db03c618ad34": {
          "model_module": "@jupyter-widgets/controls",
          "model_name": "DescriptionStyleModel",
          "model_module_version": "1.5.0",
          "state": {
            "_model_module": "@jupyter-widgets/controls",
            "_model_module_version": "1.5.0",
            "_model_name": "DescriptionStyleModel",
            "_view_count": null,
            "_view_module": "@jupyter-widgets/base",
            "_view_module_version": "1.2.0",
            "_view_name": "StyleView",
            "description_width": ""
          }
        },
        "0ef0848d81fc400080c941efb16b0d86": {
          "model_module": "@jupyter-widgets/base",
          "model_name": "LayoutModel",
          "model_module_version": "1.2.0",
          "state": {
            "_model_module": "@jupyter-widgets/base",
            "_model_module_version": "1.2.0",
            "_model_name": "LayoutModel",
            "_view_count": null,
            "_view_module": "@jupyter-widgets/base",
            "_view_module_version": "1.2.0",
            "_view_name": "LayoutView",
            "align_content": null,
            "align_items": null,
            "align_self": null,
            "border": null,
            "bottom": null,
            "display": null,
            "flex": null,
            "flex_flow": null,
            "grid_area": null,
            "grid_auto_columns": null,
            "grid_auto_flow": null,
            "grid_auto_rows": null,
            "grid_column": null,
            "grid_gap": null,
            "grid_row": null,
            "grid_template_areas": null,
            "grid_template_columns": null,
            "grid_template_rows": null,
            "height": null,
            "justify_content": null,
            "justify_items": null,
            "left": null,
            "margin": null,
            "max_height": null,
            "max_width": null,
            "min_height": null,
            "min_width": null,
            "object_fit": null,
            "object_position": null,
            "order": null,
            "overflow": null,
            "overflow_x": null,
            "overflow_y": null,
            "padding": null,
            "right": null,
            "top": null,
            "visibility": null,
            "width": null
          }
        },
        "92f32cc5c794458eb8e75afd9a7560f1": {
          "model_module": "@jupyter-widgets/controls",
          "model_name": "ProgressStyleModel",
          "model_module_version": "1.5.0",
          "state": {
            "_model_module": "@jupyter-widgets/controls",
            "_model_module_version": "1.5.0",
            "_model_name": "ProgressStyleModel",
            "_view_count": null,
            "_view_module": "@jupyter-widgets/base",
            "_view_module_version": "1.2.0",
            "_view_name": "StyleView",
            "bar_color": null,
            "description_width": ""
          }
        },
        "c611ec2b033344df88cab73e912d8bd9": {
          "model_module": "@jupyter-widgets/base",
          "model_name": "LayoutModel",
          "model_module_version": "1.2.0",
          "state": {
            "_model_module": "@jupyter-widgets/base",
            "_model_module_version": "1.2.0",
            "_model_name": "LayoutModel",
            "_view_count": null,
            "_view_module": "@jupyter-widgets/base",
            "_view_module_version": "1.2.0",
            "_view_name": "LayoutView",
            "align_content": null,
            "align_items": null,
            "align_self": null,
            "border": null,
            "bottom": null,
            "display": null,
            "flex": null,
            "flex_flow": null,
            "grid_area": null,
            "grid_auto_columns": null,
            "grid_auto_flow": null,
            "grid_auto_rows": null,
            "grid_column": null,
            "grid_gap": null,
            "grid_row": null,
            "grid_template_areas": null,
            "grid_template_columns": null,
            "grid_template_rows": null,
            "height": null,
            "justify_content": null,
            "justify_items": null,
            "left": null,
            "margin": null,
            "max_height": null,
            "max_width": null,
            "min_height": null,
            "min_width": null,
            "object_fit": null,
            "object_position": null,
            "order": null,
            "overflow": null,
            "overflow_x": null,
            "overflow_y": null,
            "padding": null,
            "right": null,
            "top": null,
            "visibility": null,
            "width": null
          }
        },
        "52f36f7ddbbe45e1a370b8923a552cdb": {
          "model_module": "@jupyter-widgets/controls",
          "model_name": "DescriptionStyleModel",
          "model_module_version": "1.5.0",
          "state": {
            "_model_module": "@jupyter-widgets/controls",
            "_model_module_version": "1.5.0",
            "_model_name": "DescriptionStyleModel",
            "_view_count": null,
            "_view_module": "@jupyter-widgets/base",
            "_view_module_version": "1.2.0",
            "_view_name": "StyleView",
            "description_width": ""
          }
        },
        "59ad1155d96449a08d54f110ccdc115f": {
          "model_module": "@jupyter-widgets/controls",
          "model_name": "HBoxModel",
          "model_module_version": "1.5.0",
          "state": {
            "_dom_classes": [],
            "_model_module": "@jupyter-widgets/controls",
            "_model_module_version": "1.5.0",
            "_model_name": "HBoxModel",
            "_view_count": null,
            "_view_module": "@jupyter-widgets/controls",
            "_view_module_version": "1.5.0",
            "_view_name": "HBoxView",
            "box_style": "",
            "children": [
              "IPY_MODEL_83ca557133854bb399ee9741432e8cbf",
              "IPY_MODEL_14de86252778497daf9e93a7826d5664",
              "IPY_MODEL_f3c2d7bd949949d7a71dc5323de784f3"
            ],
            "layout": "IPY_MODEL_ca0b981477b44d9e877dae2d89b90cfb"
          }
        },
        "83ca557133854bb399ee9741432e8cbf": {
          "model_module": "@jupyter-widgets/controls",
          "model_name": "HTMLModel",
          "model_module_version": "1.5.0",
          "state": {
            "_dom_classes": [],
            "_model_module": "@jupyter-widgets/controls",
            "_model_module_version": "1.5.0",
            "_model_name": "HTMLModel",
            "_view_count": null,
            "_view_module": "@jupyter-widgets/controls",
            "_view_module_version": "1.5.0",
            "_view_name": "HTMLView",
            "description": "",
            "description_tooltip": null,
            "layout": "IPY_MODEL_226722f9f12a4bf5a56042c565af1e27",
            "placeholder": "​",
            "style": "IPY_MODEL_4bb0e58bafa94706a901f0e89984b69a",
            "value": "Downloading vocab.txt: 100%"
          }
        },
        "14de86252778497daf9e93a7826d5664": {
          "model_module": "@jupyter-widgets/controls",
          "model_name": "FloatProgressModel",
          "model_module_version": "1.5.0",
          "state": {
            "_dom_classes": [],
            "_model_module": "@jupyter-widgets/controls",
            "_model_module_version": "1.5.0",
            "_model_name": "FloatProgressModel",
            "_view_count": null,
            "_view_module": "@jupyter-widgets/controls",
            "_view_module_version": "1.5.0",
            "_view_name": "ProgressView",
            "bar_style": "success",
            "description": "",
            "description_tooltip": null,
            "layout": "IPY_MODEL_07b7198af30e432aacafe1cbce6dd275",
            "max": 871891,
            "min": 0,
            "orientation": "horizontal",
            "style": "IPY_MODEL_96eef6b9a58c4e99a14e6317924e0e36",
            "value": 871891
          }
        },
        "f3c2d7bd949949d7a71dc5323de784f3": {
          "model_module": "@jupyter-widgets/controls",
          "model_name": "HTMLModel",
          "model_module_version": "1.5.0",
          "state": {
            "_dom_classes": [],
            "_model_module": "@jupyter-widgets/controls",
            "_model_module_version": "1.5.0",
            "_model_name": "HTMLModel",
            "_view_count": null,
            "_view_module": "@jupyter-widgets/controls",
            "_view_module_version": "1.5.0",
            "_view_name": "HTMLView",
            "description": "",
            "description_tooltip": null,
            "layout": "IPY_MODEL_3cb6e6dddcb444988fecc7224e0c6008",
            "placeholder": "​",
            "style": "IPY_MODEL_64cb996ec42a400c9b1cb75bc7e0e8e1",
            "value": " 851k/851k [00:00&lt;00:00, 938kB/s]"
          }
        },
        "ca0b981477b44d9e877dae2d89b90cfb": {
          "model_module": "@jupyter-widgets/base",
          "model_name": "LayoutModel",
          "model_module_version": "1.2.0",
          "state": {
            "_model_module": "@jupyter-widgets/base",
            "_model_module_version": "1.2.0",
            "_model_name": "LayoutModel",
            "_view_count": null,
            "_view_module": "@jupyter-widgets/base",
            "_view_module_version": "1.2.0",
            "_view_name": "LayoutView",
            "align_content": null,
            "align_items": null,
            "align_self": null,
            "border": null,
            "bottom": null,
            "display": null,
            "flex": null,
            "flex_flow": null,
            "grid_area": null,
            "grid_auto_columns": null,
            "grid_auto_flow": null,
            "grid_auto_rows": null,
            "grid_column": null,
            "grid_gap": null,
            "grid_row": null,
            "grid_template_areas": null,
            "grid_template_columns": null,
            "grid_template_rows": null,
            "height": null,
            "justify_content": null,
            "justify_items": null,
            "left": null,
            "margin": null,
            "max_height": null,
            "max_width": null,
            "min_height": null,
            "min_width": null,
            "object_fit": null,
            "object_position": null,
            "order": null,
            "overflow": null,
            "overflow_x": null,
            "overflow_y": null,
            "padding": null,
            "right": null,
            "top": null,
            "visibility": null,
            "width": null
          }
        },
        "226722f9f12a4bf5a56042c565af1e27": {
          "model_module": "@jupyter-widgets/base",
          "model_name": "LayoutModel",
          "model_module_version": "1.2.0",
          "state": {
            "_model_module": "@jupyter-widgets/base",
            "_model_module_version": "1.2.0",
            "_model_name": "LayoutModel",
            "_view_count": null,
            "_view_module": "@jupyter-widgets/base",
            "_view_module_version": "1.2.0",
            "_view_name": "LayoutView",
            "align_content": null,
            "align_items": null,
            "align_self": null,
            "border": null,
            "bottom": null,
            "display": null,
            "flex": null,
            "flex_flow": null,
            "grid_area": null,
            "grid_auto_columns": null,
            "grid_auto_flow": null,
            "grid_auto_rows": null,
            "grid_column": null,
            "grid_gap": null,
            "grid_row": null,
            "grid_template_areas": null,
            "grid_template_columns": null,
            "grid_template_rows": null,
            "height": null,
            "justify_content": null,
            "justify_items": null,
            "left": null,
            "margin": null,
            "max_height": null,
            "max_width": null,
            "min_height": null,
            "min_width": null,
            "object_fit": null,
            "object_position": null,
            "order": null,
            "overflow": null,
            "overflow_x": null,
            "overflow_y": null,
            "padding": null,
            "right": null,
            "top": null,
            "visibility": null,
            "width": null
          }
        },
        "4bb0e58bafa94706a901f0e89984b69a": {
          "model_module": "@jupyter-widgets/controls",
          "model_name": "DescriptionStyleModel",
          "model_module_version": "1.5.0",
          "state": {
            "_model_module": "@jupyter-widgets/controls",
            "_model_module_version": "1.5.0",
            "_model_name": "DescriptionStyleModel",
            "_view_count": null,
            "_view_module": "@jupyter-widgets/base",
            "_view_module_version": "1.2.0",
            "_view_name": "StyleView",
            "description_width": ""
          }
        },
        "07b7198af30e432aacafe1cbce6dd275": {
          "model_module": "@jupyter-widgets/base",
          "model_name": "LayoutModel",
          "model_module_version": "1.2.0",
          "state": {
            "_model_module": "@jupyter-widgets/base",
            "_model_module_version": "1.2.0",
            "_model_name": "LayoutModel",
            "_view_count": null,
            "_view_module": "@jupyter-widgets/base",
            "_view_module_version": "1.2.0",
            "_view_name": "LayoutView",
            "align_content": null,
            "align_items": null,
            "align_self": null,
            "border": null,
            "bottom": null,
            "display": null,
            "flex": null,
            "flex_flow": null,
            "grid_area": null,
            "grid_auto_columns": null,
            "grid_auto_flow": null,
            "grid_auto_rows": null,
            "grid_column": null,
            "grid_gap": null,
            "grid_row": null,
            "grid_template_areas": null,
            "grid_template_columns": null,
            "grid_template_rows": null,
            "height": null,
            "justify_content": null,
            "justify_items": null,
            "left": null,
            "margin": null,
            "max_height": null,
            "max_width": null,
            "min_height": null,
            "min_width": null,
            "object_fit": null,
            "object_position": null,
            "order": null,
            "overflow": null,
            "overflow_x": null,
            "overflow_y": null,
            "padding": null,
            "right": null,
            "top": null,
            "visibility": null,
            "width": null
          }
        },
        "96eef6b9a58c4e99a14e6317924e0e36": {
          "model_module": "@jupyter-widgets/controls",
          "model_name": "ProgressStyleModel",
          "model_module_version": "1.5.0",
          "state": {
            "_model_module": "@jupyter-widgets/controls",
            "_model_module_version": "1.5.0",
            "_model_name": "ProgressStyleModel",
            "_view_count": null,
            "_view_module": "@jupyter-widgets/base",
            "_view_module_version": "1.2.0",
            "_view_name": "StyleView",
            "bar_color": null,
            "description_width": ""
          }
        },
        "3cb6e6dddcb444988fecc7224e0c6008": {
          "model_module": "@jupyter-widgets/base",
          "model_name": "LayoutModel",
          "model_module_version": "1.2.0",
          "state": {
            "_model_module": "@jupyter-widgets/base",
            "_model_module_version": "1.2.0",
            "_model_name": "LayoutModel",
            "_view_count": null,
            "_view_module": "@jupyter-widgets/base",
            "_view_module_version": "1.2.0",
            "_view_name": "LayoutView",
            "align_content": null,
            "align_items": null,
            "align_self": null,
            "border": null,
            "bottom": null,
            "display": null,
            "flex": null,
            "flex_flow": null,
            "grid_area": null,
            "grid_auto_columns": null,
            "grid_auto_flow": null,
            "grid_auto_rows": null,
            "grid_column": null,
            "grid_gap": null,
            "grid_row": null,
            "grid_template_areas": null,
            "grid_template_columns": null,
            "grid_template_rows": null,
            "height": null,
            "justify_content": null,
            "justify_items": null,
            "left": null,
            "margin": null,
            "max_height": null,
            "max_width": null,
            "min_height": null,
            "min_width": null,
            "object_fit": null,
            "object_position": null,
            "order": null,
            "overflow": null,
            "overflow_x": null,
            "overflow_y": null,
            "padding": null,
            "right": null,
            "top": null,
            "visibility": null,
            "width": null
          }
        },
        "64cb996ec42a400c9b1cb75bc7e0e8e1": {
          "model_module": "@jupyter-widgets/controls",
          "model_name": "DescriptionStyleModel",
          "model_module_version": "1.5.0",
          "state": {
            "_model_module": "@jupyter-widgets/controls",
            "_model_module_version": "1.5.0",
            "_model_name": "DescriptionStyleModel",
            "_view_count": null,
            "_view_module": "@jupyter-widgets/base",
            "_view_module_version": "1.2.0",
            "_view_name": "StyleView",
            "description_width": ""
          }
        },
        "9a2c272c24b848658224de84b9290758": {
          "model_module": "@jupyter-widgets/controls",
          "model_name": "HBoxModel",
          "model_module_version": "1.5.0",
          "state": {
            "_dom_classes": [],
            "_model_module": "@jupyter-widgets/controls",
            "_model_module_version": "1.5.0",
            "_model_name": "HBoxModel",
            "_view_count": null,
            "_view_module": "@jupyter-widgets/controls",
            "_view_module_version": "1.5.0",
            "_view_name": "HBoxView",
            "box_style": "",
            "children": [
              "IPY_MODEL_4a0a46adf9fc4d068c858ba3b66d5816",
              "IPY_MODEL_d44a54dd4d544e2cbf68f576b2ad498e",
              "IPY_MODEL_1b690f31d68b445987b25f5703f73278"
            ],
            "layout": "IPY_MODEL_00a6095294b5406abf3e13314e6d389d"
          }
        },
        "4a0a46adf9fc4d068c858ba3b66d5816": {
          "model_module": "@jupyter-widgets/controls",
          "model_name": "HTMLModel",
          "model_module_version": "1.5.0",
          "state": {
            "_dom_classes": [],
            "_model_module": "@jupyter-widgets/controls",
            "_model_module_version": "1.5.0",
            "_model_name": "HTMLModel",
            "_view_count": null,
            "_view_module": "@jupyter-widgets/controls",
            "_view_module_version": "1.5.0",
            "_view_name": "HTMLView",
            "description": "",
            "description_tooltip": null,
            "layout": "IPY_MODEL_16e866d205474ae8b2aca8553b558e85",
            "placeholder": "​",
            "style": "IPY_MODEL_7dbcc590f6e24432a8f0cd51f7c07a70",
            "value": "Downloading special_tokens_map.json: 100%"
          }
        },
        "d44a54dd4d544e2cbf68f576b2ad498e": {
          "model_module": "@jupyter-widgets/controls",
          "model_name": "FloatProgressModel",
          "model_module_version": "1.5.0",
          "state": {
            "_dom_classes": [],
            "_model_module": "@jupyter-widgets/controls",
            "_model_module_version": "1.5.0",
            "_model_name": "FloatProgressModel",
            "_view_count": null,
            "_view_module": "@jupyter-widgets/controls",
            "_view_module_version": "1.5.0",
            "_view_name": "ProgressView",
            "bar_style": "success",
            "description": "",
            "description_tooltip": null,
            "layout": "IPY_MODEL_90efeb4cc0fa4256a7a1475c54fe47e0",
            "max": 112,
            "min": 0,
            "orientation": "horizontal",
            "style": "IPY_MODEL_c3d2318804f1421b9262b8a7dc149afb",
            "value": 112
          }
        },
        "1b690f31d68b445987b25f5703f73278": {
          "model_module": "@jupyter-widgets/controls",
          "model_name": "HTMLModel",
          "model_module_version": "1.5.0",
          "state": {
            "_dom_classes": [],
            "_model_module": "@jupyter-widgets/controls",
            "_model_module_version": "1.5.0",
            "_model_name": "HTMLModel",
            "_view_count": null,
            "_view_module": "@jupyter-widgets/controls",
            "_view_module_version": "1.5.0",
            "_view_name": "HTMLView",
            "description": "",
            "description_tooltip": null,
            "layout": "IPY_MODEL_6f06db9866bb4bca9ebe5da287edae5e",
            "placeholder": "​",
            "style": "IPY_MODEL_ed63655ca7b94e57b319be043d91dfef",
            "value": " 112/112 [00:00&lt;00:00, 3.63kB/s]"
          }
        },
        "00a6095294b5406abf3e13314e6d389d": {
          "model_module": "@jupyter-widgets/base",
          "model_name": "LayoutModel",
          "model_module_version": "1.2.0",
          "state": {
            "_model_module": "@jupyter-widgets/base",
            "_model_module_version": "1.2.0",
            "_model_name": "LayoutModel",
            "_view_count": null,
            "_view_module": "@jupyter-widgets/base",
            "_view_module_version": "1.2.0",
            "_view_name": "LayoutView",
            "align_content": null,
            "align_items": null,
            "align_self": null,
            "border": null,
            "bottom": null,
            "display": null,
            "flex": null,
            "flex_flow": null,
            "grid_area": null,
            "grid_auto_columns": null,
            "grid_auto_flow": null,
            "grid_auto_rows": null,
            "grid_column": null,
            "grid_gap": null,
            "grid_row": null,
            "grid_template_areas": null,
            "grid_template_columns": null,
            "grid_template_rows": null,
            "height": null,
            "justify_content": null,
            "justify_items": null,
            "left": null,
            "margin": null,
            "max_height": null,
            "max_width": null,
            "min_height": null,
            "min_width": null,
            "object_fit": null,
            "object_position": null,
            "order": null,
            "overflow": null,
            "overflow_x": null,
            "overflow_y": null,
            "padding": null,
            "right": null,
            "top": null,
            "visibility": null,
            "width": null
          }
        },
        "16e866d205474ae8b2aca8553b558e85": {
          "model_module": "@jupyter-widgets/base",
          "model_name": "LayoutModel",
          "model_module_version": "1.2.0",
          "state": {
            "_model_module": "@jupyter-widgets/base",
            "_model_module_version": "1.2.0",
            "_model_name": "LayoutModel",
            "_view_count": null,
            "_view_module": "@jupyter-widgets/base",
            "_view_module_version": "1.2.0",
            "_view_name": "LayoutView",
            "align_content": null,
            "align_items": null,
            "align_self": null,
            "border": null,
            "bottom": null,
            "display": null,
            "flex": null,
            "flex_flow": null,
            "grid_area": null,
            "grid_auto_columns": null,
            "grid_auto_flow": null,
            "grid_auto_rows": null,
            "grid_column": null,
            "grid_gap": null,
            "grid_row": null,
            "grid_template_areas": null,
            "grid_template_columns": null,
            "grid_template_rows": null,
            "height": null,
            "justify_content": null,
            "justify_items": null,
            "left": null,
            "margin": null,
            "max_height": null,
            "max_width": null,
            "min_height": null,
            "min_width": null,
            "object_fit": null,
            "object_position": null,
            "order": null,
            "overflow": null,
            "overflow_x": null,
            "overflow_y": null,
            "padding": null,
            "right": null,
            "top": null,
            "visibility": null,
            "width": null
          }
        },
        "7dbcc590f6e24432a8f0cd51f7c07a70": {
          "model_module": "@jupyter-widgets/controls",
          "model_name": "DescriptionStyleModel",
          "model_module_version": "1.5.0",
          "state": {
            "_model_module": "@jupyter-widgets/controls",
            "_model_module_version": "1.5.0",
            "_model_name": "DescriptionStyleModel",
            "_view_count": null,
            "_view_module": "@jupyter-widgets/base",
            "_view_module_version": "1.2.0",
            "_view_name": "StyleView",
            "description_width": ""
          }
        },
        "90efeb4cc0fa4256a7a1475c54fe47e0": {
          "model_module": "@jupyter-widgets/base",
          "model_name": "LayoutModel",
          "model_module_version": "1.2.0",
          "state": {
            "_model_module": "@jupyter-widgets/base",
            "_model_module_version": "1.2.0",
            "_model_name": "LayoutModel",
            "_view_count": null,
            "_view_module": "@jupyter-widgets/base",
            "_view_module_version": "1.2.0",
            "_view_name": "LayoutView",
            "align_content": null,
            "align_items": null,
            "align_self": null,
            "border": null,
            "bottom": null,
            "display": null,
            "flex": null,
            "flex_flow": null,
            "grid_area": null,
            "grid_auto_columns": null,
            "grid_auto_flow": null,
            "grid_auto_rows": null,
            "grid_column": null,
            "grid_gap": null,
            "grid_row": null,
            "grid_template_areas": null,
            "grid_template_columns": null,
            "grid_template_rows": null,
            "height": null,
            "justify_content": null,
            "justify_items": null,
            "left": null,
            "margin": null,
            "max_height": null,
            "max_width": null,
            "min_height": null,
            "min_width": null,
            "object_fit": null,
            "object_position": null,
            "order": null,
            "overflow": null,
            "overflow_x": null,
            "overflow_y": null,
            "padding": null,
            "right": null,
            "top": null,
            "visibility": null,
            "width": null
          }
        },
        "c3d2318804f1421b9262b8a7dc149afb": {
          "model_module": "@jupyter-widgets/controls",
          "model_name": "ProgressStyleModel",
          "model_module_version": "1.5.0",
          "state": {
            "_model_module": "@jupyter-widgets/controls",
            "_model_module_version": "1.5.0",
            "_model_name": "ProgressStyleModel",
            "_view_count": null,
            "_view_module": "@jupyter-widgets/base",
            "_view_module_version": "1.2.0",
            "_view_name": "StyleView",
            "bar_color": null,
            "description_width": ""
          }
        },
        "6f06db9866bb4bca9ebe5da287edae5e": {
          "model_module": "@jupyter-widgets/base",
          "model_name": "LayoutModel",
          "model_module_version": "1.2.0",
          "state": {
            "_model_module": "@jupyter-widgets/base",
            "_model_module_version": "1.2.0",
            "_model_name": "LayoutModel",
            "_view_count": null,
            "_view_module": "@jupyter-widgets/base",
            "_view_module_version": "1.2.0",
            "_view_name": "LayoutView",
            "align_content": null,
            "align_items": null,
            "align_self": null,
            "border": null,
            "bottom": null,
            "display": null,
            "flex": null,
            "flex_flow": null,
            "grid_area": null,
            "grid_auto_columns": null,
            "grid_auto_flow": null,
            "grid_auto_rows": null,
            "grid_column": null,
            "grid_gap": null,
            "grid_row": null,
            "grid_template_areas": null,
            "grid_template_columns": null,
            "grid_template_rows": null,
            "height": null,
            "justify_content": null,
            "justify_items": null,
            "left": null,
            "margin": null,
            "max_height": null,
            "max_width": null,
            "min_height": null,
            "min_width": null,
            "object_fit": null,
            "object_position": null,
            "order": null,
            "overflow": null,
            "overflow_x": null,
            "overflow_y": null,
            "padding": null,
            "right": null,
            "top": null,
            "visibility": null,
            "width": null
          }
        },
        "ed63655ca7b94e57b319be043d91dfef": {
          "model_module": "@jupyter-widgets/controls",
          "model_name": "DescriptionStyleModel",
          "model_module_version": "1.5.0",
          "state": {
            "_model_module": "@jupyter-widgets/controls",
            "_model_module_version": "1.5.0",
            "_model_name": "DescriptionStyleModel",
            "_view_count": null,
            "_view_module": "@jupyter-widgets/base",
            "_view_module_version": "1.2.0",
            "_view_name": "StyleView",
            "description_width": ""
          }
        },
        "04768683b0594260a3705c1fda259f61": {
          "model_module": "@jupyter-widgets/controls",
          "model_name": "HBoxModel",
          "model_module_version": "1.5.0",
          "state": {
            "_dom_classes": [],
            "_model_module": "@jupyter-widgets/controls",
            "_model_module_version": "1.5.0",
            "_model_name": "HBoxModel",
            "_view_count": null,
            "_view_module": "@jupyter-widgets/controls",
            "_view_module_version": "1.5.0",
            "_view_name": "HBoxView",
            "box_style": "",
            "children": [
              "IPY_MODEL_101145d0fcbe42208b269ddc00d99452",
              "IPY_MODEL_675032e9138f4ca79cf5d9a2b4dced80",
              "IPY_MODEL_2716660bf8c541ef8f7757d43e2a24aa"
            ],
            "layout": "IPY_MODEL_7c8268c8266742d28012983acf11d281"
          }
        },
        "101145d0fcbe42208b269ddc00d99452": {
          "model_module": "@jupyter-widgets/controls",
          "model_name": "HTMLModel",
          "model_module_version": "1.5.0",
          "state": {
            "_dom_classes": [],
            "_model_module": "@jupyter-widgets/controls",
            "_model_module_version": "1.5.0",
            "_model_name": "HTMLModel",
            "_view_count": null,
            "_view_module": "@jupyter-widgets/controls",
            "_view_module_version": "1.5.0",
            "_view_name": "HTMLView",
            "description": "",
            "description_tooltip": null,
            "layout": "IPY_MODEL_69d6fbcfed2d41bdb70a96de63906c41",
            "placeholder": "​",
            "style": "IPY_MODEL_636d6da678624f13ad7e34115384da4d",
            "value": "Downloading pytorch_model.bin: 100%"
          }
        },
        "675032e9138f4ca79cf5d9a2b4dced80": {
          "model_module": "@jupyter-widgets/controls",
          "model_name": "FloatProgressModel",
          "model_module_version": "1.5.0",
          "state": {
            "_dom_classes": [],
            "_model_module": "@jupyter-widgets/controls",
            "_model_module_version": "1.5.0",
            "_model_name": "FloatProgressModel",
            "_view_count": null,
            "_view_module": "@jupyter-widgets/controls",
            "_view_module_version": "1.5.0",
            "_view_name": "ProgressView",
            "bar_style": "success",
            "description": "",
            "description_tooltip": null,
            "layout": "IPY_MODEL_0e47945562ba404cb927b9888fcab828",
            "max": 669491321,
            "min": 0,
            "orientation": "horizontal",
            "style": "IPY_MODEL_3f6b1cad93ee41ef8919ced781557f26",
            "value": 669491321
          }
        },
        "2716660bf8c541ef8f7757d43e2a24aa": {
          "model_module": "@jupyter-widgets/controls",
          "model_name": "HTMLModel",
          "model_module_version": "1.5.0",
          "state": {
            "_dom_classes": [],
            "_model_module": "@jupyter-widgets/controls",
            "_model_module_version": "1.5.0",
            "_model_name": "HTMLModel",
            "_view_count": null,
            "_view_module": "@jupyter-widgets/controls",
            "_view_module_version": "1.5.0",
            "_view_name": "HTMLView",
            "description": "",
            "description_tooltip": null,
            "layout": "IPY_MODEL_de9496678d2b4704aa42bb587c8298e2",
            "placeholder": "​",
            "style": "IPY_MODEL_1ed75956cf364450a92735dc3dabdffe",
            "value": " 638M/638M [00:22&lt;00:00, 34.8MB/s]"
          }
        },
        "7c8268c8266742d28012983acf11d281": {
          "model_module": "@jupyter-widgets/base",
          "model_name": "LayoutModel",
          "model_module_version": "1.2.0",
          "state": {
            "_model_module": "@jupyter-widgets/base",
            "_model_module_version": "1.2.0",
            "_model_name": "LayoutModel",
            "_view_count": null,
            "_view_module": "@jupyter-widgets/base",
            "_view_module_version": "1.2.0",
            "_view_name": "LayoutView",
            "align_content": null,
            "align_items": null,
            "align_self": null,
            "border": null,
            "bottom": null,
            "display": null,
            "flex": null,
            "flex_flow": null,
            "grid_area": null,
            "grid_auto_columns": null,
            "grid_auto_flow": null,
            "grid_auto_rows": null,
            "grid_column": null,
            "grid_gap": null,
            "grid_row": null,
            "grid_template_areas": null,
            "grid_template_columns": null,
            "grid_template_rows": null,
            "height": null,
            "justify_content": null,
            "justify_items": null,
            "left": null,
            "margin": null,
            "max_height": null,
            "max_width": null,
            "min_height": null,
            "min_width": null,
            "object_fit": null,
            "object_position": null,
            "order": null,
            "overflow": null,
            "overflow_x": null,
            "overflow_y": null,
            "padding": null,
            "right": null,
            "top": null,
            "visibility": null,
            "width": null
          }
        },
        "69d6fbcfed2d41bdb70a96de63906c41": {
          "model_module": "@jupyter-widgets/base",
          "model_name": "LayoutModel",
          "model_module_version": "1.2.0",
          "state": {
            "_model_module": "@jupyter-widgets/base",
            "_model_module_version": "1.2.0",
            "_model_name": "LayoutModel",
            "_view_count": null,
            "_view_module": "@jupyter-widgets/base",
            "_view_module_version": "1.2.0",
            "_view_name": "LayoutView",
            "align_content": null,
            "align_items": null,
            "align_self": null,
            "border": null,
            "bottom": null,
            "display": null,
            "flex": null,
            "flex_flow": null,
            "grid_area": null,
            "grid_auto_columns": null,
            "grid_auto_flow": null,
            "grid_auto_rows": null,
            "grid_column": null,
            "grid_gap": null,
            "grid_row": null,
            "grid_template_areas": null,
            "grid_template_columns": null,
            "grid_template_rows": null,
            "height": null,
            "justify_content": null,
            "justify_items": null,
            "left": null,
            "margin": null,
            "max_height": null,
            "max_width": null,
            "min_height": null,
            "min_width": null,
            "object_fit": null,
            "object_position": null,
            "order": null,
            "overflow": null,
            "overflow_x": null,
            "overflow_y": null,
            "padding": null,
            "right": null,
            "top": null,
            "visibility": null,
            "width": null
          }
        },
        "636d6da678624f13ad7e34115384da4d": {
          "model_module": "@jupyter-widgets/controls",
          "model_name": "DescriptionStyleModel",
          "model_module_version": "1.5.0",
          "state": {
            "_model_module": "@jupyter-widgets/controls",
            "_model_module_version": "1.5.0",
            "_model_name": "DescriptionStyleModel",
            "_view_count": null,
            "_view_module": "@jupyter-widgets/base",
            "_view_module_version": "1.2.0",
            "_view_name": "StyleView",
            "description_width": ""
          }
        },
        "0e47945562ba404cb927b9888fcab828": {
          "model_module": "@jupyter-widgets/base",
          "model_name": "LayoutModel",
          "model_module_version": "1.2.0",
          "state": {
            "_model_module": "@jupyter-widgets/base",
            "_model_module_version": "1.2.0",
            "_model_name": "LayoutModel",
            "_view_count": null,
            "_view_module": "@jupyter-widgets/base",
            "_view_module_version": "1.2.0",
            "_view_name": "LayoutView",
            "align_content": null,
            "align_items": null,
            "align_self": null,
            "border": null,
            "bottom": null,
            "display": null,
            "flex": null,
            "flex_flow": null,
            "grid_area": null,
            "grid_auto_columns": null,
            "grid_auto_flow": null,
            "grid_auto_rows": null,
            "grid_column": null,
            "grid_gap": null,
            "grid_row": null,
            "grid_template_areas": null,
            "grid_template_columns": null,
            "grid_template_rows": null,
            "height": null,
            "justify_content": null,
            "justify_items": null,
            "left": null,
            "margin": null,
            "max_height": null,
            "max_width": null,
            "min_height": null,
            "min_width": null,
            "object_fit": null,
            "object_position": null,
            "order": null,
            "overflow": null,
            "overflow_x": null,
            "overflow_y": null,
            "padding": null,
            "right": null,
            "top": null,
            "visibility": null,
            "width": null
          }
        },
        "3f6b1cad93ee41ef8919ced781557f26": {
          "model_module": "@jupyter-widgets/controls",
          "model_name": "ProgressStyleModel",
          "model_module_version": "1.5.0",
          "state": {
            "_model_module": "@jupyter-widgets/controls",
            "_model_module_version": "1.5.0",
            "_model_name": "ProgressStyleModel",
            "_view_count": null,
            "_view_module": "@jupyter-widgets/base",
            "_view_module_version": "1.2.0",
            "_view_name": "StyleView",
            "bar_color": null,
            "description_width": ""
          }
        },
        "de9496678d2b4704aa42bb587c8298e2": {
          "model_module": "@jupyter-widgets/base",
          "model_name": "LayoutModel",
          "model_module_version": "1.2.0",
          "state": {
            "_model_module": "@jupyter-widgets/base",
            "_model_module_version": "1.2.0",
            "_model_name": "LayoutModel",
            "_view_count": null,
            "_view_module": "@jupyter-widgets/base",
            "_view_module_version": "1.2.0",
            "_view_name": "LayoutView",
            "align_content": null,
            "align_items": null,
            "align_self": null,
            "border": null,
            "bottom": null,
            "display": null,
            "flex": null,
            "flex_flow": null,
            "grid_area": null,
            "grid_auto_columns": null,
            "grid_auto_flow": null,
            "grid_auto_rows": null,
            "grid_column": null,
            "grid_gap": null,
            "grid_row": null,
            "grid_template_areas": null,
            "grid_template_columns": null,
            "grid_template_rows": null,
            "height": null,
            "justify_content": null,
            "justify_items": null,
            "left": null,
            "margin": null,
            "max_height": null,
            "max_width": null,
            "min_height": null,
            "min_width": null,
            "object_fit": null,
            "object_position": null,
            "order": null,
            "overflow": null,
            "overflow_x": null,
            "overflow_y": null,
            "padding": null,
            "right": null,
            "top": null,
            "visibility": null,
            "width": null
          }
        },
        "1ed75956cf364450a92735dc3dabdffe": {
          "model_module": "@jupyter-widgets/controls",
          "model_name": "DescriptionStyleModel",
          "model_module_version": "1.5.0",
          "state": {
            "_model_module": "@jupyter-widgets/controls",
            "_model_module_version": "1.5.0",
            "_model_name": "DescriptionStyleModel",
            "_view_count": null,
            "_view_module": "@jupyter-widgets/base",
            "_view_module_version": "1.2.0",
            "_view_name": "StyleView",
            "description_width": ""
          }
        }
      }
    },
    "accelerator": "GPU",
    "gpuClass": "standard"
  },
  "nbformat": 4,
  "nbformat_minor": 0
}